{
 "cells": [
  {
   "cell_type": "markdown",
   "metadata": {
    "id": "4bW2sBAObr7M"
   },
   "source": [
    "# Logistic Regression"
   ]
  },
  {
   "cell_type": "code",
   "execution_count": 1,
   "metadata": {},
   "outputs": [
    {
     "name": "stdout",
     "output_type": "stream",
     "text": [
      "Collecting package metadata (current_repodata.json): ...working... done\n",
      "Solving environment: ...working... done\n",
      "\n",
      "## Package Plan ##\n",
      "\n",
      "  environment location: C:\\Users\\prmkz\\anaconda3\n",
      "\n",
      "  added / updated specs:\n",
      "    - jupyter\n",
      "\n",
      "\n",
      "The following packages will be downloaded:\n",
      "\n",
      "    package                    |            build\n",
      "    ---------------------------|-----------------\n",
      "    _anaconda_depends-2023.03  |           py39_0          66 KB\n",
      "    anaconda-custom            |           py39_1           4 KB\n",
      "    arrow-1.2.3                |   py39haa95532_1         158 KB\n",
      "    astroid-2.14.2             |   py39haa95532_0         394 KB\n",
      "    attrs-22.1.0               |   py39haa95532_0          84 KB\n",
      "    autopep8-1.6.0             |     pyhd3eb1b0_1          43 KB\n",
      "    babel-2.11.0               |   py39haa95532_0         6.8 MB\n",
      "    bcrypt-3.2.0               |   py39h2bbff1b_1          37 KB\n",
      "    black-22.6.0               |   py39haa95532_0         244 KB\n",
      "    blosc-1.21.3               |       h6c2663c_0          86 KB\n",
      "    bokeh-2.4.3                |   py39haa95532_0         7.6 MB\n",
      "    bottleneck-1.3.5           |   py39h080aedc_0         106 KB\n",
      "    brotli-1.0.9               |       h2bbff1b_7          18 KB\n",
      "    brotli-bin-1.0.9           |       h2bbff1b_7          19 KB\n",
      "    ca-certificates-2023.01.10 |       haa95532_0         121 KB\n",
      "    certifi-2022.12.7          |   py39haa95532_0         149 KB\n",
      "    cffi-1.15.1                |   py39h2bbff1b_3         238 KB\n",
      "    colorcet-3.0.1             |   py39haa95532_0         1.9 MB\n",
      "    comm-0.1.2                 |   py39haa95532_0          14 KB\n",
      "    conda-content-trust-0.1.3  |   py39haa95532_0          86 KB\n",
      "    conda-package-streaming-0.7.0|   py39haa95532_0          27 KB\n",
      "    conda-repo-cli-1.0.41      |   py39haa95532_0         142 KB\n",
      "    conda-token-0.4.0          |     pyhd3eb1b0_0          13 KB\n",
      "    contourpy-1.0.5            |   py39h59b6b97_0         159 KB\n",
      "    cytoolz-0.12.0             |   py39h2bbff1b_0         288 KB\n",
      "    dask-2023.3.2              |   py39haa95532_0           6 KB\n",
      "    dask-core-2023.3.2         |   py39haa95532_0         2.1 MB\n",
      "    datashader-0.14.4          |   py39haa95532_0        16.8 MB\n",
      "    dill-0.3.6                 |   py39haa95532_0         186 KB\n",
      "    distributed-2023.3.2       |   py39haa95532_0         1.3 MB\n",
      "    docstring-to-markdown-0.11 |   py39haa95532_0          31 KB\n",
      "    docutils-0.18.1            |   py39haa95532_3         666 KB\n",
      "    flit-core-3.8.0            |   py39haa95532_0          85 KB\n",
      "    fsspec-2023.3.0            |   py39haa95532_0         234 KB\n",
      "    future-0.18.3              |   py39haa95532_0         704 KB\n",
      "    giflib-5.2.1               |       h8cc25b3_3          88 KB\n",
      "    glib-2.69.1                |       h5dc1a3c_2         1.8 MB\n",
      "    greenlet-2.0.1             |   py39hd77b12b_0         179 KB\n",
      "    gst-plugins-base-1.18.5    |       h9e645db_0         1.7 MB\n",
      "    hdf5-1.10.6                |       h1756f20_1         7.9 MB\n",
      "    holoviews-1.15.4           |   py39haa95532_0         4.4 MB\n",
      "    hvplot-0.8.2               |   py39haa95532_0         3.1 MB\n",
      "    icc_rt-2022.1.0            |       h6049295_2         6.5 MB\n",
      "    idna-3.4                   |   py39haa95532_0          93 KB\n",
      "    imageio-2.26.0             |   py39haa95532_0         3.4 MB\n",
      "    imagesize-1.4.1            |   py39haa95532_0          14 KB\n",
      "    imbalanced-learn-0.10.1    |   py39haa95532_0         273 KB\n",
      "    importlib-metadata-6.0.0   |   py39haa95532_0          39 KB\n",
      "    importlib_metadata-6.0.0   |       hd3eb1b0_0           8 KB\n",
      "    intake-0.6.8               |   py39haa95532_0         225 KB\n",
      "    ipykernel-6.19.2           |   py39hd4e2768_0         218 KB\n",
      "    ipython-8.10.0             |   py39haa95532_0         1.1 MB\n",
      "    ipywidgets-8.0.4           |   py39haa95532_0         199 KB\n",
      "    jaraco.classes-3.2.1       |     pyhd3eb1b0_0           9 KB\n",
      "    jellyfish-0.9.0            |   py39h2bbff1b_0          46 KB\n",
      "    joblib-1.1.1               |   py39haa95532_0         383 KB\n",
      "    jpeg-9e                    |       h2bbff1b_1         320 KB\n",
      "    jsonschema-4.17.3          |   py39haa95532_0         156 KB\n",
      "    jupyter-1.0.0              |   py39haa95532_8           7 KB\n",
      "    jupyter_console-6.6.3      |   py39haa95532_0          63 KB\n",
      "    jupyter_core-5.3.0         |   py39haa95532_0         107 KB\n",
      "    jupyterlab-3.5.3           |   py39haa95532_0         4.0 MB\n",
      "    jupyterlab_widgets-3.0.5   |   py39haa95532_0         179 KB\n",
      "    jxrlib-1.1                 |       he774522_2         337 KB\n",
      "    keyring-23.13.1            |   py39haa95532_0          83 KB\n",
      "    kiwisolver-1.4.4           |   py39hd77b12b_0          60 KB\n",
      "    libarchive-3.6.2           |       hebabd0d_0         1.8 MB\n",
      "    libbrotlidec-1.0.9         |       h2bbff1b_7          30 KB\n",
      "    libbrotlienc-1.0.9         |       h2bbff1b_7         233 KB\n",
      "    libclang-14.0.6            |default_hf4acfee_0         306 KB\n",
      "    libclang13-14.0.6          |default_h8992b79_0        19.8 MB\n",
      "    libcurl-7.88.1             |       h86230a5_0         328 KB\n",
      "    libdeflate-1.17            |       h2bbff1b_0         151 KB\n",
      "    libffi-3.4.2               |       hd77b12b_6         109 KB\n",
      "    liblief-0.12.3             |       hd77b12b_0         2.4 MB\n",
      "    libogg-1.3.5               |       h2bbff1b_1          33 KB\n",
      "    libsodium-1.0.18           |       h62dcd97_0         477 KB\n",
      "    libuv-1.44.2               |       h2bbff1b_0         288 KB\n",
      "    libvorbis-1.3.7            |       he774522_0         202 KB\n",
      "    libxslt-1.1.35             |       h2bbff1b_0         407 KB\n",
      "    llvmlite-0.39.1            |   py39h23ce68f_0        13.3 MB\n",
      "    locket-1.0.0               |   py39haa95532_0          13 KB\n",
      "    lxml-4.9.1                 |   py39h1985fb9_0         936 KB\n",
      "    lz4-3.1.3                  |   py39h2bbff1b_0          96 KB\n",
      "    lz4-c-1.9.4                |       h2bbff1b_0         143 KB\n",
      "    matplotlib-3.7.1           |   py39haa95532_1           9 KB\n",
      "    matplotlib-base-3.7.1      |   py39hf11a4ad_1         6.5 MB\n",
      "    mccabe-0.7.0               |     pyhd3eb1b0_0          11 KB\n",
      "    msgpack-python-1.0.3       |   py39h59b6b97_0          75 KB\n",
      "    nbclassic-0.5.3            |   py39haa95532_0         6.0 MB\n",
      "    nbformat-5.7.0             |   py39haa95532_0         152 KB\n",
      "    nest-asyncio-1.5.6         |   py39haa95532_0          15 KB\n",
      "    networkx-2.8.4             |   py39haa95532_1         2.6 MB\n",
      "    ninja-1.10.2               |       haa95532_5          14 KB\n",
      "    notebook-6.5.3             |   py39haa95532_0         555 KB\n",
      "    notebook-shim-0.2.2        |   py39haa95532_0          23 KB\n",
      "    numexpr-2.8.4              |   py39h5b0cc5e_0         127 KB\n",
      "    numpy-1.23.5               |   py39h3b20f71_0          11 KB\n",
      "    numpy-base-1.23.5          |   py39h4da318b_0         6.0 MB\n",
      "    numpydoc-1.5.0             |   py39haa95532_0          91 KB\n",
      "    openpyxl-3.0.10            |   py39h2bbff1b_0         468 KB\n",
      "    openssl-1.1.1t             |       h2bbff1b_0         5.5 MB\n",
      "    packaging-23.0             |   py39haa95532_0          69 KB\n",
      "    panel-0.14.3               |   py39haa95532_0        12.6 MB\n",
      "    param-1.12.3               |   py39haa95532_0         149 KB\n",
      "    pathlib-1.0.1              |     pyhd3eb1b0_1          17 KB\n",
      "    pcre-8.45                  |       hd77b12b_0         382 KB\n",
      "    pep8-1.7.1                 |   py39haa95532_1          69 KB\n",
      "    pillow-9.4.0               |   py39hd77b12b_0        1000 KB\n",
      "    pip-23.0.1                 |   py39haa95532_0         2.7 MB\n",
      "    pkginfo-1.9.6              |   py39haa95532_0          69 KB\n",
      "    platformdirs-2.5.2         |   py39haa95532_0          24 KB\n",
      "    plotly-5.9.0               |   py39haa95532_0         4.1 MB\n",
      "    ply-3.11                   |   py39haa95532_0          81 KB\n",
      "    pooch-1.4.0                |     pyhd3eb1b0_0          41 KB\n",
      "    prometheus_client-0.14.1   |   py39haa95532_0          89 KB\n",
      "    prompt-toolkit-3.0.36      |   py39haa95532_0         565 KB\n",
      "    prompt_toolkit-3.0.36      |       hd3eb1b0_0           5 KB\n",
      "    py-lief-0.12.3             |   py39hd77b12b_0         2.0 MB\n",
      "    pycodestyle-2.10.0         |   py39haa95532_0          87 KB\n",
      "    pycosat-0.6.4              |   py39h2bbff1b_0          74 KB\n",
      "    pycurl-7.45.2              |   py39hcd4344a_0         133 KB\n",
      "    pydocstyle-6.3.0           |   py39haa95532_0          89 KB\n",
      "    pyflakes-3.0.1             |   py39haa95532_0         138 KB\n",
      "    pyodbc-4.0.34              |   py39hd77b12b_0          64 KB\n",
      "    pyparsing-3.0.9            |   py39haa95532_0         152 KB\n",
      "    pyqt-5.15.7                |   py39hd77b12b_0         3.7 MB\n",
      "    pyqt5-sip-12.11.0          |   py39hd77b12b_0          75 KB\n",
      "    pyqtwebengine-5.15.7       |   py39hd77b12b_0         123 KB\n",
      "    pytables-3.7.0             |   py39h388bc9b_1         2.8 MB\n",
      "    pytest-7.1.2               |   py39haa95532_0         479 KB\n",
      "    python-lsp-black-1.2.1     |   py39haa95532_0          14 KB\n",
      "    python-snappy-0.6.1        |   py39hd77b12b_0          33 KB\n",
      "    pytorch-1.12.1             |cpu_py39h5e1f01c_1        80.5 MB\n",
      "    pytz-2022.7                |   py39haa95532_0         210 KB\n",
      "    pywavelets-1.4.1           |   py39h2bbff1b_0         3.5 MB\n",
      "    qstylizer-0.2.2            |   py39haa95532_0          30 KB\n",
      "    qt-main-5.15.2             |       he8e5bd7_8        59.4 MB\n",
      "    qt-webengine-5.15.9        |       hb9a9bb5_5        48.9 MB\n",
      "    qtawesome-1.2.2            |   py39haa95532_0         1.6 MB\n",
      "    qtconsole-5.4.0            |   py39haa95532_0         209 KB\n",
      "    qtpy-2.2.0                 |   py39haa95532_0         106 KB\n",
      "    qtwebkit-5.212             |       h3ad3cdb_4        10.3 MB\n",
      "    regex-2022.7.9             |   py39h2bbff1b_0         307 KB\n",
      "    requests-2.28.1            |   py39haa95532_1          98 KB\n",
      "    rope-1.7.0                 |   py39haa95532_0         438 KB\n",
      "    rtree-1.0.1                |   py39h2eaa2aa_0          49 KB\n",
      "    scikit-image-0.19.3        |   py39hd77b12b_1        10.0 MB\n",
      "    scikit-learn-1.2.2         |   py39hd77b12b_0         6.5 MB\n",
      "    scipy-1.10.0               |   py39h321e85e_1        18.7 MB\n",
      "    setuptools-65.6.3          |   py39haa95532_0         1.1 MB\n",
      "    sip-6.6.2                  |   py39hd77b12b_0         434 KB\n",
      "    soupsieve-2.3.2.post1      |   py39haa95532_0          66 KB\n",
      "    sphinx-5.0.2               |   py39haa95532_0         1.7 MB\n",
      "    spyder-5.4.2               |   py39haa95532_0        10.3 MB\n",
      "    spyder-kernels-2.4.2       |   py39haa95532_0         150 KB\n",
      "    sqlalchemy-1.4.39          |   py39h2bbff1b_0         1.9 MB\n",
      "    sqlite-3.41.1              |       h2bbff1b_0         897 KB\n",
      "    statsmodels-0.13.5         |   py39h080aedc_1         9.6 MB\n",
      "    tbb-2021.8.0               |       h59b6b97_0         149 KB\n",
      "    tbb4py-2021.8.0            |   py39h59b6b97_0          81 KB\n",
      "    terminado-0.17.1           |   py39haa95532_0          32 KB\n",
      "    testpath-0.6.0             |   py39haa95532_0          85 KB\n",
      "    tinycss2-1.2.1             |   py39haa95532_0          40 KB\n",
      "    tokenizers-0.11.4          |   py39he5181cf_1         2.4 MB\n",
      "    tomlkit-0.11.1             |   py39haa95532_0          72 KB\n",
      "    toolz-0.12.0               |   py39haa95532_0         106 KB\n",
      "    tqdm-4.65.0                |   py39hd4e2768_0         148 KB\n",
      "    traitlets-5.7.1            |   py39haa95532_0         205 KB\n",
      "    transformers-4.24.0        |   py39haa95532_0         4.7 MB\n",
      "    twisted-22.2.0             |   py39h2bbff1b_1         4.2 MB\n",
      "    typing_extensions-4.4.0    |   py39haa95532_0          47 KB\n",
      "    tzdata-2022g               |       h04d1e81_0         114 KB\n",
      "    ujson-5.4.0                |   py39hd77b12b_0          44 KB\n",
      "    whatthepatch-1.0.2         |   py39haa95532_0          23 KB\n",
      "    wheel-0.38.4               |   py39haa95532_0          83 KB\n",
      "    widgetsnbextension-4.0.5   |   py39haa95532_0         861 KB\n",
      "    xarray-2022.11.0           |   py39haa95532_0         1.6 MB\n",
      "    xz-5.2.10                  |       h8cc25b3_1         520 KB\n",
      "    zeromq-4.3.4               |       hd77b12b_0         4.2 MB\n",
      "    zict-2.1.0                 |   py39haa95532_0          20 KB\n",
      "    zstandard-0.19.0           |   py39h2bbff1b_0         340 KB\n",
      "    ------------------------------------------------------------\n",
      "                                           Total:       465.8 MB\n",
      "\n",
      "The following NEW packages will be INSTALLED:\n",
      "\n",
      "  _anaconda_depends  pkgs/main/win-64::_anaconda_depends-2023.03-py39_0 None\n",
      "  brotli-bin         pkgs/main/win-64::brotli-bin-1.0.9-h2bbff1b_7 None\n",
      "  comm               pkgs/main/win-64::comm-0.1.2-py39haa95532_0 None\n",
      "  conda-package-str~ pkgs/main/win-64::conda-package-streaming-0.7.0-py39haa95532_0 None\n",
      "  contourpy          pkgs/main/win-64::contourpy-1.0.5-py39h59b6b97_0 None\n",
      "  dill               pkgs/main/win-64::dill-0.3.6-py39haa95532_0 None\n",
      "  docstring-to-mark~ pkgs/main/win-64::docstring-to-markdown-0.11-py39haa95532_0 None\n",
      "  flit-core          pkgs/main/win-64::flit-core-3.8.0-py39haa95532_0 None\n",
      "  glib               pkgs/main/win-64::glib-2.69.1-h5dc1a3c_2 None\n",
      "  gst-plugins-base   pkgs/main/win-64::gst-plugins-base-1.18.5-h9e645db_0 None\n",
      "  gstreamer          pkgs/main/win-64::gstreamer-1.18.5-hd78058f_0 None\n",
      "  huggingface_hub    pkgs/main/win-64::huggingface_hub-0.10.1-py39haa95532_0 None\n",
      "  imbalanced-learn   pkgs/main/win-64::imbalanced-learn-0.10.1-py39haa95532_0 None\n",
      "  importlib_resourc~ pkgs/main/noarch::importlib_resources-5.2.0-pyhd3eb1b0_1 None\n",
      "  jaraco.classes     pkgs/main/noarch::jaraco.classes-3.2.1-pyhd3eb1b0_0 None\n",
      "  jellyfish          pkgs/main/win-64::jellyfish-0.9.0-py39h2bbff1b_0 None\n",
      "  joblib             pkgs/main/win-64::joblib-1.1.1-py39haa95532_0 None\n",
      "  jxrlib             pkgs/main/win-64::jxrlib-1.1-he774522_2 None\n",
      "  krb5               pkgs/main/win-64::krb5-1.19.4-h5b6d351_0 None\n",
      "  libbrotlicommon    pkgs/main/win-64::libbrotlicommon-1.0.9-h2bbff1b_7 None\n",
      "  libbrotlidec       pkgs/main/win-64::libbrotlidec-1.0.9-h2bbff1b_7 None\n",
      "  libbrotlienc       pkgs/main/win-64::libbrotlienc-1.0.9-h2bbff1b_7 None\n",
      "  libclang           pkgs/main/win-64::libclang-14.0.6-default_hf4acfee_0 None\n",
      "  libclang13         pkgs/main/win-64::libclang13-14.0.6-default_h8992b79_0 None\n",
      "  libffi             pkgs/main/win-64::libffi-3.4.2-hd77b12b_6 None\n",
      "  libogg             pkgs/main/win-64::libogg-1.3.5-h2bbff1b_1 None\n",
      "  libsodium          pkgs/main/win-64::libsodium-1.0.18-h62dcd97_0 None\n",
      "  libuv              pkgs/main/win-64::libuv-1.44.2-h2bbff1b_0 None\n",
      "  libvorbis          pkgs/main/win-64::libvorbis-1.3.7-he774522_0 None\n",
      "  libwebp-base       pkgs/main/win-64::libwebp-base-1.2.4-h2bbff1b_1 None\n",
      "  lz4                pkgs/main/win-64::lz4-3.1.3-py39h2bbff1b_0 None\n",
      "  more-itertools     pkgs/main/noarch::more-itertools-8.12.0-pyhd3eb1b0_0 None\n",
      "  ninja              pkgs/main/win-64::ninja-1.10.2-haa95532_5 None\n",
      "  ninja-base         pkgs/main/win-64::ninja-base-1.10.2-h6d14046_5 None\n",
      "  notebook-shim      pkgs/main/win-64::notebook-shim-0.2.2-py39haa95532_0 None\n",
      "  pathlib            pkgs/main/noarch::pathlib-1.0.1-pyhd3eb1b0_1 None\n",
      "  pcre               pkgs/main/win-64::pcre-8.45-hd77b12b_0 None\n",
      "  platformdirs       pkgs/main/win-64::platformdirs-2.5.2-py39haa95532_0 None\n",
      "  ply                pkgs/main/win-64::ply-3.11-py39haa95532_0 None\n",
      "  pooch              pkgs/main/noarch::pooch-1.4.0-pyhd3eb1b0_0 None\n",
      "  pylint-venv        pkgs/main/win-64::pylint-venv-2.3.0-py39haa95532_0 None\n",
      "  pyqt5-sip          pkgs/main/win-64::pyqt5-sip-12.11.0-py39hd77b12b_0 None\n",
      "  pyqtwebengine      pkgs/main/win-64::pyqtwebengine-5.15.7-py39hd77b12b_0 None\n",
      "  pytoolconfig       pkgs/main/win-64::pytoolconfig-1.2.5-py39haa95532_1 None\n",
      "  pytorch            pkgs/main/win-64::pytorch-1.12.1-cpu_py39h5e1f01c_1 None\n",
      "  qt-main            pkgs/main/win-64::qt-main-5.15.2-he8e5bd7_8 None\n",
      "  qt-webengine       pkgs/main/win-64::qt-webengine-5.15.9-hb9a9bb5_5 None\n",
      "  qtwebkit           pkgs/main/win-64::qtwebkit-5.212-h3ad3cdb_4 None\n",
      "  scikit-learn       pkgs/main/win-64::scikit-learn-1.2.2-py39hd77b12b_0 None\n",
      "  tinycss2           pkgs/main/win-64::tinycss2-1.2.1-py39haa95532_0 None\n",
      "  tokenizers         pkgs/main/win-64::tokenizers-0.11.4-py39he5181cf_1 None\n",
      "  tomlkit            pkgs/main/win-64::tomlkit-0.11.1-py39haa95532_0 None\n",
      "  transformers       pkgs/main/win-64::transformers-4.24.0-py39haa95532_0 None\n",
      "  whatthepatch       pkgs/main/win-64::whatthepatch-1.0.2-py39haa95532_0 None\n",
      "  zeromq             pkgs/main/win-64::zeromq-4.3.4-hd77b12b_0 None\n",
      "  zstandard          pkgs/main/win-64::zstandard-0.19.0-py39h2bbff1b_0 None\n",
      "\n",
      "The following packages will be UPDATED:\n",
      "\n",
      "  anaconda-client                      1.9.0-py39haa95532_0 --> 1.11.1-py39haa95532_0 None\n",
      "  arrow              pkgs/main/noarch::arrow-1.2.2-pyhd3eb~ --> pkgs/main/win-64::arrow-1.2.3-py39haa95532_1 None\n",
      "  astroid                              2.6.6-py39haa95532_0 --> 2.14.2-py39haa95532_0 None\n",
      "  astropy                              5.0.4-py39h080aedc_0 --> 5.1-py39h080aedc_0 None\n",
      "  attrs              pkgs/main/noarch::attrs-21.4.0-pyhd3e~ --> pkgs/main/win-64::attrs-22.1.0-py39haa95532_0 None\n",
      "  autopep8                               1.6.0-pyhd3eb1b0_0 --> 1.6.0-pyhd3eb1b0_1 None\n",
      "  babel              pkgs/main/noarch::babel-2.9.1-pyhd3eb~ --> pkgs/main/win-64::babel-2.11.0-py39haa95532_0 None\n",
      "  bcrypt                               3.2.0-py39h196d8e1_0 --> 3.2.0-py39h2bbff1b_1 None\n",
      "  black                pkgs/main/noarch::black-19.10b0-py_0 --> pkgs/main/win-64::black-22.6.0-py39haa95532_0 None\n",
      "  blosc                                   1.21.0-h19a0ad4_0 --> 1.21.3-h6c2663c_0 None\n",
      "  bokeh                                2.4.2-py39haa95532_0 --> 2.4.3-py39haa95532_0 None\n",
      "  bottleneck                           1.3.4-py39h080aedc_0 --> 1.3.5-py39h080aedc_0 None\n",
      "  brotli                                   1.0.9-ha925a31_2 --> 1.0.9-h2bbff1b_7 None\n",
      "  ca-certificates                      2022.3.29-haa95532_1 --> 2023.01.10-haa95532_0 None\n",
      "  certifi                          2021.10.8-py39haa95532_2 --> 2022.12.7-py39haa95532_0 None\n",
      "  cffi                                1.15.0-py39h2bbff1b_1 --> 1.15.1-py39h2bbff1b_3 None\n",
      "  cfitsio                                  3.470-he774522_6 --> 3.470-h2bbff1b_7 None\n",
      "  colorama           pkgs/main/noarch::colorama-0.4.4-pyhd~ --> pkgs/main/win-64::colorama-0.4.6-py39haa95532_0 None\n",
      "  colorcet           pkgs/main/noarch::colorcet-2.0.6-pyhd~ --> pkgs/main/win-64::colorcet-3.0.1-py39haa95532_0 None\n",
      "  conda-content-tru~ pkgs/main/noarch::conda-content-trust~ --> pkgs/main/win-64::conda-content-trust-0.1.3-py39haa95532_0 None\n",
      "  conda-package-han~                   1.9.0-py39h8cc25b3_1 --> 2.0.2-py39haa95532_0 None\n",
      "  conda-repo-cli     pkgs/main/noarch::conda-repo-cli-1.0.~ --> pkgs/main/win-64::conda-repo-cli-1.0.41-py39haa95532_0 None\n",
      "  conda-token                            0.3.0-pyhd3eb1b0_0 --> 0.4.0-pyhd3eb1b0_0 None\n",
      "  cryptography                         3.4.8-py39h71e12ea_0 --> 39.0.1-py39h21b164f_0 None\n",
      "  curl                                    7.82.0-h2bbff1b_0 --> 7.88.1-h2bbff1b_0 None\n",
      "  cytoolz                             0.11.0-py39h2bbff1b_0 --> 0.12.0-py39h2bbff1b_0 None\n",
      "  dask               pkgs/main/noarch::dask-2022.2.1-pyhd3~ --> pkgs/main/win-64::dask-2023.3.2-py39haa95532_0 None\n",
      "  dask-core          pkgs/main/noarch::dask-core-2022.2.1-~ --> pkgs/main/win-64::dask-core-2023.3.2-py39haa95532_0 None\n",
      "  datashader         pkgs/main/noarch::datashader-0.13.0-p~ --> pkgs/main/win-64::datashader-0.14.4-py39haa95532_0 None\n",
      "  distributed        pkgs/main/noarch::distributed-2022.2.~ --> pkgs/main/win-64::distributed-2023.3.2-py39haa95532_0 None\n",
      "  docutils                            0.17.1-py39haa95532_1 --> 0.18.1-py39haa95532_3 None\n",
      "  filelock           pkgs/main/noarch::filelock-3.6.0-pyhd~ --> pkgs/main/win-64::filelock-3.9.0-py39haa95532_0 None\n",
      "  flake8             pkgs/main/noarch::flake8-3.9.2-pyhd3e~ --> pkgs/main/win-64::flake8-6.0.0-py39haa95532_0 None\n",
      "  freetype                                2.10.4-hd328e21_0 --> 2.12.1-ha860e81_0 None\n",
      "  fsspec             pkgs/main/noarch::fsspec-2022.2.0-pyh~ --> pkgs/main/win-64::fsspec-2023.3.0-py39haa95532_0 None\n",
      "  future                              0.18.2-py39haa95532_1 --> 0.18.3-py39haa95532_0 None\n",
      "  gensim                               4.1.2-py39hd77b12b_0 --> 4.3.0-py39hd77b12b_0 None\n",
      "  giflib                                   5.2.1-h62dcd97_0 --> 5.2.1-h8cc25b3_3 None\n",
      "  greenlet                             1.1.1-py39hd77b12b_0 --> 2.0.1-py39hd77b12b_0 None\n",
      "  h5py                                 3.6.0-py39h3de5c98_0 --> 3.7.0-py39h3de5c98_0 None\n",
      "  hdf5                                    1.10.6-h7ebc959_0 --> 1.10.6-h1756f20_1 None\n",
      "  holoviews          pkgs/main/noarch::holoviews-1.14.8-py~ --> pkgs/main/win-64::holoviews-1.15.4-py39haa95532_0 None\n",
      "  hvplot             pkgs/main/noarch::hvplot-0.7.3-pyhd3e~ --> pkgs/main/win-64::hvplot-0.8.2-py39haa95532_0 None\n",
      "  icc_rt                                2019.0.0-h0cc432a_1 --> 2022.1.0-h6049295_2 None\n",
      "  idna               pkgs/main/noarch::idna-3.3-pyhd3eb1b0~ --> pkgs/main/win-64::idna-3.4-py39haa95532_0 None\n",
      "  imagecodecs                      2021.8.26-py39ha1f97ea_0 --> 2021.8.26-py39h319e4f4_2 None\n",
      "  imageio            pkgs/main/noarch::imageio-2.9.0-pyhd3~ --> pkgs/main/win-64::imageio-2.26.0-py39haa95532_0 None\n",
      "  imagesize          pkgs/main/noarch::imagesize-1.3.0-pyh~ --> pkgs/main/win-64::imagesize-1.4.1-py39haa95532_0 None\n",
      "  importlib-metadata                  4.11.3-py39haa95532_0 --> 6.0.0-py39haa95532_0 None\n",
      "  importlib_metadata                      4.11.3-hd3eb1b0_0 --> 6.0.0-hd3eb1b0_0 None\n",
      "  intake             pkgs/main/noarch::intake-0.6.5-pyhd3e~ --> pkgs/main/win-64::intake-0.6.8-py39haa95532_0 None\n",
      "  ipykernel                            6.9.1-py39haa95532_0 --> 6.19.2-py39hd4e2768_0 None\n",
      "  ipython                              8.2.0-py39haa95532_0 --> 8.10.0-py39haa95532_0 None\n",
      "  ipywidgets         pkgs/main/noarch::ipywidgets-7.6.5-py~ --> pkgs/main/win-64::ipywidgets-8.0.4-py39haa95532_0 None\n",
      "  jpeg                                        9e-h2bbff1b_0 --> 9e-h2bbff1b_1 None\n",
      "  jsonschema                           4.4.0-py39haa95532_0 --> 4.17.3-py39haa95532_0 None\n",
      "  jupyter                              1.0.0-py39haa95532_7 --> 1.0.0-py39haa95532_8 None\n",
      "  jupyter_client     pkgs/main/noarch::jupyter_client-6.1.~ --> pkgs/main/win-64::jupyter_client-7.4.9-py39haa95532_0 None\n",
      "  jupyter_console    pkgs/main/noarch::jupyter_console-6.4~ --> pkgs/main/win-64::jupyter_console-6.6.3-py39haa95532_0 None\n",
      "  jupyter_core                         4.9.2-py39haa95532_0 --> 5.3.0-py39haa95532_0 None\n",
      "  jupyter_server     pkgs/main/noarch::jupyter_server-1.13~ --> pkgs/main/win-64::jupyter_server-1.23.4-py39haa95532_0 None\n",
      "  jupyterlab         pkgs/main/noarch::jupyterlab-3.3.2-py~ --> pkgs/main/win-64::jupyterlab-3.5.3-py39haa95532_0 None\n",
      "  jupyterlab_widgets pkgs/main/noarch::jupyterlab_widgets-~ --> pkgs/main/win-64::jupyterlab_widgets-3.0.5-py39haa95532_0 None\n",
      "  keyring                             23.4.0-py39haa95532_0 --> 23.13.1-py39haa95532_0 None\n",
      "  kiwisolver                           1.3.2-py39hd77b12b_0 --> 1.4.4-py39hd77b12b_0 None\n",
      "  libarchive                               3.4.2-h5e25573_0 --> 3.6.2-hebabd0d_0 None\n",
      "  libcurl                                 7.82.0-h86230a5_0 --> 7.88.1-h86230a5_0 None\n",
      "  libdeflate                                 1.8-h2bbff1b_5 --> 1.17-h2bbff1b_0 None\n",
      "  liblief                                 0.11.5-hd77b12b_1 --> 0.12.3-hd77b12b_0 None\n",
      "  libpng                                  1.6.37-h2a8f88b_0 --> 1.6.39-h8cc25b3_0 None\n",
      "  libtiff                                  4.2.0-hd0e1b90_0 --> 4.5.0-h6c2663c_2 None\n",
      "  libwebp                                  1.2.2-h2bbff1b_0 --> 1.2.4-hbc33d0d_1 None\n",
      "  libxml2                                 2.9.12-h0ad7f3c_0 --> 2.9.14-h0ad7f3c_0 None\n",
      "  libxslt                                 1.1.34-he774522_0 --> 1.1.35-h2bbff1b_0 None\n",
      "  llvmlite                            0.38.0-py39h23ce68f_0 --> 0.39.1-py39h23ce68f_0 None\n",
      "  locket                               0.2.1-py39haa95532_2 --> 1.0.0-py39haa95532_0 None\n",
      "  lxml                                 4.8.0-py39h1985fb9_0 --> 4.9.1-py39h1985fb9_0 None\n",
      "  lz4-c                                    1.9.3-h2bbff1b_1 --> 1.9.4-h2bbff1b_0 None\n",
      "  markdown                             3.3.4-py39haa95532_0 --> 3.4.1-py39haa95532_0 None\n",
      "  matplotlib                           3.5.1-py39haa95532_1 --> 3.7.1-py39haa95532_1 None\n",
      "  matplotlib-base                      3.5.1-py39hd77b12b_1 --> 3.7.1-py39hf11a4ad_1 None\n",
      "  matplotlib-inline  pkgs/main/noarch::matplotlib-inline-0~ --> pkgs/main/win-64::matplotlib-inline-0.1.6-py39haa95532_0 None\n",
      "  mccabe             pkgs/main/win-64::mccabe-0.6.1-py39ha~ --> pkgs/main/noarch::mccabe-0.7.0-pyhd3eb1b0_0 None\n",
      "  msgpack-python                       1.0.2-py39h59b6b97_1 --> 1.0.3-py39h59b6b97_0 None\n",
      "  nbclassic          pkgs/main/noarch::nbclassic-0.3.5-pyh~ --> pkgs/main/win-64::nbclassic-0.5.3-py39haa95532_0 None\n",
      "  nbformat                             5.3.0-py39haa95532_0 --> 5.7.0-py39haa95532_0 None\n",
      "  nest-asyncio                         1.5.5-py39haa95532_0 --> 1.5.6-py39haa95532_0 None\n",
      "  networkx           pkgs/main/noarch::networkx-2.7.1-pyhd~ --> pkgs/main/win-64::networkx-2.8.4-py39haa95532_1 None\n",
      "  notebook                             6.4.8-py39haa95532_0 --> 6.5.3-py39haa95532_0 None\n",
      "  numba                               0.55.1-py39hf11a4ad_0 --> 0.56.4-py39hf11a4ad_0 None\n",
      "  numexpr                              2.8.1-py39hb80d3ca_0 --> 2.8.4-py39h5b0cc5e_0 None\n",
      "  numpy                               1.21.5-py39h7a0a035_1 --> 1.23.5-py39h3b20f71_0 None\n",
      "  numpy-base                          1.21.5-py39hca35cd5_1 --> 1.23.5-py39h4da318b_0 None\n",
      "  numpydoc           pkgs/main/noarch::numpydoc-1.2-pyhd3e~ --> pkgs/main/win-64::numpydoc-1.5.0-py39haa95532_0 None\n",
      "  openpyxl           pkgs/main/noarch::openpyxl-3.0.9-pyhd~ --> pkgs/main/win-64::openpyxl-3.0.10-py39h2bbff1b_0 None\n",
      "  openssl                                 1.1.1n-h2bbff1b_0 --> 1.1.1t-h2bbff1b_0 None\n",
      "  packaging          pkgs/main/noarch::packaging-21.3-pyhd~ --> pkgs/main/win-64::packaging-23.0-py39haa95532_0 None\n",
      "  panel                               0.13.0-py39haa95532_0 --> 0.14.3-py39haa95532_0 None\n",
      "  param              pkgs/main/noarch::param-1.12.0-pyhd3e~ --> pkgs/main/win-64::param-1.12.3-py39haa95532_0 None\n",
      "  pathspec            pkgs/main/noarch::pathspec-0.7.0-py_0 --> pkgs/main/win-64::pathspec-0.10.3-py39haa95532_0 None\n",
      "  patsy                                0.5.2-py39haa95532_1 --> 0.5.3-py39haa95532_0 None\n",
      "  pep8                                 1.7.1-py39haa95532_0 --> 1.7.1-py39haa95532_1 None\n",
      "  pillow                               9.0.1-py39hdc2b20a_0 --> 9.4.0-py39hd77b12b_0 None\n",
      "  pip                                 21.2.4-py39haa95532_0 --> 23.0.1-py39haa95532_0 None\n",
      "  pkginfo            pkgs/main/noarch::pkginfo-1.8.2-pyhd3~ --> pkgs/main/win-64::pkginfo-1.9.6-py39haa95532_0 None\n",
      "  plotly             pkgs/main/noarch::plotly-5.6.0-pyhd3e~ --> pkgs/main/win-64::plotly-5.9.0-py39haa95532_0 None\n",
      "  prometheus_client  pkgs/main/noarch::prometheus_client-0~ --> pkgs/main/win-64::prometheus_client-0.14.1-py39haa95532_0 None\n",
      "  prompt-toolkit     pkgs/main/noarch::prompt-toolkit-3.0.~ --> pkgs/main/win-64::prompt-toolkit-3.0.36-py39haa95532_0 None\n",
      "  prompt_toolkit                          3.0.20-hd3eb1b0_0 --> 3.0.36-hd3eb1b0_0 None\n",
      "  psutil                               5.8.0-py39h2bbff1b_1 --> 5.9.0-py39h2bbff1b_0 None\n",
      "  py-lief                             0.11.5-py39hd77b12b_1 --> 0.12.3-py39hd77b12b_0 None\n",
      "  pycodestyle        pkgs/main/noarch::pycodestyle-2.7.0-p~ --> pkgs/main/win-64::pycodestyle-2.10.0-py39haa95532_0 None\n",
      "  pycosat                              0.6.3-py39h2bbff1b_0 --> 0.6.4-py39h2bbff1b_0 None\n",
      "  pyct                                 0.4.6-py39haa95532_0 --> 0.5.0-py39haa95532_0 None\n",
      "  pycurl                              7.44.1-py39hcd4344a_1 --> 7.45.2-py39hcd4344a_0 None\n",
      "  pydocstyle         pkgs/main/noarch::pydocstyle-6.1.1-py~ --> pkgs/main/win-64::pydocstyle-6.3.0-py39haa95532_0 None\n",
      "  pyflakes           pkgs/main/noarch::pyflakes-2.3.1-pyhd~ --> pkgs/main/win-64::pyflakes-3.0.1-py39haa95532_0 None\n",
      "  pylint                               2.9.6-py39haa95532_1 --> 2.16.2-py39haa95532_0 None\n",
      "  pynacl                               1.4.0-py39hbd8134f_1 --> 1.5.0-py39h8cc25b3_0 None\n",
      "  pyodbc                              4.0.32-py39hd77b12b_1 --> 4.0.34-py39hd77b12b_0 None\n",
      "  pyopenssl          pkgs/main/noarch::pyopenssl-21.0.0-py~ --> pkgs/main/win-64::pyopenssl-23.0.0-py39haa95532_0 None\n",
      "  pyparsing          pkgs/main/noarch::pyparsing-3.0.4-pyh~ --> pkgs/main/win-64::pyparsing-3.0.9-py39haa95532_0 None\n",
      "  pyqt                                 5.9.2-py39hd77b12b_6 --> 5.15.7-py39hd77b12b_0 None\n",
      "  pytables                             3.6.1-py39h56d22b6_1 --> 3.7.0-py39h388bc9b_1 None\n",
      "  pytest                               7.1.1-py39haa95532_0 --> 7.1.2-py39haa95532_0 None\n",
      "  python-fastjsonsc~ pkgs/main/noarch::python-fastjsonsche~ --> pkgs/main/win-64::python-fastjsonschema-2.16.2-py39haa95532_0 None\n",
      "  python-lsp-black   pkgs/main/noarch::python-lsp-black-1.~ --> pkgs/main/win-64::python-lsp-black-1.2.1-py39haa95532_0 None\n",
      "  python-lsp-server  pkgs/main/noarch::python-lsp-server-1~ --> pkgs/main/win-64::python-lsp-server-1.7.1-py39haa95532_0 None\n",
      "  python-snappy                        0.6.0-py39hd77b12b_3 --> 0.6.1-py39hd77b12b_0 None\n",
      "  pytz               pkgs/main/noarch::pytz-2021.3-pyhd3eb~ --> pkgs/main/win-64::pytz-2022.7-py39haa95532_0 None\n",
      "  pywavelets                           1.3.0-py39h2bbff1b_0 --> 1.4.1-py39h2bbff1b_0 None\n",
      "  pywin32                                302-py39h2bbff1b_2 --> 305-py39h2bbff1b_0 None\n",
      "  pywinpty                             2.0.2-py39h5da7b33_0 --> 2.0.10-py39h5da7b33_0 None\n",
      "  pyzmq                               22.3.0-py39hd77b12b_2 --> 23.2.0-py39hd77b12b_0 None\n",
      "  qstylizer          pkgs/main/noarch::qstylizer-0.1.10-py~ --> pkgs/main/win-64::qstylizer-0.2.2-py39haa95532_0 None\n",
      "  qtawesome          pkgs/main/noarch::qtawesome-1.0.3-pyh~ --> pkgs/main/win-64::qtawesome-1.2.2-py39haa95532_0 None\n",
      "  qtconsole          pkgs/main/noarch::qtconsole-5.3.0-pyh~ --> pkgs/main/win-64::qtconsole-5.4.0-py39haa95532_0 None\n",
      "  qtpy               pkgs/main/noarch::qtpy-2.0.1-pyhd3eb1~ --> pkgs/main/win-64::qtpy-2.2.0-py39haa95532_0 None\n",
      "  regex                            2022.3.15-py39h2bbff1b_0 --> 2022.7.9-py39h2bbff1b_0 None\n",
      "  requests           pkgs/main/noarch::requests-2.27.1-pyh~ --> pkgs/main/win-64::requests-2.28.1-py39haa95532_1 None\n",
      "  rope               pkgs/main/noarch::rope-0.22.0-pyhd3eb~ --> pkgs/main/win-64::rope-1.7.0-py39haa95532_0 None\n",
      "  rtree                                0.9.7-py39h2eaa2aa_1 --> 1.0.1-py39h2eaa2aa_0 None\n",
      "  scikit-image                        0.19.2-py39hf11a4ad_0 --> 0.19.3-py39hd77b12b_1 None\n",
      "  scipy                                1.7.3-py39h0a974cb_0 --> 1.10.0-py39h321e85e_1 None\n",
      "  scrapy                               2.6.1-py39haa95532_0 --> 2.8.0-py39haa95532_0 None\n",
      "  seaborn            pkgs/main/noarch::seaborn-0.11.2-pyhd~ --> pkgs/main/win-64::seaborn-0.12.2-py39haa95532_0 None\n",
      "  setuptools                          61.2.0-py39haa95532_0 --> 65.6.3-py39haa95532_0 None\n",
      "  sip                                4.19.13-py39hd77b12b_0 --> 6.6.2-py39hd77b12b_0 None\n",
      "  smart_open         pkgs/main/noarch::smart_open-5.1.0-py~ --> pkgs/main/win-64::smart_open-5.2.1-py39haa95532_0 None\n",
      "  soupsieve          pkgs/main/noarch::soupsieve-2.3.1-pyh~ --> pkgs/main/win-64::soupsieve-2.3.2.post1-py39haa95532_0 None\n",
      "  sphinx             pkgs/main/noarch::sphinx-4.4.0-pyhd3e~ --> pkgs/main/win-64::sphinx-5.0.2-py39haa95532_0 None\n",
      "  spyder                               5.1.5-py39haa95532_1 --> 5.4.2-py39haa95532_0 None\n",
      "  spyder-kernels                       2.1.3-py39haa95532_0 --> 2.4.2-py39haa95532_0 None\n",
      "  sqlalchemy                          1.4.32-py39h2bbff1b_0 --> 1.4.39-py39h2bbff1b_0 None\n",
      "  sqlite                                  3.38.2-h2bbff1b_0 --> 3.41.1-h2bbff1b_0 None\n",
      "  statsmodels                         0.13.2-py39h2bbff1b_0 --> 0.13.5-py39h080aedc_1 None\n",
      "  sympy                               1.10.1-py39haa95532_0 --> 1.11.1-py39haa95532_0 None\n",
      "  tabulate                             0.8.9-py39haa95532_0 --> 0.8.10-py39haa95532_0 None\n",
      "  tbb                                   2021.5.0-h59b6b97_0 --> 2021.8.0-h59b6b97_0 None\n",
      "  tbb4py                            2021.5.0-py39h59b6b97_0 --> 2021.8.0-py39h59b6b97_0 None\n",
      "  tenacity                             8.0.1-py39haa95532_0 --> 8.0.1-py39haa95532_1 None\n",
      "  terminado                           0.13.1-py39haa95532_0 --> 0.17.1-py39haa95532_0 None\n",
      "  testpath           pkgs/main/noarch::testpath-0.5.0-pyhd~ --> pkgs/main/win-64::testpath-0.6.0-py39haa95532_0 None\n",
      "  tk                                      8.6.11-h2bbff1b_0 --> 8.6.12-h2bbff1b_0 None\n",
      "  tomli              pkgs/main/noarch::tomli-1.2.2-pyhd3eb~ --> pkgs/main/win-64::tomli-2.0.1-py39haa95532_0 None\n",
      "  toolz              pkgs/main/noarch::toolz-0.11.2-pyhd3e~ --> pkgs/main/win-64::toolz-0.12.0-py39haa95532_0 None\n",
      "  tornado                                6.1-py39h2bbff1b_0 --> 6.2-py39h2bbff1b_0 None\n",
      "  tqdm                                4.64.0-py39haa95532_0 --> 4.65.0-py39hd4e2768_0 None\n",
      "  traitlets          pkgs/main/noarch::traitlets-5.1.1-pyh~ --> pkgs/main/win-64::traitlets-5.7.1-py39haa95532_0 None\n",
      "  twisted                             22.2.0-py39h2bbff1b_0 --> 22.2.0-py39h2bbff1b_1 None\n",
      "  typing-extensions  pkgs/main/noarch::typing-extensions-4~ --> pkgs/main/win-64::typing-extensions-4.4.0-py39haa95532_0 None\n",
      "  typing_extensions  pkgs/main/noarch::typing_extensions-4~ --> pkgs/main/win-64::typing_extensions-4.4.0-py39haa95532_0 None\n",
      "  tzdata                                   2022a-hda174b7_0 --> 2022g-h04d1e81_0 None\n",
      "  ujson                                5.1.0-py39hd77b12b_0 --> 5.4.0-py39hd77b12b_0 None\n",
      "  urllib3                             1.26.9-py39haa95532_0 --> 1.26.15-py39haa95532_0 None\n",
      "  wheel              pkgs/main/noarch::wheel-0.37.1-pyhd3e~ --> pkgs/main/win-64::wheel-0.38.4-py39haa95532_0 None\n",
      "  widgetsnbextension                   3.5.2-py39haa95532_0 --> 4.0.5-py39haa95532_0 None\n",
      "  wrapt                               1.12.1-py39h196d8e1_1 --> 1.14.1-py39h2bbff1b_0 None\n",
      "  xarray             pkgs/main/noarch::xarray-0.20.1-pyhd3~ --> pkgs/main/win-64::xarray-2022.11.0-py39haa95532_0 None\n",
      "  xlwings                             0.24.9-py39haa95532_0 --> 0.29.1-py39haa95532_0 None\n",
      "  xz                                       5.2.5-h62dcd97_0 --> 5.2.10-h8cc25b3_1 None\n",
      "  zict               pkgs/main/noarch::zict-2.0.0-pyhd3eb1~ --> pkgs/main/win-64::zict-2.1.0-py39haa95532_0 None\n",
      "  zipp               pkgs/main/noarch::zipp-3.7.0-pyhd3eb1~ --> pkgs/main/win-64::zipp-3.11.0-py39haa95532_0 None\n",
      "  zlib                                    1.2.12-h8cc25b3_2 --> 1.2.13-h8cc25b3_0 None\n",
      "  zstd                                     1.4.9-h19a0ad4_0 --> 1.5.4-hd43e919_0 None\n",
      "\n",
      "The following packages will be DOWNGRADED:\n",
      "\n",
      "  anaconda                                   2022.05-py39_0 --> custom-py39_1 None\n",
      "\n",
      "\n",
      "\n",
      "Downloading and Extracting Packages\n",
      "\n",
      "jaraco.classes-3.2.1 | 9 KB      |            |   0% \n",
      "jaraco.classes-3.2.1 | 9 KB      | ########## | 100% \n",
      "jaraco.classes-3.2.1 | 9 KB      | ########## | 100% \n",
      "\n",
      "pep8-1.7.1           | 69 KB     |            |   0% \n",
      "pep8-1.7.1           | 69 KB     | ######9    |  69% \n",
      "pep8-1.7.1           | 69 KB     | ########## | 100% \n",
      "\n",
      "prompt-toolkit-3.0.3 | 565 KB    |            |   0% \n",
      "prompt-toolkit-3.0.3 | 565 KB    | #6         |  17% \n",
      "prompt-toolkit-3.0.3 | 565 KB    | ######5    |  65% \n",
      "prompt-toolkit-3.0.3 | 565 KB    | ########## | 100% \n",
      "prompt-toolkit-3.0.3 | 565 KB    | ########## | 100% \n",
      "\n",
      "libuv-1.44.2         | 288 KB    |            |   0% \n",
      "libuv-1.44.2         | 288 KB    | ####4      |  44% \n",
      "libuv-1.44.2         | 288 KB    | ########## | 100% \n",
      "\n",
      "spyder-kernels-2.4.2 | 150 KB    |            |   0% \n",
      "spyder-kernels-2.4.2 | 150 KB    | ######3    |  64% \n",
      "spyder-kernels-2.4.2 | 150 KB    | ########## | 100% \n",
      "\n",
      "bokeh-2.4.3          | 7.6 MB    |            |   0% \n",
      "bokeh-2.4.3          | 7.6 MB    | 1          |   1% \n",
      "bokeh-2.4.3          | 7.6 MB    | 6          |   7% \n",
      "bokeh-2.4.3          | 7.6 MB    | #          |  11% \n",
      "bokeh-2.4.3          | 7.6 MB    | #8         |  18% \n",
      "bokeh-2.4.3          | 7.6 MB    | ##3        |  24% \n",
      "bokeh-2.4.3          | 7.6 MB    | ##8        |  28% \n",
      "bokeh-2.4.3          | 7.6 MB    | ###4       |  35% \n",
      "bokeh-2.4.3          | 7.6 MB    | ####       |  41% \n",
      "bokeh-2.4.3          | 7.6 MB    | ####5      |  46% \n",
      "bokeh-2.4.3          | 7.6 MB    | #####6     |  56% \n",
      "bokeh-2.4.3          | 7.6 MB    | ######2    |  62% \n",
      "bokeh-2.4.3          | 7.6 MB    | #######    |  70% \n",
      "bokeh-2.4.3          | 7.6 MB    | #######6   |  76% \n",
      "bokeh-2.4.3          | 7.6 MB    | ########2  |  82% \n",
      "bokeh-2.4.3          | 7.6 MB    | ########6  |  87% \n",
      "bokeh-2.4.3          | 7.6 MB    | #########8 |  99% \n",
      "bokeh-2.4.3          | 7.6 MB    | ########## | 100% \n",
      "\n",
      "libsodium-1.0.18     | 477 KB    |            |   0% \n",
      "libsodium-1.0.18     | 477 KB    | ##6        |  27% \n",
      "libsodium-1.0.18     | 477 KB    | ########## | 100% \n",
      "libsodium-1.0.18     | 477 KB    | ########## | 100% \n",
      "\n",
      "idna-3.4             | 93 KB     |            |   0% \n",
      "idna-3.4             | 93 KB     | ######8    |  69% \n",
      "idna-3.4             | 93 KB     | ########## | 100% \n",
      "\n",
      "scikit-image-0.19.3  | 10.0 MB   |            |   0% \n",
      "scikit-image-0.19.3  | 10.0 MB   | 1          |   1% \n",
      "scikit-image-0.19.3  | 10.0 MB   | 5          |   5% \n",
      "scikit-image-0.19.3  | 10.0 MB   | 9          |  10% \n",
      "scikit-image-0.19.3  | 10.0 MB   | #2         |  13% \n",
      "scikit-image-0.19.3  | 10.0 MB   | #6         |  17% \n",
      "scikit-image-0.19.3  | 10.0 MB   | ##         |  20% \n",
      "scikit-image-0.19.3  | 10.0 MB   | ##4        |  25% \n",
      "scikit-image-0.19.3  | 10.0 MB   | ##8        |  28% \n",
      "scikit-image-0.19.3  | 10.0 MB   | ###3       |  34% \n",
      "scikit-image-0.19.3  | 10.0 MB   | ###7       |  38% \n",
      "scikit-image-0.19.3  | 10.0 MB   | ####6      |  46% \n",
      "scikit-image-0.19.3  | 10.0 MB   | #####1     |  51% \n",
      "scikit-image-0.19.3  | 10.0 MB   | #####6     |  56% \n",
      "scikit-image-0.19.3  | 10.0 MB   | ######     |  60% \n",
      "scikit-image-0.19.3  | 10.0 MB   | ######8    |  68% \n",
      "scikit-image-0.19.3  | 10.0 MB   | #######2   |  73% \n",
      "scikit-image-0.19.3  | 10.0 MB   | #######7   |  78% \n",
      "scikit-image-0.19.3  | 10.0 MB   | ########7  |  88% \n",
      "scikit-image-0.19.3  | 10.0 MB   | #########3 |  93% \n",
      "scikit-image-0.19.3  | 10.0 MB   | ########## | 100% \n",
      "scikit-image-0.19.3  | 10.0 MB   | ########## | 100% \n",
      "\n",
      "libdeflate-1.17      | 151 KB    |            |   0% \n",
      "libdeflate-1.17      | 151 KB    | #####2     |  53% \n",
      "libdeflate-1.17      | 151 KB    | ########## | 100% \n",
      "\n",
      "tokenizers-0.11.4    | 2.4 MB    |            |   0% \n",
      "tokenizers-0.11.4    | 2.4 MB    | 3          |   3% \n",
      "tokenizers-0.11.4    | 2.4 MB    | #9         |  19% \n",
      "tokenizers-0.11.4    | 2.4 MB    | ###6       |  37% \n",
      "tokenizers-0.11.4    | 2.4 MB    | #####3     |  54% \n",
      "tokenizers-0.11.4    | 2.4 MB    | #######2   |  72% \n",
      "tokenizers-0.11.4    | 2.4 MB    | ########7  |  88% \n",
      "tokenizers-0.11.4    | 2.4 MB    | ########## | 100% \n",
      "\n",
      "pkginfo-1.9.6        | 69 KB     |            |   0% \n",
      "pkginfo-1.9.6        | 69 KB     | ########## | 100% \n",
      "pkginfo-1.9.6        | 69 KB     | ########## | 100% \n",
      "\n",
      "sqlite-3.41.1        | 897 KB    |            |   0% \n",
      "sqlite-3.41.1        | 897 KB    | #          |  11% \n",
      "sqlite-3.41.1        | 897 KB    | #####3     |  54% \n",
      "sqlite-3.41.1        | 897 KB    | ########## | 100% \n",
      "sqlite-3.41.1        | 897 KB    | ########## | 100% \n",
      "\n",
      "prometheus_client-0. | 89 KB     |            |   0% \n",
      "prometheus_client-0. | 89 KB     | ########## | 100% \n",
      "prometheus_client-0. | 89 KB     | ########## | 100% \n",
      "\n",
      "pillow-9.4.0         | 1000 KB   |            |   0% \n",
      "pillow-9.4.0         | 1000 KB   | #4         |  14% \n",
      "pillow-9.4.0         | 1000 KB   | #####2     |  53% \n",
      "pillow-9.4.0         | 1000 KB   | #########1 |  91% \n",
      "pillow-9.4.0         | 1000 KB   | ########## | 100% \n",
      "\n",
      "msgpack-python-1.0.3 | 75 KB     |            |   0% \n",
      "msgpack-python-1.0.3 | 75 KB     | ########## | 100% \n",
      "msgpack-python-1.0.3 | 75 KB     | ########## | 100% \n",
      "\n",
      "ply-3.11             | 81 KB     |            |   0% \n",
      "ply-3.11             | 81 KB     | ########## | 100% \n",
      "ply-3.11             | 81 KB     | ########## | 100% \n",
      "\n",
      "black-22.6.0         | 244 KB    |            |   0% \n",
      "black-22.6.0         | 244 KB    | ###9       |  39% \n",
      "black-22.6.0         | 244 KB    | ########## | 100% \n",
      "black-22.6.0         | 244 KB    | ########## | 100% \n",
      "\n",
      "pytables-3.7.0       | 2.8 MB    |            |   0% \n",
      "pytables-3.7.0       | 2.8 MB    | 2          |   2% \n",
      "pytables-3.7.0       | 2.8 MB    | #4         |  14% \n",
      "pytables-3.7.0       | 2.8 MB    | ##         |  21% \n",
      "pytables-3.7.0       | 2.8 MB    | ###4       |  35% \n",
      "pytables-3.7.0       | 2.8 MB    | ####9      |  49% \n",
      "pytables-3.7.0       | 2.8 MB    | ######4    |  64% \n",
      "pytables-3.7.0       | 2.8 MB    | #######7   |  78% \n",
      "pytables-3.7.0       | 2.8 MB    | #########3 |  94% \n",
      "pytables-3.7.0       | 2.8 MB    | ########## | 100% \n",
      "\n",
      "cffi-1.15.1          | 238 KB    |            |   0% \n",
      "cffi-1.15.1          | 238 KB    | ####       |  40% \n",
      "cffi-1.15.1          | 238 KB    | ########## | 100% \n",
      "\n",
      "dask-core-2023.3.2   | 2.1 MB    |            |   0% \n",
      "dask-core-2023.3.2   | 2.1 MB    | 5          |   5% \n",
      "dask-core-2023.3.2   | 2.1 MB    | ##6        |  27% \n",
      "dask-core-2023.3.2   | 2.1 MB    | ####7      |  48% \n",
      "dask-core-2023.3.2   | 2.1 MB    | ######5    |  65% \n",
      "dask-core-2023.3.2   | 2.1 MB    | ########2  |  83% \n",
      "dask-core-2023.3.2   | 2.1 MB    | ########## | 100% \n",
      "dask-core-2023.3.2   | 2.1 MB    | ########## | 100% \n",
      "\n",
      "terminado-0.17.1     | 32 KB     |            |   0% \n",
      "terminado-0.17.1     | 32 KB     | ########## | 100% \n",
      "terminado-0.17.1     | 32 KB     | ########## | 100% \n",
      "\n",
      "twisted-22.2.0       | 4.2 MB    |            |   0% \n",
      "twisted-22.2.0       | 4.2 MB    | 2          |   2% \n",
      "twisted-22.2.0       | 4.2 MB    | #2         |  12% \n",
      "twisted-22.2.0       | 4.2 MB    | ##2        |  22% \n",
      "twisted-22.2.0       | 4.2 MB    | ###2       |  32% \n",
      "twisted-22.2.0       | 4.2 MB    | ####6      |  47% \n",
      "twisted-22.2.0       | 4.2 MB    | #####5     |  56% \n",
      "twisted-22.2.0       | 4.2 MB    | #######3   |  73% \n",
      "twisted-22.2.0       | 4.2 MB    | ########2  |  83% \n",
      "twisted-22.2.0       | 4.2 MB    | ########## | 100% \n",
      "twisted-22.2.0       | 4.2 MB    | ########## | 100% \n",
      "\n",
      "importlib-metadata-6 | 39 KB     |            |   0% \n",
      "importlib-metadata-6 | 39 KB     | ########## | 100% \n",
      "importlib-metadata-6 | 39 KB     | ########## | 100% \n",
      "\n",
      "openpyxl-3.0.10      | 468 KB    |            |   0% \n",
      "openpyxl-3.0.10      | 468 KB    | ##3        |  24% \n",
      "openpyxl-3.0.10      | 468 KB    | ########## | 100% \n",
      "openpyxl-3.0.10      | 468 KB    | ########## | 100% \n",
      "\n",
      "conda-content-trust- | 86 KB     |            |   0% \n",
      "conda-content-trust- | 86 KB     | ########## | 100% \n",
      "conda-content-trust- | 86 KB     | ########## | 100% \n",
      "\n",
      "icc_rt-2022.1.0      | 6.5 MB    |            |   0% \n",
      "icc_rt-2022.1.0      | 6.5 MB    | 1          |   2% \n",
      "icc_rt-2022.1.0      | 6.5 MB    | 4          |   4% \n",
      "icc_rt-2022.1.0      | 6.5 MB    | 9          |  10% \n",
      "icc_rt-2022.1.0      | 6.5 MB    | #4         |  15% \n",
      "icc_rt-2022.1.0      | 6.5 MB    | ##         |  21% \n",
      "icc_rt-2022.1.0      | 6.5 MB    | ##7        |  27% \n",
      "icc_rt-2022.1.0      | 6.5 MB    | ###3       |  34% \n",
      "icc_rt-2022.1.0      | 6.5 MB    | ####       |  40% \n",
      "icc_rt-2022.1.0      | 6.5 MB    | ####6      |  47% \n",
      "icc_rt-2022.1.0      | 6.5 MB    | #####3     |  54% \n",
      "icc_rt-2022.1.0      | 6.5 MB    | ######     |  61% \n",
      "icc_rt-2022.1.0      | 6.5 MB    | ######6    |  67% \n",
      "icc_rt-2022.1.0      | 6.5 MB    | #######1   |  72% \n",
      "icc_rt-2022.1.0      | 6.5 MB    | ########2  |  83% \n",
      "icc_rt-2022.1.0      | 6.5 MB    | ########9  |  89% \n",
      "icc_rt-2022.1.0      | 6.5 MB    | ########## | 100% \n",
      "icc_rt-2022.1.0      | 6.5 MB    | ########## | 100% \n",
      "\n",
      "notebook-6.5.3       | 555 KB    |            |   0% \n",
      "notebook-6.5.3       | 555 KB    | ##5        |  26% \n",
      "notebook-6.5.3       | 555 KB    | ########## | 100% \n",
      "notebook-6.5.3       | 555 KB    | ########## | 100% \n",
      "\n",
      "statsmodels-0.13.5   | 9.6 MB    |            |   0% \n",
      "statsmodels-0.13.5   | 9.6 MB    |            |   1% \n",
      "statsmodels-0.13.5   | 9.6 MB    | 5          |   5% \n",
      "statsmodels-0.13.5   | 9.6 MB    | 9          |   9% \n",
      "statsmodels-0.13.5   | 9.6 MB    | #3         |  14% \n",
      "statsmodels-0.13.5   | 9.6 MB    | #7         |  18% \n",
      "statsmodels-0.13.5   | 9.6 MB    | ##2        |  22% \n",
      "statsmodels-0.13.5   | 9.6 MB    | ###4       |  34% \n",
      "statsmodels-0.13.5   | 9.6 MB    | ####       |  40% \n",
      "statsmodels-0.13.5   | 9.6 MB    | ####5      |  46% \n",
      "statsmodels-0.13.5   | 9.6 MB    | #####4     |  55% \n",
      "statsmodels-0.13.5   | 9.6 MB    | ######     |  60% \n",
      "statsmodels-0.13.5   | 9.6 MB    | ######5    |  65% \n",
      "statsmodels-0.13.5   | 9.6 MB    | #######1   |  71% \n",
      "statsmodels-0.13.5   | 9.6 MB    | #######7   |  78% \n",
      "statsmodels-0.13.5   | 9.6 MB    | ########2  |  83% \n",
      "statsmodels-0.13.5   | 9.6 MB    | ########8  |  88% \n",
      "statsmodels-0.13.5   | 9.6 MB    | #########2 |  93% \n",
      "statsmodels-0.13.5   | 9.6 MB    | ########## | 100% \n",
      "statsmodels-0.13.5   | 9.6 MB    | ########## | 100% \n",
      "\n",
      "pycodestyle-2.10.0   | 87 KB     |            |   0% \n",
      "pycodestyle-2.10.0   | 87 KB     | ########## | 100% \n",
      "pycodestyle-2.10.0   | 87 KB     | ########## | 100% \n",
      "\n",
      "locket-1.0.0         | 13 KB     |            |   0% \n",
      "locket-1.0.0         | 13 KB     | ########## | 100% \n",
      "\n",
      "attrs-22.1.0         | 84 KB     |            |   0% \n",
      "attrs-22.1.0         | 84 KB     | #######6   |  76% \n",
      "attrs-22.1.0         | 84 KB     | ########## | 100% \n",
      "\n",
      "pywavelets-1.4.1     | 3.5 MB    |            |   0% \n",
      "pywavelets-1.4.1     | 3.5 MB    | 3          |   4% \n",
      "pywavelets-1.4.1     | 3.5 MB    | #5         |  16% \n",
      "pywavelets-1.4.1     | 3.5 MB    | ##7        |  28% \n",
      "pywavelets-1.4.1     | 3.5 MB    | ###7       |  37% \n",
      "pywavelets-1.4.1     | 3.5 MB    | #####9     |  59% \n",
      "pywavelets-1.4.1     | 3.5 MB    | #######1   |  72% \n",
      "pywavelets-1.4.1     | 3.5 MB    | #########7 |  98% \n",
      "pywavelets-1.4.1     | 3.5 MB    | ########## | 100% \n",
      "\n",
      "brotli-bin-1.0.9     | 19 KB     |            |   0% \n",
      "brotli-bin-1.0.9     | 19 KB     | ########## | 100% \n",
      "brotli-bin-1.0.9     | 19 KB     | ########## | 100% \n",
      "\n",
      "platformdirs-2.5.2   | 24 KB     |            |   0% \n",
      "platformdirs-2.5.2   | 24 KB     | ########## | 100% \n",
      "platformdirs-2.5.2   | 24 KB     | ########## | 100% \n",
      "\n",
      "pytest-7.1.2         | 479 KB    |            |   0% \n",
      "pytest-7.1.2         | 479 KB    | ##3        |  23% \n",
      "pytest-7.1.2         | 479 KB    | ########## | 100% \n",
      "pytest-7.1.2         | 479 KB    | ########## | 100% \n",
      "\n",
      "pyodbc-4.0.34        | 64 KB     |            |   0% \n",
      "pyodbc-4.0.34        | 64 KB     | ########## | 100% \n",
      "pyodbc-4.0.34        | 64 KB     | ########## | 100% \n",
      "\n",
      "bottleneck-1.3.5     | 106 KB    |            |   0% \n",
      "bottleneck-1.3.5     | 106 KB    | #########  |  91% \n",
      "bottleneck-1.3.5     | 106 KB    | ########## | 100% \n",
      "\n",
      "ujson-5.4.0          | 44 KB     |            |   0% \n",
      "ujson-5.4.0          | 44 KB     | ########## | 100% \n",
      "ujson-5.4.0          | 44 KB     | ########## | 100% \n",
      "\n",
      "jupyterlab-3.5.3     | 4.0 MB    |            |   0% \n",
      "jupyterlab-3.5.3     | 4.0 MB    | 2          |   2% \n",
      "jupyterlab-3.5.3     | 4.0 MB    | #3         |  14% \n",
      "jupyterlab-3.5.3     | 4.0 MB    | ##4        |  24% \n",
      "jupyterlab-3.5.3     | 4.0 MB    | ###5       |  35% \n",
      "jupyterlab-3.5.3     | 4.0 MB    | ####5      |  45% \n",
      "jupyterlab-3.5.3     | 4.0 MB    | #####8     |  58% \n",
      "jupyterlab-3.5.3     | 4.0 MB    | ######7    |  67% \n",
      "jupyterlab-3.5.3     | 4.0 MB    | #######6   |  76% \n",
      "jupyterlab-3.5.3     | 4.0 MB    | ########## | 100% \n",
      "jupyterlab-3.5.3     | 4.0 MB    | ########## | 100% \n",
      "\n",
      "qtwebkit-5.212       | 10.3 MB   |            |   0% \n",
      "qtwebkit-5.212       | 10.3 MB   | 1          |   1% \n",
      "qtwebkit-5.212       | 10.3 MB   | 5          |   5% \n",
      "qtwebkit-5.212       | 10.3 MB   | 9          |  10% \n",
      "qtwebkit-5.212       | 10.3 MB   | #3         |  14% \n",
      "qtwebkit-5.212       | 10.3 MB   | #8         |  18% \n",
      "qtwebkit-5.212       | 10.3 MB   | ##2        |  22% \n",
      "qtwebkit-5.212       | 10.3 MB   | ###        |  30% \n",
      "qtwebkit-5.212       | 10.3 MB   | ###4       |  34% \n",
      "qtwebkit-5.212       | 10.3 MB   | ###8       |  39% \n",
      "qtwebkit-5.212       | 10.3 MB   | ####3      |  43% \n",
      "qtwebkit-5.212       | 10.3 MB   | ####6      |  47% \n",
      "qtwebkit-5.212       | 10.3 MB   | #####2     |  52% \n",
      "qtwebkit-5.212       | 10.3 MB   | #####8     |  58% \n",
      "qtwebkit-5.212       | 10.3 MB   | ######2    |  63% \n",
      "qtwebkit-5.212       | 10.3 MB   | ######6    |  67% \n",
      "qtwebkit-5.212       | 10.3 MB   | #######    |  71% \n",
      "qtwebkit-5.212       | 10.3 MB   | #######4   |  75% \n",
      "qtwebkit-5.212       | 10.3 MB   | #######9   |  79% \n",
      "qtwebkit-5.212       | 10.3 MB   | ########2  |  83% \n",
      "qtwebkit-5.212       | 10.3 MB   | #########  |  90% \n",
      "qtwebkit-5.212       | 10.3 MB   | #########4 |  95% \n",
      "qtwebkit-5.212       | 10.3 MB   | #########8 |  99% \n",
      "qtwebkit-5.212       | 10.3 MB   | ########## | 100% \n",
      "\n",
      "tzdata-2022g         | 114 KB    |            |   0% \n",
      "tzdata-2022g         | 114 KB    | ########4  |  84% \n",
      "tzdata-2022g         | 114 KB    | ########## | 100% \n",
      "\n",
      "zstandard-0.19.0     | 340 KB    |            |   0% \n",
      "zstandard-0.19.0     | 340 KB    | ###2       |  33% \n",
      "zstandard-0.19.0     | 340 KB    | ########## | 100% \n",
      "\n",
      "imbalanced-learn-0.1 | 273 KB    |            |   0% \n",
      "imbalanced-learn-0.1 | 273 KB    | ####6      |  47% \n",
      "imbalanced-learn-0.1 | 273 KB    | ########## | 100% \n",
      "imbalanced-learn-0.1 | 273 KB    | ########## | 100% \n",
      "\n",
      "dill-0.3.6           | 186 KB    |            |   0% \n",
      "dill-0.3.6           | 186 KB    | ####3      |  43% \n",
      "dill-0.3.6           | 186 KB    | ########## | 100% \n",
      "\n",
      "pytz-2022.7          | 210 KB    |            |   0% \n",
      "pytz-2022.7          | 210 KB    | ######1    |  61% \n",
      "pytz-2022.7          | 210 KB    | ########## | 100% \n",
      "\n",
      "babel-2.11.0         | 6.8 MB    |            |   0% \n",
      "babel-2.11.0         | 6.8 MB    | 1          |   2% \n",
      "babel-2.11.0         | 6.8 MB    | 8          |   9% \n",
      "babel-2.11.0         | 6.8 MB    | #4         |  15% \n",
      "babel-2.11.0         | 6.8 MB    | ##1        |  21% \n",
      "babel-2.11.0         | 6.8 MB    | ##6        |  27% \n",
      "babel-2.11.0         | 6.8 MB    | ###1       |  31% \n",
      "babel-2.11.0         | 6.8 MB    | ####6      |  46% \n",
      "babel-2.11.0         | 6.8 MB    | #####4     |  54% \n",
      "babel-2.11.0         | 6.8 MB    | ######     |  60% \n",
      "babel-2.11.0         | 6.8 MB    | ######5    |  66% \n",
      "babel-2.11.0         | 6.8 MB    | #######4   |  74% \n",
      "babel-2.11.0         | 6.8 MB    | ########   |  80% \n",
      "babel-2.11.0         | 6.8 MB    | #########2 |  92% \n",
      "babel-2.11.0         | 6.8 MB    | ########## | 100% \n",
      "babel-2.11.0         | 6.8 MB    | ########## | 100% \n",
      "\n",
      "conda-token-0.4.0    | 13 KB     |            |   0% \n",
      "conda-token-0.4.0    | 13 KB     | ########## | 100% \n",
      "conda-token-0.4.0    | 13 KB     | ########## | 100% \n",
      "\n",
      "intake-0.6.8         | 225 KB    |            |   0% \n",
      "intake-0.6.8         | 225 KB    | #####6     |  57% \n",
      "intake-0.6.8         | 225 KB    | ########## | 100% \n",
      "\n",
      "transformers-4.24.0  | 4.7 MB    |            |   0% \n",
      "transformers-4.24.0  | 4.7 MB    | 1          |   1% \n",
      "transformers-4.24.0  | 4.7 MB    | #2         |  13% \n",
      "transformers-4.24.0  | 4.7 MB    | ##1        |  21% \n",
      "transformers-4.24.0  | 4.7 MB    | ##9        |  29% \n",
      "transformers-4.24.0  | 4.7 MB    | ###7       |  38% \n",
      "transformers-4.24.0  | 4.7 MB    | ####5      |  45% \n",
      "transformers-4.24.0  | 4.7 MB    | ######5    |  65% \n",
      "transformers-4.24.0  | 4.7 MB    | #######5   |  75% \n",
      "transformers-4.24.0  | 4.7 MB    | ########5  |  85% \n",
      "transformers-4.24.0  | 4.7 MB    | #########4 |  94% \n",
      "transformers-4.24.0  | 4.7 MB    | ########## | 100% \n",
      "\n",
      "arrow-1.2.3          | 158 KB    |            |   0% \n",
      "arrow-1.2.3          | 158 KB    | #######1   |  71% \n",
      "arrow-1.2.3          | 158 KB    | ########## | 100% \n",
      "\n",
      "jxrlib-1.1           | 337 KB    |            |   0% \n",
      "jxrlib-1.1           | 337 KB    | ###7       |  38% \n",
      "jxrlib-1.1           | 337 KB    | ########## | 100% \n",
      "\n",
      "autopep8-1.6.0       | 43 KB     |            |   0% \n",
      "autopep8-1.6.0       | 43 KB     | ########## | 100% \n",
      "autopep8-1.6.0       | 43 KB     | ########## | 100% \n",
      "\n",
      "numpy-base-1.23.5    | 6.0 MB    |            |   0% \n",
      "numpy-base-1.23.5    | 6.0 MB    | 2          |   2% \n",
      "numpy-base-1.23.5    | 6.0 MB    | 9          |  10% \n",
      "numpy-base-1.23.5    | 6.0 MB    | #6         |  17% \n",
      "numpy-base-1.23.5    | 6.0 MB    | ##2        |  22% \n",
      "numpy-base-1.23.5    | 6.0 MB    | ##6        |  27% \n",
      "numpy-base-1.23.5    | 6.0 MB    | ###1       |  32% \n",
      "numpy-base-1.23.5    | 6.0 MB    | #####8     |  59% \n",
      "numpy-base-1.23.5    | 6.0 MB    | ######5    |  66% \n",
      "numpy-base-1.23.5    | 6.0 MB    | #######1   |  72% \n",
      "numpy-base-1.23.5    | 6.0 MB    | #########4 |  94% \n",
      "numpy-base-1.23.5    | 6.0 MB    | ########## | 100% \n",
      "\n",
      "bcrypt-3.2.0         | 37 KB     |            |   0% \n",
      "bcrypt-3.2.0         | 37 KB     | ########## | 100% \n",
      "bcrypt-3.2.0         | 37 KB     | ########## | 100% \n",
      "\n",
      "panel-0.14.3         | 12.6 MB   |            |   0% \n",
      "panel-0.14.3         | 12.6 MB   |            |   1% \n",
      "panel-0.14.3         | 12.6 MB   | 4          |   5% \n",
      "panel-0.14.3         | 12.6 MB   | 7          |   8% \n",
      "panel-0.14.3         | 12.6 MB   | 9          |  10% \n",
      "panel-0.14.3         | 12.6 MB   | #2         |  13% \n",
      "panel-0.14.3         | 12.6 MB   | #6         |  16% \n",
      "panel-0.14.3         | 12.6 MB   | #8         |  19% \n",
      "panel-0.14.3         | 12.6 MB   | ##3        |  23% \n",
      "panel-0.14.3         | 12.6 MB   | ##6        |  26% \n",
      "panel-0.14.3         | 12.6 MB   | ##8        |  29% \n",
      "panel-0.14.3         | 12.6 MB   | ###6       |  37% \n",
      "panel-0.14.3         | 12.6 MB   | ####       |  40% \n",
      "panel-0.14.3         | 12.6 MB   | ####3      |  44% \n",
      "panel-0.14.3         | 12.6 MB   | ####7      |  47% \n",
      "panel-0.14.3         | 12.6 MB   | #####      |  51% \n",
      "panel-0.14.3         | 12.6 MB   | #####3     |  54% \n",
      "panel-0.14.3         | 12.6 MB   | #####6     |  57% \n",
      "panel-0.14.3         | 12.6 MB   | #####9     |  60% \n",
      "panel-0.14.3         | 12.6 MB   | ######6    |  66% \n",
      "panel-0.14.3         | 12.6 MB   | #######2   |  72% \n",
      "panel-0.14.3         | 12.6 MB   | #######6   |  77% \n",
      "panel-0.14.3         | 12.6 MB   | ########8  |  88% \n",
      "panel-0.14.3         | 12.6 MB   | #########7 |  97% \n",
      "panel-0.14.3         | 12.6 MB   | ########## | 100% \n",
      "\n",
      "jpeg-9e              | 320 KB    |            |   0% \n",
      "jpeg-9e              | 320 KB    | ####       |  40% \n",
      "jpeg-9e              | 320 KB    | ########## | 100% \n",
      "\n",
      "contourpy-1.0.5      | 159 KB    |            |   0% \n",
      "contourpy-1.0.5      | 159 KB    | #########  |  90% \n",
      "contourpy-1.0.5      | 159 KB    | ########## | 100% \n",
      "\n",
      "qtpy-2.2.0           | 106 KB    |            |   0% \n",
      "qtpy-2.2.0           | 106 KB    | #########  |  91% \n",
      "qtpy-2.2.0           | 106 KB    | ########## | 100% \n",
      "\n",
      "numexpr-2.8.4        | 127 KB    |            |   0% \n",
      "numexpr-2.8.4        | 127 KB    | ########8  |  88% \n",
      "numexpr-2.8.4        | 127 KB    | ########## | 100% \n",
      "\n",
      "spyder-5.4.2         | 10.3 MB   |            |   0% \n",
      "spyder-5.4.2         | 10.3 MB   | 1          |   2% \n",
      "spyder-5.4.2         | 10.3 MB   | 5          |   5% \n",
      "spyder-5.4.2         | 10.3 MB   | 9          |   9% \n",
      "spyder-5.4.2         | 10.3 MB   | #2         |  13% \n",
      "spyder-5.4.2         | 10.3 MB   | #7         |  17% \n",
      "spyder-5.4.2         | 10.3 MB   | ##3        |  24% \n",
      "spyder-5.4.2         | 10.3 MB   | ###1       |  31% \n",
      "spyder-5.4.2         | 10.3 MB   | ###4       |  35% \n",
      "spyder-5.4.2         | 10.3 MB   | #####2     |  52% \n",
      "spyder-5.4.2         | 10.3 MB   | #####9     |  59% \n",
      "spyder-5.4.2         | 10.3 MB   | ######4    |  65% \n",
      "spyder-5.4.2         | 10.3 MB   | #######    |  71% \n",
      "spyder-5.4.2         | 10.3 MB   | #######5   |  75% \n",
      "spyder-5.4.2         | 10.3 MB   | ########1  |  82% \n",
      "spyder-5.4.2         | 10.3 MB   | ########6  |  86% \n",
      "spyder-5.4.2         | 10.3 MB   | #########1 |  91% \n",
      "spyder-5.4.2         | 10.3 MB   | #########8 |  98% \n",
      "spyder-5.4.2         | 10.3 MB   | ########## | 100% \n",
      "\n",
      "sip-6.6.2            | 434 KB    |            |   0% \n",
      "sip-6.6.2            | 434 KB    | ##5        |  26% \n",
      "sip-6.6.2            | 434 KB    | ########## | 100% \n",
      "sip-6.6.2            | 434 KB    | ########## | 100% \n",
      "\n",
      "traitlets-5.7.1      | 205 KB    |            |   0% \n",
      "traitlets-5.7.1      | 205 KB    | ###1       |  31% \n",
      "traitlets-5.7.1      | 205 KB    | ########## | 100% \n",
      "\n",
      "ipywidgets-8.0.4     | 199 KB    |            |   0% \n",
      "ipywidgets-8.0.4     | 199 KB    | #####6     |  56% \n",
      "ipywidgets-8.0.4     | 199 KB    | ########## | 100% \n",
      "\n",
      "pytorch-1.12.1       | 80.5 MB   |            |   0% \n",
      "pytorch-1.12.1       | 80.5 MB   |            |   0% \n",
      "pytorch-1.12.1       | 80.5 MB   |            |   1% \n",
      "pytorch-1.12.1       | 80.5 MB   | 1          |   1% \n",
      "pytorch-1.12.1       | 80.5 MB   | 1          |   2% \n",
      "pytorch-1.12.1       | 80.5 MB   | 2          |   2% \n",
      "pytorch-1.12.1       | 80.5 MB   | 3          |   3% \n",
      "pytorch-1.12.1       | 80.5 MB   | 3          |   4% \n",
      "pytorch-1.12.1       | 80.5 MB   | 4          |   4% \n",
      "pytorch-1.12.1       | 80.5 MB   | 4          |   4% \n",
      "pytorch-1.12.1       | 80.5 MB   | 4          |   5% \n",
      "pytorch-1.12.1       | 80.5 MB   | 5          |   5% \n",
      "pytorch-1.12.1       | 80.5 MB   | 5          |   6% \n",
      "pytorch-1.12.1       | 80.5 MB   | 5          |   6% \n",
      "pytorch-1.12.1       | 80.5 MB   | 6          |   6% \n",
      "pytorch-1.12.1       | 80.5 MB   | 6          |   7% \n",
      "pytorch-1.12.1       | 80.5 MB   | 7          |   7% \n",
      "pytorch-1.12.1       | 80.5 MB   | 9          |  10% \n",
      "pytorch-1.12.1       | 80.5 MB   | #          |  11% \n",
      "pytorch-1.12.1       | 80.5 MB   | #1         |  11% \n",
      "pytorch-1.12.1       | 80.5 MB   | #1         |  12% \n",
      "pytorch-1.12.1       | 80.5 MB   | #3         |  14% \n",
      "pytorch-1.12.1       | 80.5 MB   | #4         |  15% \n",
      "pytorch-1.12.1       | 80.5 MB   | #5         |  15% \n",
      "pytorch-1.12.1       | 80.5 MB   | #5         |  16% \n",
      "pytorch-1.12.1       | 80.5 MB   | #6         |  17% \n",
      "pytorch-1.12.1       | 80.5 MB   | #7         |  17% \n",
      "pytorch-1.12.1       | 80.5 MB   | #7         |  18% \n",
      "pytorch-1.12.1       | 80.5 MB   | #7         |  18% \n",
      "pytorch-1.12.1       | 80.5 MB   | #8         |  18% \n",
      "pytorch-1.12.1       | 80.5 MB   | #8         |  19% \n",
      "pytorch-1.12.1       | 80.5 MB   | #9         |  19% \n",
      "pytorch-1.12.1       | 80.5 MB   | #9         |  20% \n",
      "pytorch-1.12.1       | 80.5 MB   | ##         |  20% \n",
      "pytorch-1.12.1       | 80.5 MB   | ##         |  20% \n",
      "pytorch-1.12.1       | 80.5 MB   | ##         |  21% \n",
      "pytorch-1.12.1       | 80.5 MB   | ##1        |  21% \n",
      "pytorch-1.12.1       | 80.5 MB   | ##1        |  22% \n",
      "pytorch-1.12.1       | 80.5 MB   | ##2        |  22% \n",
      "pytorch-1.12.1       | 80.5 MB   | ##2        |  23% \n",
      "pytorch-1.12.1       | 80.5 MB   | ##2        |  23% \n",
      "pytorch-1.12.1       | 80.5 MB   | ##3        |  23% \n",
      "pytorch-1.12.1       | 80.5 MB   | ##3        |  24% \n",
      "pytorch-1.12.1       | 80.5 MB   | ##4        |  24% \n",
      "pytorch-1.12.1       | 80.5 MB   | ##4        |  25% \n",
      "pytorch-1.12.1       | 80.5 MB   | ##5        |  25% \n",
      "pytorch-1.12.1       | 80.5 MB   | ##5        |  25% \n",
      "pytorch-1.12.1       | 80.5 MB   | ##5        |  26% \n",
      "pytorch-1.12.1       | 80.5 MB   | ##6        |  27% \n",
      "pytorch-1.12.1       | 80.5 MB   | ##6        |  27% \n",
      "pytorch-1.12.1       | 80.5 MB   | ##7        |  27% \n",
      "pytorch-1.12.1       | 80.5 MB   | ##7        |  28% \n",
      "pytorch-1.12.1       | 80.5 MB   | ##8        |  28% \n",
      "pytorch-1.12.1       | 80.5 MB   | ##8        |  29% \n",
      "pytorch-1.12.1       | 80.5 MB   | ##9        |  30% \n",
      "pytorch-1.12.1       | 80.5 MB   | ###        |  31% \n",
      "pytorch-1.12.1       | 80.5 MB   | ###1       |  31% \n",
      "pytorch-1.12.1       | 80.5 MB   | ###1       |  32% \n",
      "pytorch-1.12.1       | 80.5 MB   | ###2       |  33% \n",
      "pytorch-1.12.1       | 80.5 MB   | ###3       |  33% \n",
      "pytorch-1.12.1       | 80.5 MB   | ###3       |  34% \n",
      "pytorch-1.12.1       | 80.5 MB   | ###4       |  34% \n",
      "pytorch-1.12.1       | 80.5 MB   | ###5       |  35% \n",
      "pytorch-1.12.1       | 80.5 MB   | ###5       |  36% \n",
      "pytorch-1.12.1       | 80.5 MB   | ###7       |  37% \n",
      "pytorch-1.12.1       | 80.5 MB   | ###7       |  38% \n",
      "pytorch-1.12.1       | 80.5 MB   | ###8       |  38% \n",
      "pytorch-1.12.1       | 80.5 MB   | ###8       |  39% \n",
      "pytorch-1.12.1       | 80.5 MB   | ###9       |  40% \n",
      "pytorch-1.12.1       | 80.5 MB   | ####       |  40% \n",
      "pytorch-1.12.1       | 80.5 MB   | ####       |  41% \n",
      "pytorch-1.12.1       | 80.5 MB   | ####2      |  42% \n",
      "pytorch-1.12.1       | 80.5 MB   | ####2      |  43% \n",
      "pytorch-1.12.1       | 80.5 MB   | ####3      |  43% \n",
      "pytorch-1.12.1       | 80.5 MB   | ####4      |  44% \n",
      "pytorch-1.12.1       | 80.5 MB   | ####5      |  45% \n",
      "pytorch-1.12.1       | 80.5 MB   | ####5      |  46% \n",
      "pytorch-1.12.1       | 80.5 MB   | ####6      |  47% \n",
      "pytorch-1.12.1       | 80.5 MB   | ####7      |  48% \n",
      "pytorch-1.12.1       | 80.5 MB   | ####8      |  49% \n",
      "pytorch-1.12.1       | 80.5 MB   | ####9      |  50% \n",
      "pytorch-1.12.1       | 80.5 MB   | #####      |  50% \n",
      "\n",
      "Note: you may need to restart the kernel to use updated packages.\n"
     ]
    },
    {
     "name": "stderr",
     "output_type": "stream",
     "text": [
      "\n",
      "The environment is inconsistent, please check the package plan carefully\n",
      "The following packages are causing the inconsistency:\n",
      "\n",
      "  - defaults/win-64::anaconda==2022.05=py39_0\n",
      "  - defaults/noarch::nltk==3.7=pyhd3eb1b0_0\n",
      "  - defaults/win-64::scikit-learn-intelex==2021.5.0=py39haa95532_0\n",
      "\n",
      "\n",
      "==> WARNING: A newer version of conda exists. <==\n",
      "  current version: 22.9.0\n",
      "  latest version: 23.3.1\n",
      "\n",
      "Please update conda by running\n",
      "\n",
      "    $ conda update -n base -c defaults conda\n",
      "\n",
      "\n"
     ]
    },
    {
     "name": "stdout",
     "output_type": "stream",
     "text": [
      "pytorch-1.12.1       | 80.5 MB   | #####1     |  51% \n",
      "pytorch-1.12.1       | 80.5 MB   | #####1     |  52% \n",
      "pytorch-1.12.1       | 80.5 MB   | #####2     |  52% \n",
      "pytorch-1.12.1       | 80.5 MB   | #####3     |  54% \n",
      "pytorch-1.12.1       | 80.5 MB   | #####4     |  55% \n",
      "pytorch-1.12.1       | 80.5 MB   | #####5     |  55% \n",
      "pytorch-1.12.1       | 80.5 MB   | #####5     |  56% \n",
      "pytorch-1.12.1       | 80.5 MB   | #####6     |  57% \n",
      "pytorch-1.12.1       | 80.5 MB   | #####7     |  57% \n",
      "pytorch-1.12.1       | 80.5 MB   | #####7     |  58% \n",
      "pytorch-1.12.1       | 80.5 MB   | #####8     |  58% \n",
      "pytorch-1.12.1       | 80.5 MB   | #####8     |  59% \n",
      "pytorch-1.12.1       | 80.5 MB   | #####9     |  60% \n",
      "pytorch-1.12.1       | 80.5 MB   | ######     |  60% \n",
      "pytorch-1.12.1       | 80.5 MB   | ######     |  61% \n",
      "pytorch-1.12.1       | 80.5 MB   | ######1    |  61% \n",
      "pytorch-1.12.1       | 80.5 MB   | ######1    |  62% \n",
      "pytorch-1.12.1       | 80.5 MB   | ######2    |  63% \n",
      "pytorch-1.12.1       | 80.5 MB   | ######3    |  63% \n",
      "pytorch-1.12.1       | 80.5 MB   | ######4    |  64% \n",
      "pytorch-1.12.1       | 80.5 MB   | ######4    |  65% \n",
      "pytorch-1.12.1       | 80.5 MB   | ######5    |  66% \n",
      "pytorch-1.12.1       | 80.5 MB   | ######6    |  66% \n",
      "pytorch-1.12.1       | 80.5 MB   | ######6    |  67% \n",
      "pytorch-1.12.1       | 80.5 MB   | ######7    |  68% \n",
      "pytorch-1.12.1       | 80.5 MB   | ######8    |  68% \n",
      "pytorch-1.12.1       | 80.5 MB   | ######8    |  69% \n",
      "pytorch-1.12.1       | 80.5 MB   | ######9    |  69% \n",
      "pytorch-1.12.1       | 80.5 MB   | ######9    |  70% \n",
      "pytorch-1.12.1       | 80.5 MB   | #######    |  70% \n",
      "pytorch-1.12.1       | 80.5 MB   | #######1   |  71% \n",
      "pytorch-1.12.1       | 80.5 MB   | #######1   |  72% \n",
      "pytorch-1.12.1       | 80.5 MB   | #######2   |  72% \n",
      "pytorch-1.12.1       | 80.5 MB   | #######2   |  73% \n",
      "pytorch-1.12.1       | 80.5 MB   | #######3   |  73% \n",
      "pytorch-1.12.1       | 80.5 MB   | #######3   |  74% \n",
      "pytorch-1.12.1       | 80.5 MB   | #######4   |  74% \n",
      "pytorch-1.12.1       | 80.5 MB   | #######4   |  75% \n",
      "pytorch-1.12.1       | 80.5 MB   | #######5   |  75% \n",
      "pytorch-1.12.1       | 80.5 MB   | #######5   |  76% \n",
      "pytorch-1.12.1       | 80.5 MB   | #######7   |  77% \n",
      "pytorch-1.12.1       | 80.5 MB   | #######7   |  78% \n",
      "pytorch-1.12.1       | 80.5 MB   | #######8   |  78% \n",
      "pytorch-1.12.1       | 80.5 MB   | #######8   |  79% \n",
      "pytorch-1.12.1       | 80.5 MB   | #######9   |  80% \n",
      "pytorch-1.12.1       | 80.5 MB   | ########   |  80% \n",
      "pytorch-1.12.1       | 80.5 MB   | ########   |  81% \n",
      "pytorch-1.12.1       | 80.5 MB   | ########1  |  82% \n",
      "pytorch-1.12.1       | 80.5 MB   | ########2  |  82% \n",
      "pytorch-1.12.1       | 80.5 MB   | ########2  |  83% \n",
      "pytorch-1.12.1       | 80.5 MB   | ########3  |  83% \n",
      "pytorch-1.12.1       | 80.5 MB   | ########3  |  84% \n",
      "pytorch-1.12.1       | 80.5 MB   | ########4  |  84% \n",
      "pytorch-1.12.1       | 80.5 MB   | ########5  |  85% \n",
      "pytorch-1.12.1       | 80.5 MB   | ########5  |  86% \n",
      "pytorch-1.12.1       | 80.5 MB   | ########6  |  86% \n",
      "pytorch-1.12.1       | 80.5 MB   | ########6  |  87% \n",
      "pytorch-1.12.1       | 80.5 MB   | ########8  |  88% \n",
      "pytorch-1.12.1       | 80.5 MB   | ########8  |  89% \n",
      "pytorch-1.12.1       | 80.5 MB   | ########9  |  90% \n",
      "pytorch-1.12.1       | 80.5 MB   | #########  |  90% \n",
      "pytorch-1.12.1       | 80.5 MB   | #########  |  91% \n",
      "pytorch-1.12.1       | 80.5 MB   | #########1 |  91% \n",
      "pytorch-1.12.1       | 80.5 MB   | #########1 |  92% \n",
      "pytorch-1.12.1       | 80.5 MB   | #########2 |  92% \n",
      "pytorch-1.12.1       | 80.5 MB   | #########2 |  93% \n",
      "pytorch-1.12.1       | 80.5 MB   | #########4 |  94% \n",
      "pytorch-1.12.1       | 80.5 MB   | #########4 |  95% \n",
      "pytorch-1.12.1       | 80.5 MB   | #########5 |  95% \n",
      "pytorch-1.12.1       | 80.5 MB   | #########6 |  97% \n",
      "pytorch-1.12.1       | 80.5 MB   | #########7 |  98% \n",
      "pytorch-1.12.1       | 80.5 MB   | #########8 |  98% \n",
      "pytorch-1.12.1       | 80.5 MB   | #########9 |  99% \n",
      "pytorch-1.12.1       | 80.5 MB   | #########9 | 100% \n",
      "pytorch-1.12.1       | 80.5 MB   | ########## | 100% \n",
      "\n",
      "imageio-2.26.0       | 3.4 MB    |            |   0% \n",
      "imageio-2.26.0       | 3.4 MB    | 3          |   4% \n",
      "imageio-2.26.0       | 3.4 MB    | #6         |  17% \n",
      "imageio-2.26.0       | 3.4 MB    | ##9        |  30% \n",
      "imageio-2.26.0       | 3.4 MB    | ####2      |  42% \n",
      "imageio-2.26.0       | 3.4 MB    | #####5     |  56% \n",
      "imageio-2.26.0       | 3.4 MB    | ######8    |  68% \n",
      "imageio-2.26.0       | 3.4 MB    | #######9   |  80% \n",
      "imageio-2.26.0       | 3.4 MB    | ########## | 100% \n",
      "imageio-2.26.0       | 3.4 MB    | ########## | 100% \n",
      "\n",
      "hvplot-0.8.2         | 3.1 MB    |            |   0% \n",
      "hvplot-0.8.2         | 3.1 MB    | 3          |   4% \n",
      "hvplot-0.8.2         | 3.1 MB    | #6         |  17% \n",
      "hvplot-0.8.2         | 3.1 MB    | ##9        |  30% \n",
      "hvplot-0.8.2         | 3.1 MB    | ####4      |  44% \n",
      "hvplot-0.8.2         | 3.1 MB    | #####5     |  56% \n",
      "hvplot-0.8.2         | 3.1 MB    | ######5    |  66% \n",
      "hvplot-0.8.2         | 3.1 MB    | ########7  |  88% \n",
      "hvplot-0.8.2         | 3.1 MB    | ########## | 100% \n",
      "\n",
      "libbrotlidec-1.0.9   | 30 KB     |            |   0% \n",
      "libbrotlidec-1.0.9   | 30 KB     | ########## | 100% \n",
      "libbrotlidec-1.0.9   | 30 KB     | ########## | 100% \n",
      "\n",
      "toolz-0.12.0         | 106 KB    |            |   0% \n",
      "toolz-0.12.0         | 106 KB    | ########## | 100% \n",
      "toolz-0.12.0         | 106 KB    | ########## | 100% \n",
      "\n",
      "xz-5.2.10            | 520 KB    |            |   0% \n",
      "xz-5.2.10            | 520 KB    | ##1        |  22% \n",
      "xz-5.2.10            | 520 KB    | ########## | 100% \n",
      "xz-5.2.10            | 520 KB    | ########## | 100% \n",
      "\n",
      "ipykernel-6.19.2     | 218 KB    |            |   0% \n",
      "ipykernel-6.19.2     | 218 KB    | #####1     |  51% \n",
      "ipykernel-6.19.2     | 218 KB    | ########## | 100% \n",
      "\n",
      "blosc-1.21.3         | 86 KB     |            |   0% \n",
      "blosc-1.21.3         | 86 KB     | ########## | 100% \n",
      "blosc-1.21.3         | 86 KB     | ########## | 100% \n",
      "\n",
      "requests-2.28.1      | 98 KB     |            |   0% \n",
      "requests-2.28.1      | 98 KB     | ########## | 100% \n",
      "requests-2.28.1      | 98 KB     | ########## | 100% \n",
      "\n",
      "openssl-1.1.1t       | 5.5 MB    |            |   0% \n",
      "openssl-1.1.1t       | 5.5 MB    | 2          |   3% \n",
      "openssl-1.1.1t       | 5.5 MB    | #          |  11% \n",
      "openssl-1.1.1t       | 5.5 MB    | #8         |  19% \n",
      "openssl-1.1.1t       | 5.5 MB    | ##5        |  26% \n",
      "openssl-1.1.1t       | 5.5 MB    | ###2       |  33% \n",
      "openssl-1.1.1t       | 5.5 MB    | ###7       |  38% \n",
      "openssl-1.1.1t       | 5.5 MB    | #####4     |  55% \n",
      "openssl-1.1.1t       | 5.5 MB    | ######3    |  63% \n",
      "openssl-1.1.1t       | 5.5 MB    | ########## | 100% \n",
      "openssl-1.1.1t       | 5.5 MB    | ########## | 100% \n",
      "\n",
      "qt-webengine-5.15.9  | 48.9 MB   |            |   0% \n",
      "qt-webengine-5.15.9  | 48.9 MB   |            |   0% \n",
      "qt-webengine-5.15.9  | 48.9 MB   | 1          |   1% \n",
      "qt-webengine-5.15.9  | 48.9 MB   | 1          |   2% \n",
      "qt-webengine-5.15.9  | 48.9 MB   | 2          |   3% \n",
      "qt-webengine-5.15.9  | 48.9 MB   | 3          |   4% \n",
      "qt-webengine-5.15.9  | 48.9 MB   | 4          |   5% \n",
      "qt-webengine-5.15.9  | 48.9 MB   | 5          |   5% \n",
      "qt-webengine-5.15.9  | 48.9 MB   | 5          |   6% \n",
      "qt-webengine-5.15.9  | 48.9 MB   | 8          |   9% \n",
      "qt-webengine-5.15.9  | 48.9 MB   | 9          |  10% \n",
      "qt-webengine-5.15.9  | 48.9 MB   | #          |  11% \n",
      "qt-webengine-5.15.9  | 48.9 MB   | #1         |  12% \n",
      "qt-webengine-5.15.9  | 48.9 MB   | #3         |  14% \n",
      "qt-webengine-5.15.9  | 48.9 MB   | #5         |  15% \n",
      "qt-webengine-5.15.9  | 48.9 MB   | #6         |  16% \n",
      "qt-webengine-5.15.9  | 48.9 MB   | #7         |  17% \n",
      "qt-webengine-5.15.9  | 48.9 MB   | #8         |  18% \n",
      "qt-webengine-5.15.9  | 48.9 MB   | #9         |  19% \n",
      "qt-webengine-5.15.9  | 48.9 MB   | ##         |  20% \n",
      "qt-webengine-5.15.9  | 48.9 MB   | ##1        |  21% \n",
      "qt-webengine-5.15.9  | 48.9 MB   | ##3        |  23% \n",
      "qt-webengine-5.15.9  | 48.9 MB   | ##5        |  26% \n",
      "qt-webengine-5.15.9  | 48.9 MB   | ##6        |  27% \n",
      "qt-webengine-5.15.9  | 48.9 MB   | ##7        |  28% \n",
      "qt-webengine-5.15.9  | 48.9 MB   | ##8        |  29% \n",
      "qt-webengine-5.15.9  | 48.9 MB   | ###        |  30% \n",
      "qt-webengine-5.15.9  | 48.9 MB   | ###1       |  31% \n",
      "qt-webengine-5.15.9  | 48.9 MB   | ###2       |  32% \n",
      "qt-webengine-5.15.9  | 48.9 MB   | ###3       |  33% \n",
      "qt-webengine-5.15.9  | 48.9 MB   | ###4       |  34% \n",
      "qt-webengine-5.15.9  | 48.9 MB   | ###5       |  35% \n",
      "qt-webengine-5.15.9  | 48.9 MB   | ###6       |  36% \n",
      "qt-webengine-5.15.9  | 48.9 MB   | ###7       |  38% \n",
      "qt-webengine-5.15.9  | 48.9 MB   | ###9       |  39% \n",
      "qt-webengine-5.15.9  | 48.9 MB   | ####1      |  42% \n",
      "qt-webengine-5.15.9  | 48.9 MB   | ####3      |  43% \n",
      "qt-webengine-5.15.9  | 48.9 MB   | ####4      |  44% \n",
      "qt-webengine-5.15.9  | 48.9 MB   | ####6      |  47% \n",
      "qt-webengine-5.15.9  | 48.9 MB   | ####7      |  48% \n",
      "qt-webengine-5.15.9  | 48.9 MB   | ####9      |  49% \n",
      "qt-webengine-5.15.9  | 48.9 MB   | #####      |  50% \n",
      "qt-webengine-5.15.9  | 48.9 MB   | #####1     |  52% \n",
      "qt-webengine-5.15.9  | 48.9 MB   | #####2     |  53% \n",
      "qt-webengine-5.15.9  | 48.9 MB   | #####3     |  53% \n",
      "qt-webengine-5.15.9  | 48.9 MB   | #####4     |  54% \n",
      "qt-webengine-5.15.9  | 48.9 MB   | #####5     |  55% \n",
      "qt-webengine-5.15.9  | 48.9 MB   | #####6     |  56% \n",
      "qt-webengine-5.15.9  | 48.9 MB   | #####6     |  57% \n",
      "qt-webengine-5.15.9  | 48.9 MB   | #####7     |  58% \n",
      "qt-webengine-5.15.9  | 48.9 MB   | #####8     |  59% \n",
      "qt-webengine-5.15.9  | 48.9 MB   | #####9     |  59% \n",
      "qt-webengine-5.15.9  | 48.9 MB   | ######     |  60% \n",
      "qt-webengine-5.15.9  | 48.9 MB   | ######1    |  62% \n",
      "qt-webengine-5.15.9  | 48.9 MB   | ######2    |  63% \n",
      "qt-webengine-5.15.9  | 48.9 MB   | ######3    |  64% \n",
      "qt-webengine-5.15.9  | 48.9 MB   | ######4    |  65% \n",
      "qt-webengine-5.15.9  | 48.9 MB   | ######5    |  65% \n",
      "qt-webengine-5.15.9  | 48.9 MB   | ######6    |  66% \n",
      "qt-webengine-5.15.9  | 48.9 MB   | ######7    |  68% \n",
      "qt-webengine-5.15.9  | 48.9 MB   | ######8    |  69% \n",
      "qt-webengine-5.15.9  | 48.9 MB   | ######9    |  69% \n",
      "qt-webengine-5.15.9  | 48.9 MB   | #######1   |  72% \n",
      "qt-webengine-5.15.9  | 48.9 MB   | #######2   |  73% \n",
      "qt-webengine-5.15.9  | 48.9 MB   | #######3   |  74% \n",
      "qt-webengine-5.15.9  | 48.9 MB   | #######4   |  75% \n",
      "qt-webengine-5.15.9  | 48.9 MB   | #######5   |  76% \n",
      "qt-webengine-5.15.9  | 48.9 MB   | #######6   |  77% \n",
      "qt-webengine-5.15.9  | 48.9 MB   | #######7   |  78% \n",
      "qt-webengine-5.15.9  | 48.9 MB   | #######9   |  79% \n",
      "qt-webengine-5.15.9  | 48.9 MB   | ########   |  80% \n",
      "qt-webengine-5.15.9  | 48.9 MB   | ########1  |  81% \n",
      "qt-webengine-5.15.9  | 48.9 MB   | ########2  |  82% \n",
      "qt-webengine-5.15.9  | 48.9 MB   | ########3  |  84% \n",
      "qt-webengine-5.15.9  | 48.9 MB   | ########5  |  85% \n",
      "qt-webengine-5.15.9  | 48.9 MB   | ########6  |  86% \n",
      "qt-webengine-5.15.9  | 48.9 MB   | ########7  |  87% \n",
      "qt-webengine-5.15.9  | 48.9 MB   | ########8  |  89% \n",
      "qt-webengine-5.15.9  | 48.9 MB   | #########  |  90% \n",
      "qt-webengine-5.15.9  | 48.9 MB   | #########1 |  92% \n",
      "qt-webengine-5.15.9  | 48.9 MB   | #########2 |  93% \n",
      "qt-webengine-5.15.9  | 48.9 MB   | #########3 |  94% \n",
      "qt-webengine-5.15.9  | 48.9 MB   | #########4 |  94% \n",
      "qt-webengine-5.15.9  | 48.9 MB   | #########5 |  95% \n",
      "qt-webengine-5.15.9  | 48.9 MB   | #########6 |  96% \n",
      "qt-webengine-5.15.9  | 48.9 MB   | #########7 |  98% \n",
      "qt-webengine-5.15.9  | 48.9 MB   | ########## | 100% \n",
      "qt-webengine-5.15.9  | 48.9 MB   | ########## | 100% \n",
      "\n",
      "anaconda-custom      | 4 KB      |            |   0% \n",
      "anaconda-custom      | 4 KB      | ########## | 100% \n",
      "anaconda-custom      | 4 KB      | ########## | 100% \n",
      "\n",
      "qstylizer-0.2.2      | 30 KB     |            |   0% \n",
      "qstylizer-0.2.2      | 30 KB     | ########## | 100% \n",
      "qstylizer-0.2.2      | 30 KB     | ########## | 100% \n",
      "\n",
      "gst-plugins-base-1.1 | 1.7 MB    |            |   0% \n",
      "gst-plugins-base-1.1 | 1.7 MB    | 3          |   4% \n",
      "gst-plugins-base-1.1 | 1.7 MB    | ###        |  31% \n",
      "gst-plugins-base-1.1 | 1.7 MB    | #####5     |  55% \n",
      "gst-plugins-base-1.1 | 1.7 MB    | #######8   |  79% \n",
      "gst-plugins-base-1.1 | 1.7 MB    | ########## | 100% \n",
      "gst-plugins-base-1.1 | 1.7 MB    | ########## | 100% \n",
      "\n",
      "docstring-to-markdow | 31 KB     |            |   0% \n",
      "docstring-to-markdow | 31 KB     | ########## | 100% \n",
      "docstring-to-markdow | 31 KB     | ########## | 100% \n",
      "\n",
      "zeromq-4.3.4         | 4.2 MB    |            |   0% \n",
      "zeromq-4.3.4         | 4.2 MB    | 2          |   3% \n",
      "zeromq-4.3.4         | 4.2 MB    | #3         |  13% \n",
      "zeromq-4.3.4         | 4.2 MB    | ##3        |  23% \n",
      "zeromq-4.3.4         | 4.2 MB    | ###3       |  33% \n",
      "zeromq-4.3.4         | 4.2 MB    | ####2      |  43% \n",
      "zeromq-4.3.4         | 4.2 MB    | #####1     |  52% \n",
      "zeromq-4.3.4         | 4.2 MB    | ######4    |  65% \n",
      "zeromq-4.3.4         | 4.2 MB    | #######5   |  75% \n",
      "zeromq-4.3.4         | 4.2 MB    | ########4  |  84% \n",
      "zeromq-4.3.4         | 4.2 MB    | ########## | 100% \n",
      "zeromq-4.3.4         | 4.2 MB    | ########## | 100% \n",
      "\n",
      "scikit-learn-1.2.2   | 6.5 MB    |            |   0% \n",
      "scikit-learn-1.2.2   | 6.5 MB    | 1          |   2% \n",
      "scikit-learn-1.2.2   | 6.5 MB    | 8          |   8% \n",
      "scikit-learn-1.2.2   | 6.5 MB    | #4         |  14% \n",
      "scikit-learn-1.2.2   | 6.5 MB    | ##1        |  21% \n",
      "scikit-learn-1.2.2   | 6.5 MB    | ##7        |  27% \n",
      "scikit-learn-1.2.2   | 6.5 MB    | ###3       |  33% \n",
      "scikit-learn-1.2.2   | 6.5 MB    | ####8      |  49% \n",
      "scikit-learn-1.2.2   | 6.5 MB    | #####7     |  57% \n",
      "scikit-learn-1.2.2   | 6.5 MB    | ######3    |  63% \n",
      "scikit-learn-1.2.2   | 6.5 MB    | ######9    |  70% \n",
      "scikit-learn-1.2.2   | 6.5 MB    | #######5   |  76% \n",
      "scikit-learn-1.2.2   | 6.5 MB    | ########2  |  82% \n",
      "scikit-learn-1.2.2   | 6.5 MB    | ########8  |  88% \n",
      "scikit-learn-1.2.2   | 6.5 MB    | #########4 |  94% \n",
      "scikit-learn-1.2.2   | 6.5 MB    | ########## | 100% \n",
      "\n",
      "lxml-4.9.1           | 936 KB    |            |   0% \n",
      "lxml-4.9.1           | 936 KB    | #3         |  14% \n",
      "lxml-4.9.1           | 936 KB    | #####8     |  58% \n",
      "lxml-4.9.1           | 936 KB    | ########## | 100% \n",
      "lxml-4.9.1           | 936 KB    | ########## | 100% \n",
      "\n",
      "greenlet-2.0.1       | 179 KB    |            |   0% \n",
      "greenlet-2.0.1       | 179 KB    | ######2    |  62% \n",
      "greenlet-2.0.1       | 179 KB    | ########## | 100% \n",
      "\n",
      "py-lief-0.12.3       | 2.0 MB    |            |   0% \n",
      "py-lief-0.12.3       | 2.0 MB    | 6          |   6% \n",
      "py-lief-0.12.3       | 2.0 MB    | ##8        |  28% \n",
      "py-lief-0.12.3       | 2.0 MB    | ####8      |  48% \n",
      "py-lief-0.12.3       | 2.0 MB    | ######8    |  68% \n",
      "py-lief-0.12.3       | 2.0 MB    | ########7  |  87% \n",
      "py-lief-0.12.3       | 2.0 MB    | ########## | 100% \n",
      "\n",
      "lz4-3.1.3            | 96 KB     |            |   0% \n",
      "lz4-3.1.3            | 96 KB     | ########## | 100% \n",
      "lz4-3.1.3            | 96 KB     | ########## | 100% \n",
      "\n",
      "qtawesome-1.2.2      | 1.6 MB    |            |   0% \n",
      "qtawesome-1.2.2      | 1.6 MB    | #          |  11% \n",
      "qtawesome-1.2.2      | 1.6 MB    | ###9       |  40% \n",
      "qtawesome-1.2.2      | 1.6 MB    | ######6    |  67% \n",
      "qtawesome-1.2.2      | 1.6 MB    | #########2 |  93% \n",
      "qtawesome-1.2.2      | 1.6 MB    | ########## | 100% \n",
      "\n",
      "dask-2023.3.2        | 6 KB      |            |   0% \n",
      "dask-2023.3.2        | 6 KB      | ########## | 100% \n",
      "\n",
      "qt-main-5.15.2       | 59.4 MB   |            |   0% \n",
      "qt-main-5.15.2       | 59.4 MB   |            |   0% \n",
      "qt-main-5.15.2       | 59.4 MB   |            |   1% \n",
      "qt-main-5.15.2       | 59.4 MB   | 1          |   2% \n",
      "qt-main-5.15.2       | 59.4 MB   | 2          |   2% \n",
      "qt-main-5.15.2       | 59.4 MB   | 2          |   3% \n",
      "qt-main-5.15.2       | 59.4 MB   | 3          |   4% \n",
      "qt-main-5.15.2       | 59.4 MB   | 4          |   4% \n",
      "qt-main-5.15.2       | 59.4 MB   | 4          |   5% \n",
      "qt-main-5.15.2       | 59.4 MB   | 5          |   6% \n",
      "qt-main-5.15.2       | 59.4 MB   | 6          |   6% \n",
      "qt-main-5.15.2       | 59.4 MB   | 6          |   7% \n",
      "qt-main-5.15.2       | 59.4 MB   | 8          |   8% \n",
      "qt-main-5.15.2       | 59.4 MB   | 8          |   9% \n",
      "qt-main-5.15.2       | 59.4 MB   | 9          |  10% \n",
      "qt-main-5.15.2       | 59.4 MB   | #1         |  11% \n",
      "qt-main-5.15.2       | 59.4 MB   | #1         |  12% \n",
      "qt-main-5.15.2       | 59.4 MB   | #2         |  13% \n",
      "qt-main-5.15.2       | 59.4 MB   | #4         |  15% \n",
      "qt-main-5.15.2       | 59.4 MB   | #6         |  17% \n",
      "qt-main-5.15.2       | 59.4 MB   | #7         |  17% \n",
      "qt-main-5.15.2       | 59.4 MB   | #8         |  18% \n",
      "qt-main-5.15.2       | 59.4 MB   | #8         |  19% \n",
      "qt-main-5.15.2       | 59.4 MB   | #9         |  20% \n",
      "qt-main-5.15.2       | 59.4 MB   | ##         |  21% \n",
      "qt-main-5.15.2       | 59.4 MB   | ##1        |  21% \n",
      "qt-main-5.15.2       | 59.4 MB   | ##2        |  23% \n",
      "qt-main-5.15.2       | 59.4 MB   | ##3        |  24% \n",
      "qt-main-5.15.2       | 59.4 MB   | ##4        |  24% \n",
      "qt-main-5.15.2       | 59.4 MB   | ##5        |  25% \n",
      "qt-main-5.15.2       | 59.4 MB   | ##5        |  26% \n",
      "qt-main-5.15.2       | 59.4 MB   | ##6        |  26% \n",
      "qt-main-5.15.2       | 59.4 MB   | ##8        |  28% \n",
      "qt-main-5.15.2       | 59.4 MB   | ##8        |  29% \n",
      "qt-main-5.15.2       | 59.4 MB   | ##9        |  30% \n",
      "qt-main-5.15.2       | 59.4 MB   | ###        |  30% \n",
      "qt-main-5.15.2       | 59.4 MB   | ###        |  31% \n",
      "qt-main-5.15.2       | 59.4 MB   | ###2       |  33% \n",
      "qt-main-5.15.2       | 59.4 MB   | ###3       |  34% \n",
      "qt-main-5.15.2       | 59.4 MB   | ###5       |  35% \n",
      "qt-main-5.15.2       | 59.4 MB   | ###6       |  36% \n",
      "qt-main-5.15.2       | 59.4 MB   | ###6       |  37% \n",
      "qt-main-5.15.2       | 59.4 MB   | ###7       |  38% \n",
      "qt-main-5.15.2       | 59.4 MB   | ###8       |  39% \n",
      "qt-main-5.15.2       | 59.4 MB   | ###9       |  40% \n",
      "qt-main-5.15.2       | 59.4 MB   | ####       |  41% \n",
      "qt-main-5.15.2       | 59.4 MB   | ####1      |  42% \n",
      "qt-main-5.15.2       | 59.4 MB   | ####2      |  43% \n",
      "qt-main-5.15.2       | 59.4 MB   | ####3      |  44% \n",
      "qt-main-5.15.2       | 59.4 MB   | ####4      |  44% \n",
      "qt-main-5.15.2       | 59.4 MB   | ####5      |  45% \n",
      "qt-main-5.15.2       | 59.4 MB   | ####6      |  46% \n",
      "qt-main-5.15.2       | 59.4 MB   | ####7      |  47% \n",
      "qt-main-5.15.2       | 59.4 MB   | ####8      |  48% \n",
      "qt-main-5.15.2       | 59.4 MB   | ####9      |  49% \n",
      "qt-main-5.15.2       | 59.4 MB   | ####9      |  50% \n",
      "qt-main-5.15.2       | 59.4 MB   | #####      |  50% \n",
      "qt-main-5.15.2       | 59.4 MB   | #####1     |  52% \n",
      "qt-main-5.15.2       | 59.4 MB   | #####2     |  52% \n",
      "qt-main-5.15.2       | 59.4 MB   | #####2     |  53% \n",
      "qt-main-5.15.2       | 59.4 MB   | #####3     |  54% \n",
      "qt-main-5.15.2       | 59.4 MB   | #####4     |  54% \n",
      "qt-main-5.15.2       | 59.4 MB   | #####5     |  55% \n",
      "qt-main-5.15.2       | 59.4 MB   | #####6     |  56% \n",
      "qt-main-5.15.2       | 59.4 MB   | #####6     |  57% \n",
      "qt-main-5.15.2       | 59.4 MB   | #####8     |  58% \n",
      "qt-main-5.15.2       | 59.4 MB   | #####8     |  59% \n",
      "qt-main-5.15.2       | 59.4 MB   | ######     |  61% \n",
      "qt-main-5.15.2       | 59.4 MB   | ######2    |  62% \n",
      "qt-main-5.15.2       | 59.4 MB   | ######3    |  63% \n",
      "qt-main-5.15.2       | 59.4 MB   | ######4    |  64% \n",
      "qt-main-5.15.2       | 59.4 MB   | ######4    |  65% \n",
      "qt-main-5.15.2       | 59.4 MB   | ######6    |  66% \n",
      "qt-main-5.15.2       | 59.4 MB   | ######7    |  67% \n",
      "qt-main-5.15.2       | 59.4 MB   | ######9    |  69% \n",
      "qt-main-5.15.2       | 59.4 MB   | #######    |  70% \n",
      "qt-main-5.15.2       | 59.4 MB   | #######    |  71% \n",
      "qt-main-5.15.2       | 59.4 MB   | #######1   |  72% \n",
      "qt-main-5.15.2       | 59.4 MB   | #######2   |  73% \n",
      "qt-main-5.15.2       | 59.4 MB   | #######3   |  74% \n",
      "qt-main-5.15.2       | 59.4 MB   | #######4   |  74% \n",
      "qt-main-5.15.2       | 59.4 MB   | #######5   |  75% \n",
      "qt-main-5.15.2       | 59.4 MB   | #######5   |  76% \n",
      "qt-main-5.15.2       | 59.4 MB   | #######7   |  77% \n",
      "qt-main-5.15.2       | 59.4 MB   | #######7   |  78% \n",
      "qt-main-5.15.2       | 59.4 MB   | #######8   |  79% \n",
      "qt-main-5.15.2       | 59.4 MB   | #######9   |  79% \n",
      "qt-main-5.15.2       | 59.4 MB   | #######9   |  80% \n",
      "qt-main-5.15.2       | 59.4 MB   | ########   |  81% \n",
      "qt-main-5.15.2       | 59.4 MB   | ########1  |  82% \n",
      "qt-main-5.15.2       | 59.4 MB   | ########2  |  82% \n",
      "qt-main-5.15.2       | 59.4 MB   | ########3  |  83% \n",
      "qt-main-5.15.2       | 59.4 MB   | ########3  |  84% \n",
      "qt-main-5.15.2       | 59.4 MB   | ########4  |  84% \n",
      "qt-main-5.15.2       | 59.4 MB   | ########5  |  86% \n",
      "qt-main-5.15.2       | 59.4 MB   | ########6  |  86% \n",
      "qt-main-5.15.2       | 59.4 MB   | ########7  |  87% \n",
      "qt-main-5.15.2       | 59.4 MB   | ########8  |  88% \n",
      "qt-main-5.15.2       | 59.4 MB   | ########9  |  89% \n",
      "qt-main-5.15.2       | 59.4 MB   | ########9  |  90% \n",
      "qt-main-5.15.2       | 59.4 MB   | #########  |  90% \n",
      "qt-main-5.15.2       | 59.4 MB   | #########1 |  91% \n",
      "qt-main-5.15.2       | 59.4 MB   | #########2 |  92% \n",
      "qt-main-5.15.2       | 59.4 MB   | #########3 |  93% \n",
      "qt-main-5.15.2       | 59.4 MB   | #########4 |  94% \n",
      "qt-main-5.15.2       | 59.4 MB   | #########5 |  95% \n",
      "qt-main-5.15.2       | 59.4 MB   | #########5 |  96% \n",
      "qt-main-5.15.2       | 59.4 MB   | #########7 |  97% \n",
      "qt-main-5.15.2       | 59.4 MB   | #########8 |  98% \n",
      "qt-main-5.15.2       | 59.4 MB   | #########9 | 100% \n",
      "qt-main-5.15.2       | 59.4 MB   | ########## | 100% \n",
      "\n",
      "pathlib-1.0.1        | 17 KB     |            |   0% \n",
      "pathlib-1.0.1        | 17 KB     | ########## | 100% \n",
      "pathlib-1.0.1        | 17 KB     | ########## | 100% \n",
      "\n",
      "libxslt-1.1.35       | 407 KB    |            |   0% \n",
      "libxslt-1.1.35       | 407 KB    | ##7        |  28% \n",
      "libxslt-1.1.35       | 407 KB    | ########## | 100% \n",
      "libxslt-1.1.35       | 407 KB    | ########## | 100% \n",
      "\n",
      "pip-23.0.1           | 2.7 MB    |            |   0% \n",
      "pip-23.0.1           | 2.7 MB    | 4          |   5% \n",
      "pip-23.0.1           | 2.7 MB    | #9         |  19% \n",
      "pip-23.0.1           | 2.7 MB    | ###        |  31% \n",
      "pip-23.0.1           | 2.7 MB    | ####       |  40% \n",
      "pip-23.0.1           | 2.7 MB    | #######3   |  74% \n",
      "pip-23.0.1           | 2.7 MB    | #########1 |  91% \n",
      "pip-23.0.1           | 2.7 MB    | ########## | 100% \n",
      "\n",
      "pooch-1.4.0          | 41 KB     |            |   0% \n",
      "pooch-1.4.0          | 41 KB     | ########## | 100% \n",
      "pooch-1.4.0          | 41 KB     | ########## | 100% \n",
      "\n",
      "brotli-1.0.9         | 18 KB     |            |   0% \n",
      "brotli-1.0.9         | 18 KB     | ########## | 100% \n",
      "brotli-1.0.9         | 18 KB     | ########## | 100% \n",
      "\n",
      "hdf5-1.10.6          | 7.9 MB    |            |   0% \n",
      "hdf5-1.10.6          | 7.9 MB    | 1          |   1% \n",
      "hdf5-1.10.6          | 7.9 MB    | 6          |   7% \n",
      "hdf5-1.10.6          | 7.9 MB    | #2         |  12% \n",
      "hdf5-1.10.6          | 7.9 MB    | #6         |  17% \n",
      "hdf5-1.10.6          | 7.9 MB    | ##7        |  27% \n",
      "hdf5-1.10.6          | 7.9 MB    | ###3       |  33% \n",
      "hdf5-1.10.6          | 7.9 MB    | ###7       |  38% \n",
      "hdf5-1.10.6          | 7.9 MB    | ####1      |  42% \n",
      "hdf5-1.10.6          | 7.9 MB    | ####5      |  46% \n",
      "hdf5-1.10.6          | 7.9 MB    | ######2    |  63% \n",
      "hdf5-1.10.6          | 7.9 MB    | #######    |  70% \n",
      "hdf5-1.10.6          | 7.9 MB    | #######6   |  77% \n",
      "hdf5-1.10.6          | 7.9 MB    | ########4  |  84% \n",
      "hdf5-1.10.6          | 7.9 MB    | ########## | 100% \n",
      "hdf5-1.10.6          | 7.9 MB    | ########## | 100% \n",
      "\n",
      "pyqt5-sip-12.11.0    | 75 KB     |            |   0% \n",
      "pyqt5-sip-12.11.0    | 75 KB     | ########## | 100% \n",
      "pyqt5-sip-12.11.0    | 75 KB     | ########## | 100% \n",
      "\n",
      "rope-1.7.0           | 438 KB    |            |   0% \n",
      "rope-1.7.0           | 438 KB    | ##9        |  29% \n",
      "rope-1.7.0           | 438 KB    | ########## | 100% \n",
      "rope-1.7.0           | 438 KB    | ########## | 100% \n",
      "\n",
      "libvorbis-1.3.7      | 202 KB    |            |   0% \n",
      "libvorbis-1.3.7      | 202 KB    | #####5     |  55% \n",
      "libvorbis-1.3.7      | 202 KB    | ########## | 100% \n",
      "\n",
      "python-snappy-0.6.1  | 33 KB     |            |   0% \n",
      "python-snappy-0.6.1  | 33 KB     | ########## | 100% \n",
      "python-snappy-0.6.1  | 33 KB     | ########## | 100% \n",
      "\n",
      "libclang-14.0.6      | 306 KB    |            |   0% \n",
      "libclang-14.0.6      | 306 KB    | #####7     |  58% \n",
      "libclang-14.0.6      | 306 KB    | ########## | 100% \n",
      "\n",
      "nest-asyncio-1.5.6   | 15 KB     |            |   0% \n",
      "nest-asyncio-1.5.6   | 15 KB     | ########## | 100% \n",
      "nest-asyncio-1.5.6   | 15 KB     | ########## | 100% \n",
      "\n",
      "matplotlib-3.7.1     | 9 KB      |            |   0% \n",
      "matplotlib-3.7.1     | 9 KB      | ########## | 100% \n",
      "matplotlib-3.7.1     | 9 KB      | ########## | 100% \n",
      "\n",
      "xarray-2022.11.0     | 1.6 MB    |            |   0% \n",
      "xarray-2022.11.0     | 1.6 MB    | 3          |   4% \n",
      "xarray-2022.11.0     | 1.6 MB    | 7          |   8% \n",
      "xarray-2022.11.0     | 1.6 MB    | ###        |  30% \n",
      "xarray-2022.11.0     | 1.6 MB    | #####9     |  59% \n",
      "xarray-2022.11.0     | 1.6 MB    | ########6  |  87% \n",
      "xarray-2022.11.0     | 1.6 MB    | ########## | 100% \n",
      "\n",
      "comm-0.1.2           | 14 KB     |            |   0% \n",
      "comm-0.1.2           | 14 KB     | ########## | 100% \n",
      "comm-0.1.2           | 14 KB     | ########## | 100% \n",
      "\n",
      "libcurl-7.88.1       | 328 KB    |            |   0% \n",
      "libcurl-7.88.1       | 328 KB    | ###9       |  39% \n",
      "libcurl-7.88.1       | 328 KB    | ########## | 100% \n",
      "\n",
      "tinycss2-1.2.1       | 40 KB     |            |   0% \n",
      "tinycss2-1.2.1       | 40 KB     | ########## | 100% \n",
      "tinycss2-1.2.1       | 40 KB     | ########## | 100% \n",
      "\n",
      "setuptools-65.6.3    | 1.1 MB    |            |   0% \n",
      "setuptools-65.6.3    | 1.1 MB    | #3         |  14% \n",
      "setuptools-65.6.3    | 1.1 MB    | ####9      |  49% \n",
      "setuptools-65.6.3    | 1.1 MB    | ########7  |  87% \n",
      "setuptools-65.6.3    | 1.1 MB    | ########## | 100% \n",
      "\n",
      "pyqt-5.15.7          | 3.7 MB    |            |   0% \n",
      "pyqt-5.15.7          | 3.7 MB    | 3          |   3% \n",
      "pyqt-5.15.7          | 3.7 MB    | #6         |  16% \n",
      "pyqt-5.15.7          | 3.7 MB    | ##7        |  28% \n",
      "pyqt-5.15.7          | 3.7 MB    | ###8       |  39% \n",
      "pyqt-5.15.7          | 3.7 MB    | ####8      |  48% \n",
      "pyqt-5.15.7          | 3.7 MB    | #######6   |  76% \n",
      "pyqt-5.15.7          | 3.7 MB    | ########9  |  89% \n",
      "pyqt-5.15.7          | 3.7 MB    | ########## | 100% \n",
      "\n",
      "datashader-0.14.4    | 16.8 MB   |            |   0% \n",
      "datashader-0.14.4    | 16.8 MB   |            |   1% \n",
      "datashader-0.14.4    | 16.8 MB   | 3          |   3% \n",
      "datashader-0.14.4    | 16.8 MB   | 5          |   6% \n",
      "datashader-0.14.4    | 16.8 MB   | 7          |   8% \n",
      "datashader-0.14.4    | 16.8 MB   | 9          |   9% \n",
      "datashader-0.14.4    | 16.8 MB   | #1         |  11% \n",
      "datashader-0.14.4    | 16.8 MB   | #4         |  14% \n",
      "datashader-0.14.4    | 16.8 MB   | #6         |  16% \n",
      "datashader-0.14.4    | 16.8 MB   | ##         |  21% \n",
      "datashader-0.14.4    | 16.8 MB   | ##2        |  23% \n",
      "datashader-0.14.4    | 16.8 MB   | ##5        |  25% \n",
      "datashader-0.14.4    | 16.8 MB   | ##9        |  30% \n",
      "datashader-0.14.4    | 16.8 MB   | ###6       |  37% \n",
      "datashader-0.14.4    | 16.8 MB   | ####       |  40% \n",
      "datashader-0.14.4    | 16.8 MB   | ####3      |  43% \n",
      "datashader-0.14.4    | 16.8 MB   | ####6      |  46% \n",
      "datashader-0.14.4    | 16.8 MB   | ####8      |  49% \n",
      "datashader-0.14.4    | 16.8 MB   | #####      |  51% \n",
      "datashader-0.14.4    | 16.8 MB   | #####3     |  53% \n",
      "datashader-0.14.4    | 16.8 MB   | #####5     |  55% \n",
      "datashader-0.14.4    | 16.8 MB   | #####7     |  58% \n",
      "datashader-0.14.4    | 16.8 MB   | #####9     |  60% \n",
      "datashader-0.14.4    | 16.8 MB   | ######1    |  62% \n",
      "datashader-0.14.4    | 16.8 MB   | ######3    |  64% \n",
      "datashader-0.14.4    | 16.8 MB   | ######6    |  66% \n",
      "datashader-0.14.4    | 16.8 MB   | ######8    |  68% \n",
      "datashader-0.14.4    | 16.8 MB   | #######    |  70% \n",
      "datashader-0.14.4    | 16.8 MB   | #######2   |  72% \n",
      "datashader-0.14.4    | 16.8 MB   | #######4   |  75% \n",
      "datashader-0.14.4    | 16.8 MB   | #######6   |  77% \n",
      "datashader-0.14.4    | 16.8 MB   | #######8   |  79% \n",
      "datashader-0.14.4    | 16.8 MB   | ########   |  81% \n",
      "datashader-0.14.4    | 16.8 MB   | ########3  |  83% \n",
      "datashader-0.14.4    | 16.8 MB   | ########5  |  85% \n",
      "datashader-0.14.4    | 16.8 MB   | ########7  |  87% \n",
      "datashader-0.14.4    | 16.8 MB   | ########9  |  90% \n",
      "datashader-0.14.4    | 16.8 MB   | #########1 |  92% \n",
      "datashader-0.14.4    | 16.8 MB   | #########3 |  94% \n",
      "datashader-0.14.4    | 16.8 MB   | #########6 |  96% \n",
      "datashader-0.14.4    | 16.8 MB   | #########8 |  98% \n",
      "datashader-0.14.4    | 16.8 MB   | ########## | 100% \n",
      "\n",
      "regex-2022.7.9       | 307 KB    |            |   0% \n",
      "regex-2022.7.9       | 307 KB    | ####6      |  47% \n",
      "regex-2022.7.9       | 307 KB    | ########## | 100% \n",
      "\n",
      "llvmlite-0.39.1      | 13.3 MB   |            |   0% \n",
      "llvmlite-0.39.1      | 13.3 MB   |            |   1% \n",
      "llvmlite-0.39.1      | 13.3 MB   | 3          |   4% \n",
      "llvmlite-0.39.1      | 13.3 MB   | 7          |   7% \n",
      "llvmlite-0.39.1      | 13.3 MB   | #          |  10% \n",
      "llvmlite-0.39.1      | 13.3 MB   | #3         |  14% \n",
      "llvmlite-0.39.1      | 13.3 MB   | #7         |  17% \n",
      "llvmlite-0.39.1      | 13.3 MB   | #9         |  20% \n",
      "llvmlite-0.39.1      | 13.3 MB   | ##2        |  22% \n",
      "llvmlite-0.39.1      | 13.3 MB   | ##9        |  29% \n",
      "llvmlite-0.39.1      | 13.3 MB   | ###2       |  33% \n",
      "llvmlite-0.39.1      | 13.3 MB   | ###6       |  36% \n",
      "llvmlite-0.39.1      | 13.3 MB   | ####3      |  44% \n",
      "llvmlite-0.39.1      | 13.3 MB   | ####7      |  47% \n",
      "llvmlite-0.39.1      | 13.3 MB   | #####      |  50% \n",
      "llvmlite-0.39.1      | 13.3 MB   | #####6     |  57% \n",
      "llvmlite-0.39.1      | 13.3 MB   | ######     |  61% \n",
      "llvmlite-0.39.1      | 13.3 MB   | ######5    |  65% \n",
      "llvmlite-0.39.1      | 13.3 MB   | #######1   |  71% \n",
      "llvmlite-0.39.1      | 13.3 MB   | #######5   |  76% \n",
      "llvmlite-0.39.1      | 13.3 MB   | ########3  |  83% \n",
      "llvmlite-0.39.1      | 13.3 MB   | ########7  |  87% \n",
      "llvmlite-0.39.1      | 13.3 MB   | #########  |  91% \n",
      "llvmlite-0.39.1      | 13.3 MB   | #########4 |  94% \n",
      "llvmlite-0.39.1      | 13.3 MB   | ########## | 100% \n",
      "llvmlite-0.39.1      | 13.3 MB   | ########## | 100% \n",
      "\n",
      "numpydoc-1.5.0       | 91 KB     |            |   0% \n",
      "numpydoc-1.5.0       | 91 KB     | ########## | 100% \n",
      "numpydoc-1.5.0       | 91 KB     | ########## | 100% \n",
      "\n",
      "sqlalchemy-1.4.39    | 1.9 MB    |            |   0% \n",
      "sqlalchemy-1.4.39    | 1.9 MB    | 5          |   6% \n",
      "sqlalchemy-1.4.39    | 1.9 MB    | ##9        |  29% \n",
      "sqlalchemy-1.4.39    | 1.9 MB    | #####2     |  53% \n",
      "sqlalchemy-1.4.39    | 1.9 MB    | #######6   |  77% \n",
      "sqlalchemy-1.4.39    | 1.9 MB    | #########5 |  96% \n",
      "sqlalchemy-1.4.39    | 1.9 MB    | ########## | 100% \n",
      "\n",
      "ipython-8.10.0       | 1.1 MB    |            |   0% \n",
      "ipython-8.10.0       | 1.1 MB    | #1         |  11% \n",
      "ipython-8.10.0       | 1.1 MB    | #####1     |  52% \n",
      "ipython-8.10.0       | 1.1 MB    | ########## | 100% \n",
      "ipython-8.10.0       | 1.1 MB    | ########## | 100% \n",
      "\n",
      "astroid-2.14.2       | 394 KB    |            |   0% \n",
      "astroid-2.14.2       | 394 KB    | ###6       |  37% \n",
      "astroid-2.14.2       | 394 KB    | ########## | 100% \n",
      "astroid-2.14.2       | 394 KB    | ########## | 100% \n",
      "\n",
      "networkx-2.8.4       | 2.6 MB    |            |   0% \n",
      "networkx-2.8.4       | 2.6 MB    | 4          |   4% \n",
      "networkx-2.8.4       | 2.6 MB    | ##         |  21% \n",
      "networkx-2.8.4       | 2.6 MB    | ###7       |  37% \n",
      "networkx-2.8.4       | 2.6 MB    | #####      |  50% \n",
      "networkx-2.8.4       | 2.6 MB    | ######1    |  61% \n",
      "networkx-2.8.4       | 2.6 MB    | #########4 |  94% \n",
      "networkx-2.8.4       | 2.6 MB    | ########## | 100% \n",
      "\n",
      "jupyter_core-5.3.0   | 107 KB    |            |   0% \n",
      "jupyter_core-5.3.0   | 107 KB    | ########## | 100% \n",
      "jupyter_core-5.3.0   | 107 KB    | ########## | 100% \n",
      "\n",
      "importlib_metadata-6 | 8 KB      |            |   0% \n",
      "importlib_metadata-6 | 8 KB      | ########## | 100% \n",
      "\n",
      "glib-2.69.1          | 1.8 MB    |            |   0% \n",
      "glib-2.69.1          | 1.8 MB    | 8          |   9% \n",
      "glib-2.69.1          | 1.8 MB    | ###        |  31% \n",
      "glib-2.69.1          | 1.8 MB    | #####4     |  55% \n",
      "glib-2.69.1          | 1.8 MB    | #######3   |  74% \n",
      "glib-2.69.1          | 1.8 MB    | ########## | 100% \n",
      "glib-2.69.1          | 1.8 MB    | ########## | 100% \n",
      "\n",
      "zict-2.1.0           | 20 KB     |            |   0% \n",
      "zict-2.1.0           | 20 KB     | ########## | 100% \n",
      "zict-2.1.0           | 20 KB     | ########## | 100% \n",
      "\n",
      "pyflakes-3.0.1       | 138 KB    |            |   0% \n",
      "pyflakes-3.0.1       | 138 KB    | ########## | 100% \n",
      "pyflakes-3.0.1       | 138 KB    | ########## | 100% \n",
      "\n",
      "tqdm-4.65.0          | 148 KB    |            |   0% \n",
      "tqdm-4.65.0          | 148 KB    | ######4    |  65% \n",
      "tqdm-4.65.0          | 148 KB    | ########## | 100% \n",
      "\n",
      "liblief-0.12.3       | 2.4 MB    |            |   0% \n",
      "liblief-0.12.3       | 2.4 MB    | 5          |   6% \n",
      "liblief-0.12.3       | 2.4 MB    | ##4        |  24% \n",
      "liblief-0.12.3       | 2.4 MB    | ####2      |  43% \n",
      "liblief-0.12.3       | 2.4 MB    | #####3     |  54% \n",
      "liblief-0.12.3       | 2.4 MB    | ########## | 100% \n",
      "liblief-0.12.3       | 2.4 MB    | ########## | 100% \n",
      "\n",
      "lz4-c-1.9.4          | 143 KB    |            |   0% \n",
      "lz4-c-1.9.4          | 143 KB    | #1         |  11% \n",
      "lz4-c-1.9.4          | 143 KB    | ########## | 100% \n",
      "\n",
      "testpath-0.6.0       | 85 KB     |            |   0% \n",
      "testpath-0.6.0       | 85 KB     | ########## | 100% \n",
      "testpath-0.6.0       | 85 KB     | ########## | 100% \n",
      "\n",
      "rtree-1.0.1          | 49 KB     |            |   0% \n",
      "rtree-1.0.1          | 49 KB     | ########## | 100% \n",
      "rtree-1.0.1          | 49 KB     | ########## | 100% \n",
      "\n",
      "conda-repo-cli-1.0.4 | 142 KB    |            |   0% \n",
      "conda-repo-cli-1.0.4 | 142 KB    | #########  |  90% \n",
      "conda-repo-cli-1.0.4 | 142 KB    | ########## | 100% \n",
      "\n",
      "numpy-1.23.5         | 11 KB     |            |   0% \n",
      "numpy-1.23.5         | 11 KB     | ########## | 100% \n",
      "numpy-1.23.5         | 11 KB     | ########## | 100% \n",
      "\n",
      "cytoolz-0.12.0       | 288 KB    |            |   0% \n",
      "cytoolz-0.12.0       | 288 KB    | ###8       |  39% \n",
      "cytoolz-0.12.0       | 288 KB    | ########## | 100% \n",
      "\n",
      "notebook-shim-0.2.2  | 23 KB     |            |   0% \n",
      "notebook-shim-0.2.2  | 23 KB     | ########## | 100% \n",
      "notebook-shim-0.2.2  | 23 KB     | ########## | 100% \n",
      "\n",
      "pcre-8.45            | 382 KB    |            |   0% \n",
      "pcre-8.45            | 382 KB    | ##5        |  25% \n",
      "pcre-8.45            | 382 KB    | ########## | 100% \n",
      "pcre-8.45            | 382 KB    | ########## | 100% \n",
      "\n",
      "libogg-1.3.5         | 33 KB     |            |   0% \n",
      "libogg-1.3.5         | 33 KB     | ########## | 100% \n",
      "libogg-1.3.5         | 33 KB     | ########## | 100% \n",
      "\n",
      "future-0.18.3        | 704 KB    |            |   0% \n",
      "future-0.18.3        | 704 KB    | ##2        |  23% \n",
      "future-0.18.3        | 704 KB    | #######9   |  80% \n",
      "future-0.18.3        | 704 KB    | ########## | 100% \n",
      "\n",
      "jupyter-1.0.0        | 7 KB      |            |   0% \n",
      "jupyter-1.0.0        | 7 KB      | ########## | 100% \n",
      "jupyter-1.0.0        | 7 KB      | ########## | 100% \n",
      "\n",
      "matplotlib-base-3.7. | 6.5 MB    |            |   0% \n",
      "matplotlib-base-3.7. | 6.5 MB    | 1          |   2% \n",
      "matplotlib-base-3.7. | 6.5 MB    | 8          |   9% \n",
      "matplotlib-base-3.7. | 6.5 MB    | #5         |  16% \n",
      "matplotlib-base-3.7. | 6.5 MB    | ##         |  21% \n",
      "matplotlib-base-3.7. | 6.5 MB    | ###1       |  31% \n",
      "matplotlib-base-3.7. | 6.5 MB    | ###7       |  38% \n",
      "matplotlib-base-3.7. | 6.5 MB    | ####3      |  44% \n",
      "matplotlib-base-3.7. | 6.5 MB    | #####6     |  56% \n",
      "matplotlib-base-3.7. | 6.5 MB    | #######    |  71% \n",
      "matplotlib-base-3.7. | 6.5 MB    | #######8   |  79% \n",
      "matplotlib-base-3.7. | 6.5 MB    | ########5  |  85% \n",
      "matplotlib-base-3.7. | 6.5 MB    | #########4 |  95% \n",
      "matplotlib-base-3.7. | 6.5 MB    | ########## | 100% \n",
      "\n",
      "holoviews-1.15.4     | 4.4 MB    |            |   0% \n",
      "holoviews-1.15.4     | 4.4 MB    | 2          |   3% \n",
      "holoviews-1.15.4     | 4.4 MB    | #2         |  13% \n",
      "holoviews-1.15.4     | 4.4 MB    | ##2        |  22% \n",
      "holoviews-1.15.4     | 4.4 MB    | ##7        |  28% \n",
      "holoviews-1.15.4     | 4.4 MB    | ###5       |  35% \n",
      "holoviews-1.15.4     | 4.4 MB    | #####5     |  55% \n",
      "holoviews-1.15.4     | 4.4 MB    | ######4    |  65% \n",
      "holoviews-1.15.4     | 4.4 MB    | #######5   |  75% \n",
      "holoviews-1.15.4     | 4.4 MB    | ########## | 100% \n",
      "holoviews-1.15.4     | 4.4 MB    | ########## | 100% \n",
      "\n",
      "giflib-5.2.1         | 88 KB     |            |   0% \n",
      "giflib-5.2.1         | 88 KB     | ########## | 100% \n",
      "giflib-5.2.1         | 88 KB     | ########## | 100% \n",
      "\n",
      "imagesize-1.4.1      | 14 KB     |            |   0% \n",
      "imagesize-1.4.1      | 14 KB     | ########## | 100% \n",
      "imagesize-1.4.1      | 14 KB     | ########## | 100% \n",
      "\n",
      "conda-package-stream | 27 KB     |            |   0% \n",
      "conda-package-stream | 27 KB     | ########## | 100% \n",
      "conda-package-stream | 27 KB     | ########## | 100% \n",
      "\n",
      "pydocstyle-6.3.0     | 89 KB     |            |   0% \n",
      "pydocstyle-6.3.0     | 89 KB     | ########## | 100% \n",
      "pydocstyle-6.3.0     | 89 KB     | ########## | 100% \n",
      "\n",
      "jellyfish-0.9.0      | 46 KB     |            |   0% \n",
      "jellyfish-0.9.0      | 46 KB     | ########## | 100% \n",
      "jellyfish-0.9.0      | 46 KB     | ########## | 100% \n",
      "\n",
      "certifi-2022.12.7    | 149 KB    |            |   0% \n",
      "certifi-2022.12.7    | 149 KB    | ########5  |  86% \n",
      "certifi-2022.12.7    | 149 KB    | ########## | 100% \n",
      "\n",
      "jupyter_console-6.6. | 63 KB     |            |   0% \n",
      "jupyter_console-6.6. | 63 KB     | ########## | 100% \n",
      "jupyter_console-6.6. | 63 KB     | ########## | 100% \n",
      "\n",
      "libbrotlienc-1.0.9   | 233 KB    |            |   0% \n",
      "libbrotlienc-1.0.9   | 233 KB    | ####8      |  48% \n",
      "libbrotlienc-1.0.9   | 233 KB    | ########## | 100% \n",
      "\n",
      "flit-core-3.8.0      | 85 KB     |            |   0% \n",
      "flit-core-3.8.0      | 85 KB     | ########## | 100% \n",
      "flit-core-3.8.0      | 85 KB     | ########## | 100% \n",
      "\n",
      "libffi-3.4.2         | 109 KB    |            |   0% \n",
      "libffi-3.4.2         | 109 KB    | ########## | 100% \n",
      "libffi-3.4.2         | 109 KB    | ########## | 100% \n",
      "\n",
      "param-1.12.3         | 149 KB    |            |   0% \n",
      "param-1.12.3         | 149 KB    | ######4    |  65% \n",
      "param-1.12.3         | 149 KB    | ########## | 100% \n",
      "\n",
      "typing_extensions-4. | 47 KB     |            |   0% \n",
      "typing_extensions-4. | 47 KB     | ########## | 100% \n",
      "typing_extensions-4. | 47 KB     | ########## | 100% \n",
      "\n",
      "tbb4py-2021.8.0      | 81 KB     |            |   0% \n",
      "tbb4py-2021.8.0      | 81 KB     | ########## | 100% \n",
      "tbb4py-2021.8.0      | 81 KB     | ########## | 100% \n",
      "\n",
      "_anaconda_depends-20 | 66 KB     |            |   0% \n",
      "_anaconda_depends-20 | 66 KB     | ####8      |  48% \n",
      "_anaconda_depends-20 | 66 KB     | ########## | 100% \n",
      "\n",
      "nbclassic-0.5.3      | 6.0 MB    |            |   0% \n",
      "nbclassic-0.5.3      | 6.0 MB    | 2          |   3% \n",
      "nbclassic-0.5.3      | 6.0 MB    | #          |  10% \n",
      "nbclassic-0.5.3      | 6.0 MB    | #7         |  17% \n",
      "nbclassic-0.5.3      | 6.0 MB    | ##3        |  23% \n",
      "nbclassic-0.5.3      | 6.0 MB    | ####       |  41% \n",
      "nbclassic-0.5.3      | 6.0 MB    | #####1     |  51% \n",
      "nbclassic-0.5.3      | 6.0 MB    | #####8     |  58% \n",
      "nbclassic-0.5.3      | 6.0 MB    | #######3   |  73% \n",
      "nbclassic-0.5.3      | 6.0 MB    | ########1  |  82% \n",
      "nbclassic-0.5.3      | 6.0 MB    | ########9  |  90% \n",
      "nbclassic-0.5.3      | 6.0 MB    | ########## | 100% \n",
      "nbclassic-0.5.3      | 6.0 MB    | ########## | 100% \n",
      "\n",
      "colorcet-3.0.1       | 1.9 MB    |            |   0% \n",
      "colorcet-3.0.1       | 1.9 MB    | 6          |   7% \n",
      "colorcet-3.0.1       | 1.9 MB    | ##7        |  28% \n",
      "colorcet-3.0.1       | 1.9 MB    | ####9      |  50% \n",
      "colorcet-3.0.1       | 1.9 MB    | ######8    |  69% \n",
      "colorcet-3.0.1       | 1.9 MB    | #########2 |  92% \n",
      "colorcet-3.0.1       | 1.9 MB    | ########## | 100% \n",
      "\n",
      "plotly-5.9.0         | 4.1 MB    |            |   0% \n",
      "plotly-5.9.0         | 4.1 MB    | 1          |   2% \n",
      "plotly-5.9.0         | 4.1 MB    | #1         |  12% \n",
      "plotly-5.9.0         | 4.1 MB    | ##1        |  22% \n",
      "plotly-5.9.0         | 4.1 MB    | ###3       |  33% \n",
      "plotly-5.9.0         | 4.1 MB    | ####3      |  43% \n",
      "plotly-5.9.0         | 4.1 MB    | #####2     |  53% \n",
      "plotly-5.9.0         | 4.1 MB    | ######6    |  66% \n",
      "plotly-5.9.0         | 4.1 MB    | #######6   |  76% \n",
      "plotly-5.9.0         | 4.1 MB    | ########5  |  86% \n",
      "plotly-5.9.0         | 4.1 MB    | ########## | 100% \n",
      "plotly-5.9.0         | 4.1 MB    | ########## | 100% \n",
      "\n",
      "distributed-2023.3.2 | 1.3 MB    |            |   0% \n",
      "distributed-2023.3.2 | 1.3 MB    | 4          |   5% \n",
      "distributed-2023.3.2 | 1.3 MB    | ###8       |  38% \n",
      "distributed-2023.3.2 | 1.3 MB    | #####9     |  59% \n",
      "distributed-2023.3.2 | 1.3 MB    | ########## | 100% \n",
      "distributed-2023.3.2 | 1.3 MB    | ########## | 100% \n",
      "\n",
      "prompt_toolkit-3.0.3 | 5 KB      |            |   0% \n",
      "prompt_toolkit-3.0.3 | 5 KB      | ########## | 100% \n",
      "prompt_toolkit-3.0.3 | 5 KB      | ########## | 100% \n",
      "\n",
      "pyqtwebengine-5.15.7 | 123 KB    |            |   0% \n",
      "pyqtwebengine-5.15.7 | 123 KB    | ########## | 100% \n",
      "pyqtwebengine-5.15.7 | 123 KB    | ########## | 100% \n",
      "\n",
      "kiwisolver-1.4.4     | 60 KB     |            |   0% \n",
      "kiwisolver-1.4.4     | 60 KB     | ########## | 100% \n",
      "kiwisolver-1.4.4     | 60 KB     | ########## | 100% \n",
      "\n",
      "docutils-0.18.1      | 666 KB    |            |   0% \n",
      "docutils-0.18.1      | 666 KB    | #6         |  17% \n",
      "docutils-0.18.1      | 666 KB    | ########4  |  84% \n",
      "docutils-0.18.1      | 666 KB    | ########## | 100% \n",
      "\n",
      "packaging-23.0       | 69 KB     |            |   0% \n",
      "packaging-23.0       | 69 KB     | ########## | 100% \n",
      "packaging-23.0       | 69 KB     | ########## | 100% \n",
      "\n",
      "ca-certificates-2023 | 121 KB    |            |   0% \n",
      "ca-certificates-2023 | 121 KB    | #########2 |  93% \n",
      "ca-certificates-2023 | 121 KB    | ########## | 100% \n",
      "\n",
      "ninja-1.10.2         | 14 KB     |            |   0% \n",
      "ninja-1.10.2         | 14 KB     | ########## | 100% \n",
      "ninja-1.10.2         | 14 KB     | ########## | 100% \n",
      "\n",
      "fsspec-2023.3.0      | 234 KB    |            |   0% \n",
      "fsspec-2023.3.0      | 234 KB    | ####       |  41% \n",
      "fsspec-2023.3.0      | 234 KB    | ########## | 100% \n",
      "\n",
      "pycurl-7.45.2        | 133 KB    |            |   0% \n",
      "pycurl-7.45.2        | 133 KB    | ########## | 100% \n",
      "pycurl-7.45.2        | 133 KB    | ########## | 100% \n",
      "\n",
      "jsonschema-4.17.3    | 156 KB    |            |   0% \n",
      "jsonschema-4.17.3    | 156 KB    | ########2  |  82% \n",
      "jsonschema-4.17.3    | 156 KB    | ########## | 100% \n",
      "\n",
      "joblib-1.1.1         | 383 KB    |            |   0% \n",
      "joblib-1.1.1         | 383 KB    | ####1      |  42% \n",
      "joblib-1.1.1         | 383 KB    | ########## | 100% \n",
      "joblib-1.1.1         | 383 KB    | ########## | 100% \n",
      "\n",
      "nbformat-5.7.0       | 152 KB    |            |   0% \n",
      "nbformat-5.7.0       | 152 KB    | ########4  |  84% \n",
      "nbformat-5.7.0       | 152 KB    | ########## | 100% \n",
      "\n",
      "whatthepatch-1.0.2   | 23 KB     |            |   0% \n",
      "whatthepatch-1.0.2   | 23 KB     | ########## | 100% \n",
      "whatthepatch-1.0.2   | 23 KB     | ########## | 100% \n",
      "\n",
      "keyring-23.13.1      | 83 KB     |            |   0% \n",
      "keyring-23.13.1      | 83 KB     | ########## | 100% \n",
      "keyring-23.13.1      | 83 KB     | ########## | 100% \n",
      "\n",
      "libclang13-14.0.6    | 19.8 MB   |            |   0% \n",
      "libclang13-14.0.6    | 19.8 MB   |            |   1% \n",
      "libclang13-14.0.6    | 19.8 MB   | 2          |   3% \n",
      "libclang13-14.0.6    | 19.8 MB   | 4          |   5% \n",
      "libclang13-14.0.6    | 19.8 MB   | 6          |   7% \n",
      "libclang13-14.0.6    | 19.8 MB   | 8          |   8% \n",
      "libclang13-14.0.6    | 19.8 MB   | 9          |  10% \n",
      "libclang13-14.0.6    | 19.8 MB   | #6         |  16% \n",
      "libclang13-14.0.6    | 19.8 MB   | #9         |  19% \n",
      "libclang13-14.0.6    | 19.8 MB   | ##4        |  24% \n",
      "libclang13-14.0.6    | 19.8 MB   | ##6        |  27% \n",
      "libclang13-14.0.6    | 19.8 MB   | ##9        |  29% \n",
      "libclang13-14.0.6    | 19.8 MB   | ###1       |  32% \n",
      "libclang13-14.0.6    | 19.8 MB   | ###3       |  34% \n",
      "libclang13-14.0.6    | 19.8 MB   | ###8       |  39% \n",
      "libclang13-14.0.6    | 19.8 MB   | ####1      |  41% \n",
      "libclang13-14.0.6    | 19.8 MB   | ####6      |  47% \n",
      "libclang13-14.0.6    | 19.8 MB   | ####9      |  49% \n",
      "libclang13-14.0.6    | 19.8 MB   | #####5     |  56% \n",
      "libclang13-14.0.6    | 19.8 MB   | #####8     |  59% \n",
      "libclang13-14.0.6    | 19.8 MB   | ######1    |  61% \n",
      "libclang13-14.0.6    | 19.8 MB   | ######9    |  69% \n",
      "libclang13-14.0.6    | 19.8 MB   | #######2   |  72% \n",
      "libclang13-14.0.6    | 19.8 MB   | #######4   |  75% \n",
      "libclang13-14.0.6    | 19.8 MB   | #######8   |  78% \n",
      "libclang13-14.0.6    | 19.8 MB   | ########1  |  81% \n",
      "libclang13-14.0.6    | 19.8 MB   | ########4  |  84% \n",
      "libclang13-14.0.6    | 19.8 MB   | ########7  |  87% \n",
      "libclang13-14.0.6    | 19.8 MB   | ########9  |  89% \n",
      "libclang13-14.0.6    | 19.8 MB   | #########1 |  92% \n",
      "libclang13-14.0.6    | 19.8 MB   | #########5 |  95% \n",
      "libclang13-14.0.6    | 19.8 MB   | #########7 |  98% \n",
      "libclang13-14.0.6    | 19.8 MB   | ########## | 100% \n",
      "\n",
      "pycosat-0.6.4        | 74 KB     |            |   0% \n",
      "pycosat-0.6.4        | 74 KB     | ##1        |  22% \n",
      "pycosat-0.6.4        | 74 KB     | ########## | 100% \n",
      "\n",
      "tomlkit-0.11.1       | 72 KB     |            |   0% \n",
      "tomlkit-0.11.1       | 72 KB     | ########## | 100% \n",
      "tomlkit-0.11.1       | 72 KB     | ########## | 100% \n",
      "\n",
      "tbb-2021.8.0         | 149 KB    |            |   0% \n",
      "tbb-2021.8.0         | 149 KB    | #########6 |  96% \n",
      "tbb-2021.8.0         | 149 KB    | ########## | 100% \n",
      "\n",
      "wheel-0.38.4         | 83 KB     |            |   0% \n",
      "wheel-0.38.4         | 83 KB     | ########## | 100% \n",
      "wheel-0.38.4         | 83 KB     | ########## | 100% \n",
      "\n",
      "jupyterlab_widgets-3 | 179 KB    |            |   0% \n",
      "jupyterlab_widgets-3 | 179 KB    | ####4      |  45% \n",
      "jupyterlab_widgets-3 | 179 KB    | ########## | 100% \n",
      "\n",
      "mccabe-0.7.0         | 11 KB     |            |   0% \n",
      "mccabe-0.7.0         | 11 KB     | ########## | 100% \n",
      "mccabe-0.7.0         | 11 KB     | ########## | 100% \n",
      "\n",
      "pyparsing-3.0.9      | 152 KB    |            |   0% \n",
      "pyparsing-3.0.9      | 152 KB    | #######3   |  74% \n",
      "pyparsing-3.0.9      | 152 KB    | ########## | 100% \n",
      "\n",
      "sphinx-5.0.2         | 1.7 MB    |            |   0% \n",
      "sphinx-5.0.2         | 1.7 MB    |            |   1% \n",
      "sphinx-5.0.2         | 1.7 MB    | ##7        |  28% \n",
      "sphinx-5.0.2         | 1.7 MB    | #####2     |  52% \n",
      "sphinx-5.0.2         | 1.7 MB    | #######7   |  77% \n",
      "sphinx-5.0.2         | 1.7 MB    | ########## | 100% \n",
      "sphinx-5.0.2         | 1.7 MB    | ########## | 100% \n",
      "\n",
      "python-lsp-black-1.2 | 14 KB     |            |   0% \n",
      "python-lsp-black-1.2 | 14 KB     | ########## | 100% \n",
      "python-lsp-black-1.2 | 14 KB     | ########## | 100% \n",
      "\n",
      "scipy-1.10.0         | 18.7 MB   |            |   0% \n",
      "scipy-1.10.0         | 18.7 MB   |            |   1% \n",
      "scipy-1.10.0         | 18.7 MB   | 2          |   3% \n",
      "scipy-1.10.0         | 18.7 MB   | 4          |   5% \n",
      "scipy-1.10.0         | 18.7 MB   | 6          |   7% \n",
      "scipy-1.10.0         | 18.7 MB   | 9          |   9% \n",
      "scipy-1.10.0         | 18.7 MB   | #1         |  12% \n",
      "scipy-1.10.0         | 18.7 MB   | #3         |  14% \n",
      "scipy-1.10.0         | 18.7 MB   | #6         |  16% \n",
      "scipy-1.10.0         | 18.7 MB   | #7         |  18% \n",
      "scipy-1.10.0         | 18.7 MB   | ##         |  20% \n",
      "scipy-1.10.0         | 18.7 MB   | ##5        |  25% \n",
      "scipy-1.10.0         | 18.7 MB   | ##7        |  28% \n",
      "scipy-1.10.0         | 18.7 MB   | ###        |  30% \n",
      "scipy-1.10.0         | 18.7 MB   | ###2       |  33% \n",
      "scipy-1.10.0         | 18.7 MB   | ###9       |  40% \n",
      "scipy-1.10.0         | 18.7 MB   | ####3      |  43% \n",
      "scipy-1.10.0         | 18.7 MB   | ####5      |  46% \n",
      "scipy-1.10.0         | 18.7 MB   | ####9      |  49% \n",
      "scipy-1.10.0         | 18.7 MB   | #####2     |  52% \n",
      "scipy-1.10.0         | 18.7 MB   | #####4     |  55% \n",
      "scipy-1.10.0         | 18.7 MB   | #####7     |  57% \n",
      "scipy-1.10.0         | 18.7 MB   | #####9     |  59% \n",
      "scipy-1.10.0         | 18.7 MB   | ######     |  61% \n",
      "scipy-1.10.0         | 18.7 MB   | ######7    |  67% \n",
      "scipy-1.10.0         | 18.7 MB   | ######9    |  70% \n",
      "scipy-1.10.0         | 18.7 MB   | #######3   |  74% \n",
      "scipy-1.10.0         | 18.7 MB   | #######5   |  76% \n",
      "scipy-1.10.0         | 18.7 MB   | ########   |  81% \n",
      "scipy-1.10.0         | 18.7 MB   | ########3  |  84% \n",
      "scipy-1.10.0         | 18.7 MB   | #########2 |  92% \n",
      "scipy-1.10.0         | 18.7 MB   | #########6 |  96% \n",
      "scipy-1.10.0         | 18.7 MB   | ########## | 100% \n",
      "scipy-1.10.0         | 18.7 MB   | ########## | 100% \n",
      "\n",
      "libarchive-3.6.2     | 1.8 MB    |            |   0% \n",
      "libarchive-3.6.2     | 1.8 MB    | 5          |   5% \n",
      "libarchive-3.6.2     | 1.8 MB    | ##5        |  25% \n",
      "libarchive-3.6.2     | 1.8 MB    | ###8       |  38% \n",
      "libarchive-3.6.2     | 1.8 MB    | ########1  |  81% \n",
      "libarchive-3.6.2     | 1.8 MB    | ########## | 100% \n",
      "\n",
      "soupsieve-2.3.2.post | 66 KB     |            |   0% \n",
      "soupsieve-2.3.2.post | 66 KB     | ########## | 100% \n",
      "soupsieve-2.3.2.post | 66 KB     | ########## | 100% \n",
      "\n",
      "widgetsnbextension-4 | 861 KB    |            |   0% \n",
      "widgetsnbextension-4 | 861 KB    | #4         |  15% \n",
      "widgetsnbextension-4 | 861 KB    | ######3    |  63% \n",
      "widgetsnbextension-4 | 861 KB    | #########6 |  97% \n",
      "widgetsnbextension-4 | 861 KB    | ########## | 100% \n",
      "\n",
      "qtconsole-5.4.0      | 209 KB    |            |   0% \n",
      "qtconsole-5.4.0      | 209 KB    | #####3     |  54% \n",
      "qtconsole-5.4.0      | 209 KB    | ########## | 100% \n",
      "Preparing transaction: ...working... done\n",
      "Verifying transaction: ...working... done\n",
      "Executing transaction: ...working... \n",
      "\n",
      "    Windows 64-bit packages of scikit-learn can be accelerated using scikit-learn-intelex.\n",
      "    More details are available here: https://intel.github.io/scikit-learn-intelex\n",
      "\n",
      "    For example:\n",
      "\n",
      "        $ conda install scikit-learn-intelex\n",
      "        $ python -m sklearnex my_application.py\n",
      "\n",
      "\n",
      "done\n",
      "Retrieving notices: ...working... done\n"
     ]
    }
   ],
   "source": [
    "conda update jupyter"
   ]
  },
  {
   "cell_type": "code",
   "execution_count": 2,
   "metadata": {
    "id": "ed4n-0F8br7R"
   },
   "outputs": [],
   "source": [
    "import numpy as np\n",
    "import pandas as pd\n",
    "import seaborn as sns\n",
    "import matplotlib.pyplot as plt\n",
    "%matplotlib inline\n",
    "\n",
    "plt.rcParams[\"figure.figsize\"] = (10,6)\n",
    "import warnings\n",
    "warnings.filterwarnings(\"ignore\")\n",
    "warnings.warn(\"this will not show\")\n",
    "#pd.set_option('display.float_format', lambda x: '%.3f' % x)\n",
    "#pd.options.display.float_format = '{:.3f}'.format"
   ]
  },
  {
   "cell_type": "code",
   "execution_count": 3,
   "metadata": {
    "id": "8KCJu5lqbr7U"
   },
   "outputs": [],
   "source": [
    "df = pd.read_csv('hearing_test.csv')"
   ]
  },
  {
   "cell_type": "code",
   "execution_count": 4,
   "metadata": {
    "id": "EU3CjQXibr7U",
    "outputId": "822829aa-bc7d-4d2f-88cb-1f7111f460ab"
   },
   "outputs": [
    {
     "data": {
      "text/html": [
       "<div>\n",
       "<style scoped>\n",
       "    .dataframe tbody tr th:only-of-type {\n",
       "        vertical-align: middle;\n",
       "    }\n",
       "\n",
       "    .dataframe tbody tr th {\n",
       "        vertical-align: top;\n",
       "    }\n",
       "\n",
       "    .dataframe thead th {\n",
       "        text-align: right;\n",
       "    }\n",
       "</style>\n",
       "<table border=\"1\" class=\"dataframe\">\n",
       "  <thead>\n",
       "    <tr style=\"text-align: right;\">\n",
       "      <th></th>\n",
       "      <th>age</th>\n",
       "      <th>physical_score</th>\n",
       "      <th>test_result</th>\n",
       "    </tr>\n",
       "  </thead>\n",
       "  <tbody>\n",
       "    <tr>\n",
       "      <th>0</th>\n",
       "      <td>33.0</td>\n",
       "      <td>40.7</td>\n",
       "      <td>1</td>\n",
       "    </tr>\n",
       "    <tr>\n",
       "      <th>1</th>\n",
       "      <td>50.0</td>\n",
       "      <td>37.2</td>\n",
       "      <td>1</td>\n",
       "    </tr>\n",
       "    <tr>\n",
       "      <th>2</th>\n",
       "      <td>52.0</td>\n",
       "      <td>24.7</td>\n",
       "      <td>0</td>\n",
       "    </tr>\n",
       "    <tr>\n",
       "      <th>3</th>\n",
       "      <td>56.0</td>\n",
       "      <td>31.0</td>\n",
       "      <td>0</td>\n",
       "    </tr>\n",
       "    <tr>\n",
       "      <th>4</th>\n",
       "      <td>35.0</td>\n",
       "      <td>42.9</td>\n",
       "      <td>1</td>\n",
       "    </tr>\n",
       "  </tbody>\n",
       "</table>\n",
       "</div>"
      ],
      "text/plain": [
       "    age  physical_score  test_result\n",
       "0  33.0            40.7            1\n",
       "1  50.0            37.2            1\n",
       "2  52.0            24.7            0\n",
       "3  56.0            31.0            0\n",
       "4  35.0            42.9            1"
      ]
     },
     "execution_count": 4,
     "metadata": {},
     "output_type": "execute_result"
    }
   ],
   "source": [
    "df.head()"
   ]
  },
  {
   "cell_type": "markdown",
   "metadata": {
    "id": "lPjPtubEbr7W"
   },
   "source": [
    "## Exploratory Data Analysis and Visualization"
   ]
  },
  {
   "cell_type": "code",
   "execution_count": 5,
   "metadata": {
    "id": "OcRBd0qybr7X",
    "outputId": "4b4f0a84-0f68-4c04-d53d-bf854783bcc3"
   },
   "outputs": [
    {
     "name": "stdout",
     "output_type": "stream",
     "text": [
      "<class 'pandas.core.frame.DataFrame'>\n",
      "RangeIndex: 5000 entries, 0 to 4999\n",
      "Data columns (total 3 columns):\n",
      " #   Column          Non-Null Count  Dtype  \n",
      "---  ------          --------------  -----  \n",
      " 0   age             5000 non-null   float64\n",
      " 1   physical_score  5000 non-null   float64\n",
      " 2   test_result     5000 non-null   int64  \n",
      "dtypes: float64(2), int64(1)\n",
      "memory usage: 117.3 KB\n"
     ]
    }
   ],
   "source": [
    "df.info()"
   ]
  },
  {
   "cell_type": "code",
   "execution_count": 6,
   "metadata": {
    "id": "wjKwfPElbr7Y",
    "outputId": "5189ea68-18f7-4f77-f35c-207d03e7326a"
   },
   "outputs": [
    {
     "data": {
      "text/html": [
       "<div>\n",
       "<style scoped>\n",
       "    .dataframe tbody tr th:only-of-type {\n",
       "        vertical-align: middle;\n",
       "    }\n",
       "\n",
       "    .dataframe tbody tr th {\n",
       "        vertical-align: top;\n",
       "    }\n",
       "\n",
       "    .dataframe thead th {\n",
       "        text-align: right;\n",
       "    }\n",
       "</style>\n",
       "<table border=\"1\" class=\"dataframe\">\n",
       "  <thead>\n",
       "    <tr style=\"text-align: right;\">\n",
       "      <th></th>\n",
       "      <th>count</th>\n",
       "      <th>mean</th>\n",
       "      <th>std</th>\n",
       "      <th>min</th>\n",
       "      <th>25%</th>\n",
       "      <th>50%</th>\n",
       "      <th>75%</th>\n",
       "      <th>max</th>\n",
       "    </tr>\n",
       "  </thead>\n",
       "  <tbody>\n",
       "    <tr>\n",
       "      <th>age</th>\n",
       "      <td>5000.0</td>\n",
       "      <td>51.60900</td>\n",
       "      <td>11.287001</td>\n",
       "      <td>18.0</td>\n",
       "      <td>43.0</td>\n",
       "      <td>51.0</td>\n",
       "      <td>60.0</td>\n",
       "      <td>90.0</td>\n",
       "    </tr>\n",
       "    <tr>\n",
       "      <th>physical_score</th>\n",
       "      <td>5000.0</td>\n",
       "      <td>32.76026</td>\n",
       "      <td>8.169802</td>\n",
       "      <td>-0.0</td>\n",
       "      <td>26.7</td>\n",
       "      <td>35.3</td>\n",
       "      <td>38.9</td>\n",
       "      <td>50.0</td>\n",
       "    </tr>\n",
       "    <tr>\n",
       "      <th>test_result</th>\n",
       "      <td>5000.0</td>\n",
       "      <td>0.60000</td>\n",
       "      <td>0.489947</td>\n",
       "      <td>0.0</td>\n",
       "      <td>0.0</td>\n",
       "      <td>1.0</td>\n",
       "      <td>1.0</td>\n",
       "      <td>1.0</td>\n",
       "    </tr>\n",
       "  </tbody>\n",
       "</table>\n",
       "</div>"
      ],
      "text/plain": [
       "                 count      mean        std   min   25%   50%   75%   max\n",
       "age             5000.0  51.60900  11.287001  18.0  43.0  51.0  60.0  90.0\n",
       "physical_score  5000.0  32.76026   8.169802  -0.0  26.7  35.3  38.9  50.0\n",
       "test_result     5000.0   0.60000   0.489947   0.0   0.0   1.0   1.0   1.0"
      ]
     },
     "execution_count": 6,
     "metadata": {},
     "output_type": "execute_result"
    }
   ],
   "source": [
    "df.describe().T"
   ]
  },
  {
   "cell_type": "code",
   "execution_count": 7,
   "metadata": {
    "id": "t1hlReX-br7Z",
    "outputId": "41eadee9-8a6b-4665-d456-0ca4e12bb2a2"
   },
   "outputs": [
    {
     "data": {
      "text/plain": [
       "1    3000\n",
       "0    2000\n",
       "Name: test_result, dtype: int64"
      ]
     },
     "execution_count": 7,
     "metadata": {},
     "output_type": "execute_result"
    }
   ],
   "source": [
    "df['test_result'].value_counts()"
   ]
  },
  {
   "cell_type": "code",
   "execution_count": 8,
   "metadata": {
    "id": "2pPp-cHrbr7a",
    "outputId": "9fa118db-8df8-435a-f23e-e4cd078a686f"
   },
   "outputs": [
    {
     "data": {
      "image/png": "[encoded data removed]",
      "text/plain": [
       "<Figure size 1000x600 with 1 Axes>"
      ]
     },
     "metadata": {},
     "output_type": "display_data"
    }
   ],
   "source": [
    "ax = sns.countplot(df['test_result'])\n",
    "ax.bar_label(ax.containers[0]);"
   ]
  },
  {
   "cell_type": "code",
   "execution_count": 9,
   "metadata": {
    "id": "slXBDlJebr7b",
    "outputId": "2e5b8908-bb2d-4aca-da69-1886b84f9871"
   },
   "outputs": [
    {
     "data": {
      "image/png": "[encoded data removed]",
      "text/plain": [
       "<Figure size 1000x600 with 1 Axes>"
      ]
     },
     "metadata": {},
     "output_type": "display_data"
    }
   ],
   "source": [
    "sns.boxplot(x='test_result',y='age',data=df);\n",
    "\n",
    "# Yaşlara göre box plotlara baktığımızda işitme testinden geçenlerin yaş ortalaması 45 civarlarındayken, geçemeyenlerin\n",
    "# yaş ortalaması 60 civarlarında diyebiliriz. Kısaca genç yaşta olanların testi geçme olasılığı artıyor diyebiliriz."
   ]
  },
  {
   "cell_type": "code",
   "execution_count": 10,
   "metadata": {
    "id": "zVJw-5uWbr7b",
    "outputId": "5712499c-4b20-4761-c062-99603f77d64c"
   },
   "outputs": [
    {
     "data": {
      "text/plain": [
       "<Axes: xlabel='test_result', ylabel='physical_score'>"
      ]
     },
     "execution_count": 10,
     "metadata": {},
     "output_type": "execute_result"
    },
    {
     "data": {
      "image/png": "[encoded data removed]",
      "text/plain": [
       "<Figure size 1000x600 with 1 Axes>"
      ]
     },
     "metadata": {},
     "output_type": "display_data"
    }
   ],
   "source": [
    "sns.boxplot(x='test_result',y='physical_score',data=df)\n",
    "\n",
    "# Fiziksel skorlara göre box plotlara baktığımızda işitme testinden geçenlerin fiziksel score ortalaması 37 civarlarındayken, \n",
    "# geçemeyenlerin fiziksel score ortalaması 25 civarlarında diyebiliriz. Kısaca fiziksel score yükseldikçe testi geçme olasılığı \n",
    "# artıyor diyebiliriz."
   ]
  },
  {
   "cell_type": "code",
   "execution_count": 11,
   "metadata": {
    "id": "MACKEBy9br7c",
    "outputId": "a9bfc8ab-9645-4731-95e7-14daf9d7d5c3"
   },
   "outputs": [
    {
     "data": {
      "image/png": "[encoded data removed]",
      "text/plain": [
       "<Figure size 1000x600 with 1 Axes>"
      ]
     },
     "metadata": {},
     "output_type": "display_data"
    }
   ],
   "source": [
    "sns.scatterplot(x='age', y='physical_score', data=df, hue='test_result', alpha=0.3);"
   ]
  },
  {
   "cell_type": "code",
   "execution_count": 12,
   "metadata": {
    "id": "21F4aMP5br7d",
    "outputId": "3ab3cce0-7654-47c9-d543-afb40f547dbf"
   },
   "outputs": [
    {
     "data": {
      "image/png": "[encoded data removed]",
      "text/plain": [
       "<Figure size 583.986x500 with 6 Axes>"
      ]
     },
     "metadata": {},
     "output_type": "display_data"
    }
   ],
   "source": [
    "sns.pairplot(df,hue='test_result');"
   ]
  },
  {
   "cell_type": "code",
   "execution_count": 13,
   "metadata": {
    "id": "CPtn4a4mbr7d",
    "outputId": "cdc564f0-9fd2-4b98-d5af-53be0e4507c4"
   },
   "outputs": [
    {
     "data": {
      "image/png": "[encoded data removed]",
      "text/plain": [
       "<Figure size 1000x600 with 2 Axes>"
      ]
     },
     "metadata": {},
     "output_type": "display_data"
    }
   ],
   "source": [
    "sns.heatmap(df.corr(), annot=True);"
   ]
  },
  {
   "cell_type": "markdown",
   "metadata": {
    "id": "B3cXIu5dbr7d"
   },
   "source": [
    "## Train | Test Split"
   ]
  },
  {
   "cell_type": "code",
   "execution_count": 14,
   "metadata": {
    "id": "TNrpPYZUbr7e"
   },
   "outputs": [],
   "source": [
    "X = df.drop('test_result',axis=1)\n",
    "y = df['test_result']"
   ]
  },
  {
   "cell_type": "code",
   "execution_count": 15,
   "metadata": {
    "id": "2PiMWVnVbr7e"
   },
   "outputs": [],
   "source": [
    "from sklearn.model_selection import train_test_split\n",
    "from sklearn.preprocessing import StandardScaler"
   ]
  },
  {
   "cell_type": "code",
   "execution_count": 16,
   "metadata": {
    "id": "GMxjIv0pbr7e"
   },
   "outputs": [],
   "source": [
    "X_train, X_test, y_train, y_test = train_test_split(X, y, test_size=0.1, random_state=101)"
   ]
  },
  {
   "cell_type": "code",
   "execution_count": 17,
   "metadata": {
    "id": "hmWjv9TLbr7f"
   },
   "outputs": [],
   "source": [
    "#scaler = StandardScaler()\n",
    "\n",
    "#X_train_scaled = scaler.fit_transform(X_train)\n",
    "#X_test_scaled = scaler.transform(X_test)"
   ]
  },
  {
   "cell_type": "markdown",
   "metadata": {
    "id": "oLKj9LhIbr7f"
   },
   "source": [
    "## Modelling"
   ]
  },
  {
   "cell_type": "code",
   "execution_count": 18,
   "metadata": {
    "id": "PWu6GGaebr7f"
   },
   "outputs": [],
   "source": [
    "from sklearn.linear_model import LogisticRegression"
   ]
  },
  {
   "cell_type": "markdown",
   "metadata": {
    "id": "UA_OhQbqbr7f"
   },
   "source": [
    "https://scikit-learn.org/stable/modules/generated/sklearn.linear_model.LogisticRegression.html"
   ]
  },
  {
   "cell_type": "code",
   "execution_count": 19,
   "metadata": {
    "id": "IQP9xHnZbr7g"
   },
   "outputs": [],
   "source": [
    "#help(LogisticRegression)"
   ]
  },
  {
   "cell_type": "code",
   "execution_count": 20,
   "metadata": {
    "id": "RnvqXjnYbr7g"
   },
   "outputs": [],
   "source": [
    "log_model = LogisticRegression()\n",
    "\n",
    "# Modeli aynı şekilde kuruyoruz."
   ]
  },
  {
   "cell_type": "code",
   "execution_count": 21,
   "metadata": {
    "id": "q79U4e3Obr7g",
    "outputId": "1ee13248-8d02-4f5d-e41c-387f1b590858"
   },
   "outputs": [
    {
     "data": {
      "text/html": [
       "<style>#sk-container-id-1 {color: black;background-color: white;}#sk-container-id-1 pre{padding: 0;}#sk-container-id-1 div.sk-toggleable {background-color: white;}#sk-container-id-1 label.sk-toggleable__label {cursor: pointer;display: block;width: 100%;margin-bottom: 0;padding: 0.3em;box-sizing: border-box;text-align: center;}#sk-container-id-1 label.sk-toggleable__label-arrow:before {content: \"▸\";float: left;margin-right: 0.25em;color: #696969;}#sk-container-id-1 label.sk-toggleable__label-arrow:hover:before {color: black;}#sk-container-id-1 div.sk-estimator:hover label.sk-toggleable__label-arrow:before {color: black;}#sk-container-id-1 div.sk-toggleable__content {max-height: 0;max-width: 0;overflow: hidden;text-align: left;background-color: #f0f8ff;}#sk-container-id-1 div.sk-toggleable__content pre {margin: 0.2em;color: black;border-radius: 0.25em;background-color: #f0f8ff;}#sk-container-id-1 input.sk-toggleable__control:checked~div.sk-toggleable__content {max-height: 200px;max-width: 100%;overflow: auto;}#sk-container-id-1 input.sk-toggleable__control:checked~label.sk-toggleable__label-arrow:before {content: \"▾\";}#sk-container-id-1 div.sk-estimator input.sk-toggleable__control:checked~label.sk-toggleable__label {background-color: #d4ebff;}#sk-container-id-1 div.sk-label input.sk-toggleable__control:checked~label.sk-toggleable__label {background-color: #d4ebff;}#sk-container-id-1 input.sk-hidden--visually {border: 0;clip: rect(1px 1px 1px 1px);clip: rect(1px, 1px, 1px, 1px);height: 1px;margin: -1px;overflow: hidden;padding: 0;position: absolute;width: 1px;}#sk-container-id-1 div.sk-estimator {font-family: monospace;background-color: #f0f8ff;border: 1px dotted black;border-radius: 0.25em;box-sizing: border-box;margin-bottom: 0.5em;}#sk-container-id-1 div.sk-estimator:hover {background-color: #d4ebff;}#sk-container-id-1 div.sk-parallel-item::after {content: \"\";width: 100%;border-bottom: 1px solid gray;flex-grow: 1;}#sk-container-id-1 div.sk-label:hover label.sk-toggleable__label {background-color: #d4ebff;}#sk-container-id-1 div.sk-serial::before {content: \"\";position: absolute;border-left: 1px solid gray;box-sizing: border-box;top: 0;bottom: 0;left: 50%;z-index: 0;}#sk-container-id-1 div.sk-serial {display: flex;flex-direction: column;align-items: center;background-color: white;padding-right: 0.2em;padding-left: 0.2em;position: relative;}#sk-container-id-1 div.sk-item {position: relative;z-index: 1;}#sk-container-id-1 div.sk-parallel {display: flex;align-items: stretch;justify-content: center;background-color: white;position: relative;}#sk-container-id-1 div.sk-item::before, #sk-container-id-1 div.sk-parallel-item::before {content: \"\";position: absolute;border-left: 1px solid gray;box-sizing: border-box;top: 0;bottom: 0;left: 50%;z-index: -1;}#sk-container-id-1 div.sk-parallel-item {display: flex;flex-direction: column;z-index: 1;position: relative;background-color: white;}#sk-container-id-1 div.sk-parallel-item:first-child::after {align-self: flex-end;width: 50%;}#sk-container-id-1 div.sk-parallel-item:last-child::after {align-self: flex-start;width: 50%;}#sk-container-id-1 div.sk-parallel-item:only-child::after {width: 0;}#sk-container-id-1 div.sk-dashed-wrapped {border: 1px dashed gray;margin: 0 0.4em 0.5em 0.4em;box-sizing: border-box;padding-bottom: 0.4em;background-color: white;}#sk-container-id-1 div.sk-label label {font-family: monospace;font-weight: bold;display: inline-block;line-height: 1.2em;}#sk-container-id-1 div.sk-label-container {text-align: center;}#sk-container-id-1 div.sk-container {/* jupyter's `normalize.less` sets `[hidden] { display: none; }` but bootstrap.min.css set `[hidden] { display: none !important; }` so we also need the `!important` here to be able to override the default hidden behavior on the sphinx rendered scikit-learn.org. See: https://github.com/scikit-learn/scikit-learn/issues/21755 */display: inline-block !important;position: relative;}#sk-container-id-1 div.sk-text-repr-fallback {display: none;}</style><div id=\"sk-container-id-1\" class=\"sk-top-container\"><div class=\"sk-text-repr-fallback\"><pre>LogisticRegression()</pre><b>In a Jupyter environment, please rerun this cell to show the HTML representation or trust the notebook. <br />On GitHub, the HTML representation is unable to render, please try loading this page with nbviewer.org.</b></div><div class=\"sk-container\" hidden><div class=\"sk-item\"><div class=\"sk-estimator sk-toggleable\"><input class=\"sk-toggleable__control sk-hidden--visually\" id=\"sk-estimator-id-1\" type=\"checkbox\" checked><label for=\"sk-estimator-id-1\" class=\"sk-toggleable__label sk-toggleable__label-arrow\">LogisticRegression</label><div class=\"sk-toggleable__content\"><pre>LogisticRegression()</pre></div></div></div></div></div>"
      ],
      "text/plain": [
       "LogisticRegression()"
      ]
     },
     "execution_count": 21,
     "metadata": {},
     "output_type": "execute_result"
    }
   ],
   "source": [
    "log_model.fit(X_train, y_train)"
   ]
  },
  {
   "cell_type": "code",
   "execution_count": 22,
   "metadata": {
    "id": "ioqCWDZqbr7h",
    "outputId": "175990c8-15b2-4f36-9b93-8d2348c1c754"
   },
   "outputs": [
    {
     "data": {
      "text/plain": [
       "Index(['age', 'physical_score', 'test_result'], dtype='object')"
      ]
     },
     "execution_count": 22,
     "metadata": {},
     "output_type": "execute_result"
    }
   ],
   "source": [
    "df.columns"
   ]
  },
  {
   "cell_type": "markdown",
   "metadata": {
    "id": "eplMQTurbr7h"
   },
   "source": [
    "## Interpretation of coefficients"
   ]
  },
  {
   "cell_type": "code",
   "execution_count": 25,
   "metadata": {
    "id": "dIeKkLLmbr7h",
    "outputId": "1eeeb7bd-9142-44a2-bf7a-eeaa7a8edb0b"
   },
   "outputs": [
    {
     "data": {
      "text/plain": [
       "array([[-0.08365972,  0.43251827]])"
      ]
     },
     "execution_count": 25,
     "metadata": {},
     "output_type": "execute_result"
    }
   ],
   "source": [
    "log_model.coef_\n",
    "\n",
    "# katsayıların nasıl yorumlandığını aşağıda göreceğiz."
   ]
  },
  {
   "cell_type": "code",
   "execution_count": 26,
   "metadata": {
    "id": "dUYtpdQDbr7h",
    "outputId": "0a9c4971-2a00-4c96-a15d-5b8a5a4cd3c9"
   },
   "outputs": [
    {
     "data": {
      "text/plain": [
       "array([-9.35047287])"
      ]
     },
     "execution_count": 26,
     "metadata": {},
     "output_type": "execute_result"
    }
   ],
   "source": [
    "log_model.intercept_"
   ]
  },
  {
   "cell_type": "code",
   "execution_count": 27,
   "metadata": {
    "id": "7TrAfRw5br7i",
    "outputId": "be27c636-b524-4673-91af-1bc53974c44a"
   },
   "outputs": [
    {
     "name": "stdout",
     "output_type": "stream",
     "text": [
      "b2 (age coef)       : -0.08365972134083335\n",
      "b1 (physical_score) : 0.43251826524592085\n"
     ]
    }
   ],
   "source": [
    "b2, b1 = log_model.coef_[0]\n",
    "print(\"b2 (age coef)       :\", b2)\n",
    "print(\"b1 (physical_score) :\", b1)"
   ]
  },
  {
   "cell_type": "code",
   "execution_count": 28,
   "metadata": {
    "id": "wctSZD9Kbr7i",
    "outputId": "e9b25868-70d9-400a-c2df-fc6590f1325b"
   },
   "outputs": [
    {
     "name": "stdout",
     "output_type": "stream",
     "text": [
      "b0 (intercept) : -9.350472872727675\n"
     ]
    }
   ],
   "source": [
    "b0 = log_model.intercept_[0]\n",
    "print(\"b0 (intercept) :\", b0)"
   ]
  },
  {
   "cell_type": "markdown",
   "metadata": {
    "id": "k0EbYv6abr7i"
   },
   "source": [
    "## Linear to Sigmoid Conversion"
   ]
  },
  {
   "cell_type": "markdown",
   "metadata": {
    "id": "vGtdYFegbr7j"
   },
   "source": [
    "**The probability** that an event will occur is the possibility you expect to see that event in many trials. \n",
    "\n",
    "**Probabilities** always range between 0 and 1. \n",
    "\n",
    "**The odds** are defined as the probability that the event will occur divided by the probability that the event will not occur."
   ]
  },
  {
   "cell_type": "markdown",
   "metadata": {
    "id": "vcS1X94Gbr7j"
   },
   "source": [
    "https://towardsdatascience.com/a-simple-interpretation-of-logistic-regression-coefficients-e3a40a62e8cf"
   ]
  },
  {
   "cell_type": "code",
   "execution_count": 29,
   "metadata": {
    "id": "Ia6WrI-0br7j"
   },
   "outputs": [],
   "source": [
    "def sigmoid(age, physical_score):\n",
    "\n",
    "    log_odds = b2*age + b1*physical_score + b0 # b2*X2 + b1*X1 + b0\n",
    "    probability = 1 / (1+np.exp(-log_odds))\n",
    "    return probability\n",
    "\n",
    "# Logistik regression bizim bildiğimiz clasicc linear regression denklemimizi (b2*X2 + b1*X1 +b0) yukarıdaki fonksiyonu\n",
    "# kullanarak olasılığa (probability) dönüştürür."
   ]
  },
  {
   "cell_type": "raw",
   "metadata": {
    "id": "28gVDdJPbr7j"
   },
   "source": [
    "probability      : the probability that an event will occur\n",
    "    \n",
    "1 - probability  : the probability that an event will not occur\n",
    "\n",
    "odds = probability / (1 - probability)\n",
    "\n",
    "Logistik regressionda katsayıların yorumlanması **odds** üzerinden yapılır. Hem probabilty hem de odds'un türkçe karşılığı olasılık olsada aralarında bazı nüans farkları var.\n",
    "\n",
    "probabilty : Bir olayın birçok denemede beklenen gerçekleşme olasılığına probability diyoruz. Her zaman 0-1 arasında gerçekleşir.\n",
    "\n",
    "odds : Bir olayın gerçekleşme(başarının) olasılığının (probability) gerçekleşmeme (başarısızlık) olasılığına (1-probability) oranına odds denir. 1'den bütyük değerler alabilir.\n",
    "\n",
    "Örnek : Fenerbahçe, Real Madrid ile tarihleri boyunca 10 kere karşılaştılar. Fenerbahçe rakibini 1 kez yenerken, rakibine 9 kere yenildi.\n",
    "\n",
    "1. FB'nin RM'i yenme (başarı) olasılığı (probability) 1/10 iken yenilme (başarısızlık) olasılığı (1-probability) 9/10'dur.\n",
    "\n",
    "2. odds : 0.1 / (1-0.1) = 0.111 (FB'nin RM'i yenme olasılığı, yenilme olasılığından 0.11 daha fazladır. Yani yenme(başarı) olasılığı çok düşüktür)\n",
    "\n",
    "Aynı örneğe bu sefer RM zaviyesinden bakalım.\n",
    "\n",
    "1. RM'in FB'yi yenme (başarı) olasılığı (probability) 9/10 iken yenilme (başarısızlık) olasılığı (1-probability) 1/10'dur.\n",
    "\n",
    "2. odds : 0.9 / (1-0.9) = 9 (RM'in FB'yi yenme olasılığı, yenilme olasılığından 9 daha fazladır. Yani yenme olasılığı çok fazladır)\n",
    "\n",
    "Odds değeri 1'den büyük çıkması başarı olasılığının daha yüksek olduğunu gösterir."
   ]
  },
  {
   "cell_type": "markdown",
   "metadata": {
    "id": "a8Eb7NXVbr7k"
   },
   "source": [
    "### The probability and odds of passing the hearing test for age = 33, physical_score= 40"
   ]
  },
  {
   "cell_type": "code",
   "execution_count": 30,
   "metadata": {
    "id": "-ibmipSCbr7k",
    "outputId": "2794014f-8e39-445f-b7f2-cc4ac093961c"
   },
   "outputs": [
    {
     "data": {
      "text/plain": [
       "0.9944560404714694"
      ]
     },
     "execution_count": 30,
     "metadata": {},
     "output_type": "execute_result"
    }
   ],
   "source": [
    "probability_age_33 = sigmoid(33, 40)\n",
    "probability_age_33\n",
    "\n",
    "# 33 yaşında olan ve fiziksel scoru 40 olan bir kişinin işitme testini geçme olasılığı % 99,45'dir."
   ]
  },
  {
   "cell_type": "markdown",
   "metadata": {
    "id": "g7lzgML6br7p"
   },
   "source": [
    "## Modeling with Scaling Data"
   ]
  },
  {
   "cell_type": "raw",
   "metadata": {
    "id": "3l4g_Z3Ubr7p"
   },
   "source": [
    "What happens can be described as follows:\n",
    "\n",
    "Step 1: The data are split into TRAINING data and TEST data according to ratio of train_test_split\n",
    "\n",
    "Step 2: the scaler is fitted on the numeric features of TRAINING data\n",
    "    \n",
    "Step 3: the scaler transforms the numeric features of TRAINING data\n",
    "\n",
    "Step 4: the models are fitted/trained using the transformed TRAINING data\n",
    "\n",
    "Step 5: the scaler transforms the numeric features of TEST data according to TRAINING data\n",
    "\n",
    "Step 6: the trained models predict using the transformed TEST data\n",
    "\n",
    "\n",
    "\n",
    "pipe_model.fit(X_train, y_train) --> scaler.fit(X_train)     \n",
    "                                 --> scaler.transform(X_train)\n",
    "                                 --> lojistic.fit(X_train_scaled, y_train)\n",
    "\n",
    "pipe_model.predict(X_test)       --> scaler.transform(X_test) \n",
    "                                 --> lojistic.predict(X_test_scaled)\n",
    "                                 \n",
    "pipeline içerisine öncelikle fit ve transform işlemlerini yapan dönüşüm algoritmaları sonra da fit ve predict işlmelerini yapan ML algoritmaları yazılır."
   ]
  },
  {
   "cell_type": "code",
   "execution_count": 31,
   "metadata": {
    "id": "vcOMipgUbr7p",
    "outputId": "d2794544-7dcc-406e-a8ca-5f7e33d67f7d"
   },
   "outputs": [
    {
     "data": {
      "text/html": [
       "<style>#sk-container-id-2 {color: black;background-color: white;}#sk-container-id-2 pre{padding: 0;}#sk-container-id-2 div.sk-toggleable {background-color: white;}#sk-container-id-2 label.sk-toggleable__label {cursor: pointer;display: block;width: 100%;margin-bottom: 0;padding: 0.3em;box-sizing: border-box;text-align: center;}#sk-container-id-2 label.sk-toggleable__label-arrow:before {content: \"▸\";float: left;margin-right: 0.25em;color: #696969;}#sk-container-id-2 label.sk-toggleable__label-arrow:hover:before {color: black;}#sk-container-id-2 div.sk-estimator:hover label.sk-toggleable__label-arrow:before {color: black;}#sk-container-id-2 div.sk-toggleable__content {max-height: 0;max-width: 0;overflow: hidden;text-align: left;background-color: #f0f8ff;}#sk-container-id-2 div.sk-toggleable__content pre {margin: 0.2em;color: black;border-radius: 0.25em;background-color: #f0f8ff;}#sk-container-id-2 input.sk-toggleable__control:checked~div.sk-toggleable__content {max-height: 200px;max-width: 100%;overflow: auto;}#sk-container-id-2 input.sk-toggleable__control:checked~label.sk-toggleable__label-arrow:before {content: \"▾\";}#sk-container-id-2 div.sk-estimator input.sk-toggleable__control:checked~label.sk-toggleable__label {background-color: #d4ebff;}#sk-container-id-2 div.sk-label input.sk-toggleable__control:checked~label.sk-toggleable__label {background-color: #d4ebff;}#sk-container-id-2 input.sk-hidden--visually {border: 0;clip: rect(1px 1px 1px 1px);clip: rect(1px, 1px, 1px, 1px);height: 1px;margin: -1px;overflow: hidden;padding: 0;position: absolute;width: 1px;}#sk-container-id-2 div.sk-estimator {font-family: monospace;background-color: #f0f8ff;border: 1px dotted black;border-radius: 0.25em;box-sizing: border-box;margin-bottom: 0.5em;}#sk-container-id-2 div.sk-estimator:hover {background-color: #d4ebff;}#sk-container-id-2 div.sk-parallel-item::after {content: \"\";width: 100%;border-bottom: 1px solid gray;flex-grow: 1;}#sk-container-id-2 div.sk-label:hover label.sk-toggleable__label {background-color: #d4ebff;}#sk-container-id-2 div.sk-serial::before {content: \"\";position: absolute;border-left: 1px solid gray;box-sizing: border-box;top: 0;bottom: 0;left: 50%;z-index: 0;}#sk-container-id-2 div.sk-serial {display: flex;flex-direction: column;align-items: center;background-color: white;padding-right: 0.2em;padding-left: 0.2em;position: relative;}#sk-container-id-2 div.sk-item {position: relative;z-index: 1;}#sk-container-id-2 div.sk-parallel {display: flex;align-items: stretch;justify-content: center;background-color: white;position: relative;}#sk-container-id-2 div.sk-item::before, #sk-container-id-2 div.sk-parallel-item::before {content: \"\";position: absolute;border-left: 1px solid gray;box-sizing: border-box;top: 0;bottom: 0;left: 50%;z-index: -1;}#sk-container-id-2 div.sk-parallel-item {display: flex;flex-direction: column;z-index: 1;position: relative;background-color: white;}#sk-container-id-2 div.sk-parallel-item:first-child::after {align-self: flex-end;width: 50%;}#sk-container-id-2 div.sk-parallel-item:last-child::after {align-self: flex-start;width: 50%;}#sk-container-id-2 div.sk-parallel-item:only-child::after {width: 0;}#sk-container-id-2 div.sk-dashed-wrapped {border: 1px dashed gray;margin: 0 0.4em 0.5em 0.4em;box-sizing: border-box;padding-bottom: 0.4em;background-color: white;}#sk-container-id-2 div.sk-label label {font-family: monospace;font-weight: bold;display: inline-block;line-height: 1.2em;}#sk-container-id-2 div.sk-label-container {text-align: center;}#sk-container-id-2 div.sk-container {/* jupyter's `normalize.less` sets `[hidden] { display: none; }` but bootstrap.min.css set `[hidden] { display: none !important; }` so we also need the `!important` here to be able to override the default hidden behavior on the sphinx rendered scikit-learn.org. See: https://github.com/scikit-learn/scikit-learn/issues/21755 */display: inline-block !important;position: relative;}#sk-container-id-2 div.sk-text-repr-fallback {display: none;}</style><div id=\"sk-container-id-2\" class=\"sk-top-container\"><div class=\"sk-text-repr-fallback\"><pre>Pipeline(steps=[(&#x27;scaler&#x27;, StandardScaler()),\n",
       "                (&#x27;logistic&#x27;, LogisticRegression())])</pre><b>In a Jupyter environment, please rerun this cell to show the HTML representation or trust the notebook. <br />On GitHub, the HTML representation is unable to render, please try loading this page with nbviewer.org.</b></div><div class=\"sk-container\" hidden><div class=\"sk-item sk-dashed-wrapped\"><div class=\"sk-label-container\"><div class=\"sk-label sk-toggleable\"><input class=\"sk-toggleable__control sk-hidden--visually\" id=\"sk-estimator-id-2\" type=\"checkbox\" ><label for=\"sk-estimator-id-2\" class=\"sk-toggleable__label sk-toggleable__label-arrow\">Pipeline</label><div class=\"sk-toggleable__content\"><pre>Pipeline(steps=[(&#x27;scaler&#x27;, StandardScaler()),\n",
       "                (&#x27;logistic&#x27;, LogisticRegression())])</pre></div></div></div><div class=\"sk-serial\"><div class=\"sk-item\"><div class=\"sk-estimator sk-toggleable\"><input class=\"sk-toggleable__control sk-hidden--visually\" id=\"sk-estimator-id-3\" type=\"checkbox\" ><label for=\"sk-estimator-id-3\" class=\"sk-toggleable__label sk-toggleable__label-arrow\">StandardScaler</label><div class=\"sk-toggleable__content\"><pre>StandardScaler()</pre></div></div></div><div class=\"sk-item\"><div class=\"sk-estimator sk-toggleable\"><input class=\"sk-toggleable__control sk-hidden--visually\" id=\"sk-estimator-id-4\" type=\"checkbox\" ><label for=\"sk-estimator-id-4\" class=\"sk-toggleable__label sk-toggleable__label-arrow\">LogisticRegression</label><div class=\"sk-toggleable__content\"><pre>LogisticRegression()</pre></div></div></div></div></div></div></div>"
      ],
      "text/plain": [
       "Pipeline(steps=[('scaler', StandardScaler()),\n",
       "                ('logistic', LogisticRegression())])"
      ]
     },
     "execution_count": 31,
     "metadata": {},
     "output_type": "execute_result"
    }
   ],
   "source": [
    "from sklearn.pipeline import Pipeline\n",
    "\n",
    "operations = [(\"scaler\", StandardScaler()), (\"logistic\", LogisticRegression())]\n",
    "\n",
    "pipe_model = Pipeline(steps=operations)\n",
    "\n",
    "pipe_model.fit(X_train, y_train)"
   ]
  },
  {
   "cell_type": "code",
   "execution_count": 32,
   "metadata": {
    "id": "rzqJqEg0br7p",
    "outputId": "3ae3fe37-5d4f-459e-e118-17dfe67fea61"
   },
   "outputs": [
    {
     "data": {
      "text/plain": [
       "array([[-0.94953524,  3.45991194]])"
      ]
     },
     "execution_count": 32,
     "metadata": {},
     "output_type": "execute_result"
    }
   ],
   "source": [
    "pipe_model[\"logistic\"].coef_\n",
    "\n",
    "# bu katsayılar üzerinden de yorumlama yapabilirdik ancak bu seferki yorumlarımız yaştaki veya fiziksel scordaki 1 z-scorluk\n",
    "# artış/azalış şeklinde olacaktı ve doğal olarak anlaşılması daha zor olacaktı."
   ]
  },
  {
   "cell_type": "code",
   "execution_count": 33,
   "metadata": {
    "id": "oSx10jLRbr7p",
    "outputId": "0ac55c9b-6701-4c5e-f6fd-88301391d376"
   },
   "outputs": [
    {
     "data": {
      "text/plain": [
       "array([0.48867341])"
      ]
     },
     "execution_count": 33,
     "metadata": {},
     "output_type": "execute_result"
    }
   ],
   "source": [
    "pipe_model[\"logistic\"].intercept_"
   ]
  },
  {
   "cell_type": "code",
   "execution_count": 34,
   "metadata": {
    "id": "Y9AE6QGMbr7q"
   },
   "outputs": [],
   "source": [
    "#scaler = StandardScaler()\n",
    "\n",
    "#X_train_scaled = scaler.fit_transform(X_train)\n",
    "#X_test_scaled = scaler.transform(X_test)"
   ]
  },
  {
   "cell_type": "code",
   "execution_count": 35,
   "metadata": {
    "id": "LR7FEZZvbr7q"
   },
   "outputs": [],
   "source": [
    "#log_model = LogisticRegression()\n",
    "#log_model.fit(X_train_scaled, y_train)"
   ]
  },
  {
   "cell_type": "code",
   "execution_count": 36,
   "metadata": {
    "id": "cRYeEOHpbr7r",
    "outputId": "3a38db3f-67ea-4600-8a18-673e1f08e263"
   },
   "outputs": [
    {
     "data": {
      "text/html": [
       "<div>\n",
       "<style scoped>\n",
       "    .dataframe tbody tr th:only-of-type {\n",
       "        vertical-align: middle;\n",
       "    }\n",
       "\n",
       "    .dataframe tbody tr th {\n",
       "        vertical-align: top;\n",
       "    }\n",
       "\n",
       "    .dataframe thead th {\n",
       "        text-align: right;\n",
       "    }\n",
       "</style>\n",
       "<table border=\"1\" class=\"dataframe\">\n",
       "  <thead>\n",
       "    <tr style=\"text-align: right;\">\n",
       "      <th></th>\n",
       "      <th>age</th>\n",
       "      <th>physical_score</th>\n",
       "      <th>test_result</th>\n",
       "    </tr>\n",
       "  </thead>\n",
       "  <tbody>\n",
       "    <tr>\n",
       "      <th>0</th>\n",
       "      <td>33.0</td>\n",
       "      <td>40.7</td>\n",
       "      <td>1</td>\n",
       "    </tr>\n",
       "    <tr>\n",
       "      <th>1</th>\n",
       "      <td>50.0</td>\n",
       "      <td>37.2</td>\n",
       "      <td>1</td>\n",
       "    </tr>\n",
       "    <tr>\n",
       "      <th>2</th>\n",
       "      <td>52.0</td>\n",
       "      <td>24.7</td>\n",
       "      <td>0</td>\n",
       "    </tr>\n",
       "    <tr>\n",
       "      <th>3</th>\n",
       "      <td>56.0</td>\n",
       "      <td>31.0</td>\n",
       "      <td>0</td>\n",
       "    </tr>\n",
       "    <tr>\n",
       "      <th>4</th>\n",
       "      <td>35.0</td>\n",
       "      <td>42.9</td>\n",
       "      <td>1</td>\n",
       "    </tr>\n",
       "  </tbody>\n",
       "</table>\n",
       "</div>"
      ],
      "text/plain": [
       "    age  physical_score  test_result\n",
       "0  33.0            40.7            1\n",
       "1  50.0            37.2            1\n",
       "2  52.0            24.7            0\n",
       "3  56.0            31.0            0\n",
       "4  35.0            42.9            1"
      ]
     },
     "execution_count": 36,
     "metadata": {},
     "output_type": "execute_result"
    }
   ],
   "source": [
    "df.head()"
   ]
  },
  {
   "cell_type": "code",
   "execution_count": 113,
   "metadata": {
    "id": "0Li16NJWbr7r",
    "outputId": "e348ca89-6ecb-4241-a84f-6bfaf77e84c9"
   },
   "outputs": [
    {
     "data": {
      "text/plain": [
       "array([1, 1, 0, 1, 0, 0, 1, 1, 0, 1, 1, 1, 1, 0, 1, 1, 0, 1, 1, 0, 0, 1,\n",
       "       0, 1, 1, 0, 1, 1, 0, 1, 1, 1, 1, 1, 1, 0, 1, 1, 0, 1, 1, 1, 1, 0,\n",
       "       0, 1, 1, 1, 1, 1, 1, 0, 0, 0, 1, 0, 1, 1, 1, 1, 1, 0, 1, 0, 1, 1,\n",
       "       0, 1, 1, 1, 1, 1, 1, 0, 1, 1, 1, 0, 0, 1, 1, 1, 1, 1, 0, 0, 1, 0,\n",
       "       0, 1, 1, 1, 0, 1, 0, 0, 0, 1, 1, 1, 1, 0, 0, 0, 1, 0, 1, 0, 0, 1,\n",
       "       1, 0, 0, 1, 0, 0, 0, 1, 1, 0, 1, 0, 0, 1, 1, 0, 1, 0, 1, 0, 1, 1,\n",
       "       1, 1, 0, 1, 1, 0, 0, 0, 0, 1, 0, 1, 1, 1, 0, 0, 0, 0, 1, 1, 0, 1,\n",
       "       1, 1, 0, 1, 0, 1, 1, 0, 1, 0, 1, 0, 1, 1, 0, 0, 1, 1, 0, 1, 1, 1,\n",
       "       1, 1, 0, 1, 0, 0, 1, 1, 1, 0, 1, 1, 0, 1, 1, 0, 0, 0, 1, 1, 1, 1,\n",
       "       0, 1, 1, 0, 1, 0, 1, 1, 1, 0, 1, 0, 1, 1, 0, 1, 0, 1, 1, 0, 0, 0,\n",
       "       1, 1, 0, 1, 1, 0, 0, 0, 1, 0, 0, 1, 0, 0, 1, 1, 1, 1, 1, 0, 1, 1,\n",
       "       1, 0, 0, 1, 0, 1, 1, 1, 0, 1, 1, 0, 1, 0, 1, 1, 1, 1, 1, 0, 0, 1,\n",
       "       1, 0, 1, 1, 0, 0, 1, 0, 1, 1, 1, 1, 0, 1, 1, 1, 1, 1, 1, 1, 0, 1,\n",
       "       1, 0, 0, 0, 0, 0, 1, 1, 1, 0, 1, 0, 1, 1, 1, 1, 0, 1, 0, 0, 1, 1,\n",
       "       1, 1, 1, 1, 0, 1, 1, 1, 1, 1, 0, 0, 0, 1, 0, 1, 1, 1, 0, 1, 1, 1,\n",
       "       0, 0, 0, 1, 0, 1, 1, 1, 1, 1, 0, 0, 1, 1, 1, 1, 1, 0, 1, 1, 0, 0,\n",
       "       1, 1, 1, 0, 1, 1, 0, 1, 0, 1, 0, 1, 1, 1, 1, 0, 1, 1, 1, 0, 0, 1,\n",
       "       1, 0, 1, 1, 1, 0, 1, 1, 1, 1, 0, 1, 1, 1, 1, 0, 1, 1, 1, 1, 1, 1,\n",
       "       0, 0, 1, 1, 1, 0, 0, 0, 1, 1, 0, 1, 0, 0, 1, 1, 0, 1, 1, 1, 1, 1,\n",
       "       0, 1, 1, 1, 0, 1, 1, 0, 0, 1, 0, 0, 0, 0, 1, 1, 1, 1, 1, 1, 0, 0,\n",
       "       1, 0, 1, 1, 1, 1, 1, 0, 1, 0, 1, 0, 0, 1, 1, 1, 0, 0, 1, 1, 0, 1,\n",
       "       1, 1, 1, 1, 1, 1, 0, 1, 0, 1, 1, 1, 1, 1, 1, 0, 1, 0, 1, 1, 0, 0,\n",
       "       1, 0, 1, 1, 0, 1, 0, 0, 1, 1, 1, 1, 1, 0, 0, 0], dtype=int64)"
      ]
     },
     "execution_count": 113,
     "metadata": {},
     "output_type": "execute_result"
    }
   ],
   "source": [
    "y_pred = pipe_model.predict(X_test)\n",
    "y_pred\n",
    "\n",
    "# predict test datasının hangi classlara ait olduğunu tahmin eder."
   ]
  },
  {
   "cell_type": "code",
   "execution_count": 114,
   "metadata": {
    "id": "41ljcePlbr7r",
    "outputId": "043cd086-5077-426b-e7d3-226c3fe6af0a"
   },
   "outputs": [
    {
     "data": {
      "text/plain": [
       "array([[2.38434328e-02, 9.76156567e-01],\n",
       "       [2.69240761e-02, 9.73075924e-01],\n",
       "       [9.89194168e-01, 1.08058325e-02],\n",
       "       [1.90768955e-03, 9.98092310e-01],\n",
       "       [9.75012619e-01, 2.49873806e-02],\n",
       "       [9.89652504e-01, 1.03474957e-02],\n",
       "       [7.40226674e-02, 9.25977333e-01],\n",
       "       [1.70943342e-02, 9.82905666e-01],\n",
       "       [9.97066033e-01, 2.93396692e-03],\n",
       "       [3.30521615e-02, 9.66947839e-01],\n",
       "       [8.31035903e-02, 9.16896410e-01],\n",
       "       [9.92865306e-03, 9.90071347e-01],\n",
       "       [7.08965218e-03, 9.92910348e-01],\n",
       "       [9.34236379e-01, 6.57636209e-02],\n",
       "       [1.16594927e-04, 9.99883405e-01],\n",
       "       [6.58904151e-02, 9.34109585e-01],\n",
       "       [9.89126706e-01, 1.08732938e-02],\n",
       "       [2.80051357e-03, 9.97199486e-01],\n",
       "       [5.58920624e-04, 9.99441079e-01],\n",
       "       [9.96523291e-01, 3.47670946e-03],\n",
       "       [8.81757060e-01, 1.18242940e-01],\n",
       "       [1.31030473e-01, 8.68969527e-01],\n",
       "       [5.45646751e-01, 4.54353249e-01],\n",
       "       [3.44064171e-02, 9.65593583e-01],\n",
       "       [3.98386430e-01, 6.01613570e-01],\n",
       "       [5.35437626e-01, 4.64562374e-01],\n",
       "       [3.89992054e-02, 9.61000795e-01],\n",
       "       [1.92947037e-02, 9.80705296e-01],\n",
       "       [9.12948170e-01, 8.70518303e-02],\n",
       "       [2.96787891e-04, 9.99703212e-01],\n",
       "       [4.58669888e-02, 9.54133011e-01],\n",
       "       [2.17209875e-03, 9.97827901e-01],\n",
       "       [1.77753726e-02, 9.82224627e-01],\n",
       "       [6.24150798e-03, 9.93758492e-01],\n",
       "       [4.40443721e-02, 9.55955628e-01],\n",
       "       [9.69351517e-01, 3.06484833e-02],\n",
       "       [6.57522444e-02, 9.34247756e-01],\n",
       "       [2.80712850e-02, 9.71928715e-01],\n",
       "       [9.88216425e-01, 1.17835749e-02],\n",
       "       [4.58080211e-02, 9.54191979e-01],\n",
       "       [6.24708551e-03, 9.93752914e-01],\n",
       "       [3.89217026e-01, 6.10782974e-01],\n",
       "       [3.68916971e-01, 6.31083029e-01],\n",
       "       [5.77657072e-01, 4.22342928e-01],\n",
       "       [9.99689730e-01, 3.10270210e-04],\n",
       "       [6.31385917e-02, 9.36861408e-01],\n",
       "       [6.58351145e-02, 9.34164886e-01],\n",
       "       [1.63736814e-02, 9.83626319e-01],\n",
       "       [5.60582137e-02, 9.43941786e-01],\n",
       "       [1.35624393e-01, 8.64375607e-01],\n",
       "       [1.80906316e-01, 8.19093684e-01],\n",
       "       [6.18665447e-01, 3.81334553e-01],\n",
       "       [5.89720471e-01, 4.10279529e-01],\n",
       "       [8.73012100e-01, 1.26987900e-01],\n",
       "       [4.62974157e-03, 9.95370258e-01],\n",
       "       [7.98118309e-01, 2.01881691e-01],\n",
       "       [3.73094351e-02, 9.62690565e-01],\n",
       "       [4.28310202e-03, 9.95716898e-01],\n",
       "       [1.91025841e-03, 9.98089742e-01],\n",
       "       [1.94393517e-01, 8.05606483e-01],\n",
       "       [3.02976809e-01, 6.97023191e-01],\n",
       "       [8.11179160e-01, 1.88820840e-01],\n",
       "       [7.66989976e-02, 9.23301002e-01],\n",
       "       [9.97999524e-01, 2.00047597e-03],\n",
       "       [2.26812376e-03, 9.97731876e-01],\n",
       "       [5.83970402e-02, 9.41602960e-01],\n",
       "       [9.96400556e-01, 3.59944447e-03],\n",
       "       [3.44512376e-02, 9.65548762e-01],\n",
       "       [1.30877036e-01, 8.69122964e-01],\n",
       "       [4.40443721e-02, 9.55955628e-01],\n",
       "       [5.05150750e-03, 9.94948493e-01],\n",
       "       [2.92148778e-02, 9.70785122e-01],\n",
       "       [3.30809000e-02, 9.66919100e-01],\n",
       "       [9.86583741e-01, 1.34162586e-02],\n",
       "       [1.07654969e-02, 9.89234503e-01],\n",
       "       [1.57176506e-02, 9.84282349e-01],\n",
       "       [1.68474104e-01, 8.31525896e-01],\n",
       "       [9.96382782e-01, 3.61721817e-03],\n",
       "       [9.65392767e-01, 3.46072328e-02],\n",
       "       [1.64026590e-02, 9.83597341e-01],\n",
       "       [1.36210935e-03, 9.98637891e-01],\n",
       "       [1.21883276e-02, 9.87811672e-01],\n",
       "       [1.17522686e-01, 8.82477314e-01],\n",
       "       [4.73410477e-01, 5.26589523e-01],\n",
       "       [9.85470136e-01, 1.45298643e-02],\n",
       "       [9.87191203e-01, 1.28087967e-02],\n",
       "       [1.75024379e-01, 8.24975621e-01],\n",
       "       [8.24494120e-01, 1.75505880e-01],\n",
       "       [9.91148707e-01, 8.85129287e-03],\n",
       "       [3.92348277e-03, 9.96076517e-01],\n",
       "       [3.79490149e-01, 6.20509851e-01],\n",
       "       [2.91769389e-03, 9.97082306e-01],\n",
       "       [9.99965861e-01, 3.41387033e-05],\n",
       "       [8.55830979e-04, 9.99144169e-01],\n",
       "       [8.47674108e-01, 1.52325892e-01],\n",
       "       [5.87544000e-01, 4.12456000e-01],\n",
       "       [9.60858860e-01, 3.91411398e-02],\n",
       "       [3.61493171e-03, 9.96385068e-01],\n",
       "       [8.98805096e-02, 9.10119490e-01],\n",
       "       [1.09041894e-01, 8.90958106e-01],\n",
       "       [3.05204476e-03, 9.96947955e-01],\n",
       "       [8.94064679e-01, 1.05935321e-01],\n",
       "       [9.97522039e-01, 2.47796116e-03],\n",
       "       [9.74880892e-01, 2.51191075e-02],\n",
       "       [1.87556689e-01, 8.12443311e-01],\n",
       "       [9.55796177e-01, 4.42038234e-02],\n",
       "       [3.73578910e-02, 9.62642109e-01],\n",
       "       [9.99647123e-01, 3.52876685e-04],\n",
       "       [9.95338230e-01, 4.66177048e-03],\n",
       "       [2.01235552e-02, 9.79876445e-01],\n",
       "       [1.37965852e-02, 9.86203415e-01],\n",
       "       [9.99893212e-01, 1.06787605e-04],\n",
       "       [9.76026390e-01, 2.39736101e-02],\n",
       "       [3.60330651e-01, 6.39669349e-01],\n",
       "       [9.47906266e-01, 5.20937344e-02],\n",
       "       [8.41332362e-01, 1.58667638e-01],\n",
       "       [9.98742212e-01, 1.25778815e-03],\n",
       "       [4.51412104e-01, 5.48587896e-01],\n",
       "       [1.51202826e-01, 8.48797174e-01],\n",
       "       [9.86625318e-01, 1.33746821e-02],\n",
       "       [1.50674796e-02, 9.84932520e-01],\n",
       "       [9.99887626e-01, 1.12373898e-04],\n",
       "       [9.98312205e-01, 1.68779513e-03],\n",
       "       [2.86083953e-01, 7.13916047e-01],\n",
       "       [1.70415563e-02, 9.82958444e-01],\n",
       "       [7.46763431e-01, 2.53236569e-01],\n",
       "       [2.27015871e-03, 9.97729841e-01],\n",
       "       [9.96683708e-01, 3.31629163e-03],\n",
       "       [1.51607018e-01, 8.48392982e-01],\n",
       "       [7.70165018e-01, 2.29834982e-01],\n",
       "       [1.10484619e-03, 9.98895154e-01],\n",
       "       [1.76054154e-03, 9.98239458e-01],\n",
       "       [4.57883813e-02, 9.54211619e-01],\n",
       "       [3.03261610e-01, 6.96738390e-01],\n",
       "       [9.19763138e-01, 8.02368616e-02],\n",
       "       [2.29007733e-01, 7.70992267e-01],\n",
       "       [1.61600076e-03, 9.98383999e-01],\n",
       "       [6.07957466e-01, 3.92042534e-01],\n",
       "       [7.76659879e-01, 2.23340121e-01],\n",
       "       [9.92275147e-01, 7.72485268e-03],\n",
       "       [9.99676714e-01, 3.23286453e-04],\n",
       "       [4.58276690e-02, 9.54172331e-01],\n",
       "       [7.54125008e-01, 2.45874992e-01],\n",
       "       [1.17292094e-02, 9.88270791e-01],\n",
       "       [1.36272081e-03, 9.98637279e-01],\n",
       "       [1.87488216e-01, 8.12511784e-01],\n",
       "       [9.93729401e-01, 6.27059905e-03],\n",
       "       [9.38879189e-01, 6.11208108e-02],\n",
       "       [9.99912895e-01, 8.71053253e-05],\n",
       "       [5.03991755e-01, 4.96008245e-01],\n",
       "       [4.72066236e-01, 5.27933764e-01],\n",
       "       [1.21805470e-01, 8.78194530e-01],\n",
       "       [9.76939330e-01, 2.30606703e-02],\n",
       "       [3.09377673e-04, 9.99690622e-01],\n",
       "       [1.75154200e-01, 8.24845800e-01],\n",
       "       [4.58276690e-02, 9.54172331e-01],\n",
       "       [5.35996531e-01, 4.64003469e-01],\n",
       "       [5.16646179e-02, 9.48335382e-01],\n",
       "       [9.99485769e-01, 5.14231028e-04],\n",
       "       [5.38993026e-02, 9.46100697e-01],\n",
       "       [2.80345237e-02, 9.71965476e-01],\n",
       "       [9.94729589e-01, 5.27041098e-03],\n",
       "       [8.72829908e-03, 9.91271701e-01],\n",
       "       [8.03528074e-01, 1.96471926e-01],\n",
       "       [4.40699870e-01, 5.59300130e-01],\n",
       "       [9.78804794e-01, 2.11952062e-02],\n",
       "       [1.41168696e-01, 8.58831304e-01],\n",
       "       [7.07700890e-03, 9.92922991e-01],\n",
       "       [5.67486919e-01, 4.32513081e-01],\n",
       "       [9.98171126e-01, 1.82887405e-03],\n",
       "       [1.78067860e-02, 9.82193214e-01],\n",
       "       [4.22545805e-02, 9.57745419e-01],\n",
       "       [9.77080653e-01, 2.29193469e-02],\n",
       "       [4.38555348e-02, 9.56144465e-01],\n",
       "       [1.50275146e-02, 9.84972485e-01],\n",
       "       [6.34850665e-02, 9.36514933e-01],\n",
       "       [2.47306474e-03, 9.97526935e-01],\n",
       "       [3.04699141e-02, 9.69530086e-01],\n",
       "       [9.55510483e-01, 4.44895171e-02],\n",
       "       [4.94164462e-01, 5.05835538e-01],\n",
       "       [6.48329969e-01, 3.51670031e-01],\n",
       "       [9.91964337e-01, 8.03566260e-03],\n",
       "       [1.07463693e-02, 9.89253631e-01],\n",
       "       [1.12171879e-02, 9.88782812e-01],\n",
       "       [2.35884617e-03, 9.97641154e-01],\n",
       "       [9.83543512e-01, 1.64564884e-02],\n",
       "       [3.77112243e-03, 9.96228878e-01],\n",
       "       [1.57246049e-02, 9.84275395e-01],\n",
       "       [5.98549265e-01, 4.01450735e-01],\n",
       "       [1.38701564e-02, 9.86129844e-01],\n",
       "       [1.94182462e-01, 8.05817538e-01],\n",
       "       [9.99897605e-01, 1.02395133e-04],\n",
       "       [7.98045887e-01, 2.01954113e-01],\n",
       "       [6.77776043e-01, 3.22223957e-01],\n",
       "       [1.57446875e-01, 8.42553125e-01],\n",
       "       [3.30529956e-03, 9.96694700e-01],\n",
       "       [1.01408343e-03, 9.98985917e-01],\n",
       "       [2.16820601e-03, 9.97831794e-01],\n",
       "       [6.38382621e-01, 3.61617379e-01],\n",
       "       [9.09935194e-03, 9.90900648e-01],\n",
       "       [1.46338809e-01, 8.53661191e-01],\n",
       "       [9.86096536e-01, 1.39034638e-02],\n",
       "       [2.20797623e-04, 9.99779202e-01],\n",
       "       [9.99389822e-01, 6.10178074e-04],\n",
       "       [1.21469354e-01, 8.78530646e-01],\n",
       "       [1.87488216e-01, 8.12511784e-01],\n",
       "       [2.69594217e-02, 9.73040578e-01],\n",
       "       [9.99677004e-01, 3.22996097e-04],\n",
       "       [8.00575462e-02, 9.19942454e-01],\n",
       "       [9.91238931e-01, 8.76106937e-03],\n",
       "       [6.10339228e-04, 9.99389661e-01],\n",
       "       [2.10242182e-02, 9.78975782e-01],\n",
       "       [8.47325602e-01, 1.52674398e-01],\n",
       "       [4.09365143e-01, 5.90634857e-01],\n",
       "       [5.56261410e-01, 4.43738590e-01],\n",
       "       [3.99571875e-01, 6.00428125e-01],\n",
       "       [1.21517322e-01, 8.78482678e-01],\n",
       "       [9.53670338e-01, 4.63296618e-02],\n",
       "       [8.77789554e-01, 1.22210446e-01],\n",
       "       [9.99305437e-01, 6.94563056e-04],\n",
       "       [1.57385225e-02, 9.84261477e-01],\n",
       "       [1.12621385e-02, 9.88737861e-01],\n",
       "       [9.90423126e-01, 9.57687351e-03],\n",
       "       [1.63038602e-01, 8.36961398e-01],\n",
       "       [1.07750734e-02, 9.89224927e-01],\n",
       "       [9.81407299e-01, 1.85927006e-02],\n",
       "       [7.61993640e-01, 2.38006360e-01],\n",
       "       [9.88195473e-01, 1.18045266e-02],\n",
       "       [2.93554114e-02, 9.70644589e-01],\n",
       "       [9.96952858e-01, 3.04714233e-03],\n",
       "       [9.88237340e-01, 1.17626599e-02],\n",
       "       [2.38120725e-02, 9.76187927e-01],\n",
       "       [7.84166052e-01, 2.15833948e-01],\n",
       "       [9.06035486e-01, 9.39645139e-02],\n",
       "       [1.38173500e-04, 9.99861826e-01],\n",
       "       [1.94323146e-01, 8.05676854e-01],\n",
       "       [5.36181414e-04, 9.99463819e-01],\n",
       "       [2.79978092e-02, 9.72002191e-01],\n",
       "       [7.13729033e-02, 9.28627097e-01],\n",
       "       [9.41369934e-01, 5.86300658e-02],\n",
       "       [5.98094199e-03, 9.94019058e-01],\n",
       "       [6.85235323e-02, 9.31476468e-01],\n",
       "       [1.32894815e-02, 9.86710519e-01],\n",
       "       [5.25310785e-01, 4.74689215e-01],\n",
       "       [9.98562600e-01, 1.43740038e-03],\n",
       "       [3.03356578e-01, 6.96643422e-01],\n",
       "       [9.97304237e-01, 2.69576306e-03],\n",
       "       [1.27158654e-02, 9.87284135e-01],\n",
       "       [3.45588848e-03, 9.96544112e-01],\n",
       "       [1.44822442e-02, 9.85517756e-01],\n",
       "       [9.99969836e-01, 3.01643745e-05],\n",
       "       [5.16646179e-02, 9.48335382e-01],\n",
       "       [2.37494726e-02, 9.76250527e-01],\n",
       "       [9.50091356e-01, 4.99086439e-02],\n",
       "       [4.64426155e-03, 9.95355738e-01],\n",
       "       [9.96386020e-01, 3.61398010e-03],\n",
       "       [2.57773444e-03, 9.97422266e-01],\n",
       "       [2.68354277e-01, 7.31645723e-01],\n",
       "       [1.75089280e-01, 8.24910720e-01],\n",
       "       [2.38016280e-02, 9.76198372e-01],\n",
       "       [5.27651203e-03, 9.94723488e-01],\n",
       "       [8.41452313e-01, 1.58547687e-01],\n",
       "       [9.99360796e-01, 6.39203607e-04],\n",
       "       [1.51722664e-01, 8.48277336e-01],\n",
       "       [1.44566094e-02, 9.85543391e-01],\n",
       "       [9.96801121e-01, 3.19887864e-03],\n",
       "       [2.38225215e-02, 9.76177479e-01],\n",
       "       [3.31325168e-01, 6.68674832e-01],\n",
       "       [9.90837983e-01, 9.16201735e-03],\n",
       "       [9.94452902e-01, 5.54709840e-03],\n",
       "       [3.43616528e-02, 9.65638347e-01],\n",
       "       [9.90038548e-01, 9.96145154e-03],\n",
       "       [8.63255322e-02, 9.13674468e-01],\n",
       "       [1.17240011e-02, 9.88275999e-01],\n",
       "       [6.56143432e-02, 9.34385657e-01],\n",
       "       [6.30323394e-02, 9.36967661e-01],\n",
       "       [9.28435866e-01, 7.15641339e-02],\n",
       "       [1.84911882e-02, 9.81508812e-01],\n",
       "       [5.74401008e-03, 9.94255990e-01],\n",
       "       [2.28348383e-02, 9.77165162e-01],\n",
       "       [1.17396329e-02, 9.88260367e-01],\n",
       "       [2.92021344e-02, 9.70797866e-01],\n",
       "       [5.60819997e-02, 9.43918000e-01],\n",
       "       [1.22262619e-02, 9.87773738e-01],\n",
       "       [9.97305445e-01, 2.69455507e-03],\n",
       "       [3.79913551e-01, 6.20086449e-01],\n",
       "       [2.37807525e-02, 9.76219248e-01],\n",
       "       [9.93977738e-01, 6.02226205e-03],\n",
       "       [9.99564880e-01, 4.35120206e-04],\n",
       "       [9.99770413e-01, 2.29587471e-04],\n",
       "       [9.47928453e-01, 5.20715467e-02],\n",
       "       [7.21026823e-01, 2.78973177e-01],\n",
       "       [8.02702642e-03, 9.91972974e-01],\n",
       "       [1.36333254e-03, 9.98636667e-01],\n",
       "       [1.63038602e-01, 8.36961398e-01],\n",
       "       [5.67155967e-01, 4.32844033e-01],\n",
       "       [2.68441479e-03, 9.97315585e-01],\n",
       "       [9.95501052e-01, 4.49894823e-03],\n",
       "       [6.50753770e-03, 9.93492462e-01],\n",
       "       [4.26970634e-03, 9.95730294e-01],\n",
       "       [1.41059757e-01, 8.58940243e-01],\n",
       "       [1.21469354e-01, 8.78530646e-01],\n",
       "       [5.04553485e-01, 4.95446515e-01],\n",
       "       [1.40842088e-01, 8.59157912e-01],\n",
       "       [9.25748684e-01, 7.42513163e-02],\n",
       "       [9.99674528e-01, 3.25472460e-04],\n",
       "       [3.12017112e-01, 6.87982888e-01],\n",
       "       [2.56735591e-03, 9.97432644e-01],\n",
       "       [9.50293373e-03, 9.90497066e-01],\n",
       "       [1.17240011e-02, 9.88275999e-01],\n",
       "       [2.18871864e-02, 9.78112814e-01],\n",
       "       [1.93620498e-01, 8.06379502e-01],\n",
       "       [9.99544792e-01, 4.55208348e-04],\n",
       "       [5.26237785e-03, 9.94737622e-01],\n",
       "       [2.77582080e-01, 7.22417920e-01],\n",
       "       [1.12122044e-02, 9.88787796e-01],\n",
       "       [1.21565306e-01, 8.78434694e-01],\n",
       "       [2.01324190e-02, 9.79867581e-01],\n",
       "       [6.84653443e-01, 3.15346557e-01],\n",
       "       [9.99912777e-01, 8.72228341e-05],\n",
       "       [9.99480662e-01, 5.19337882e-04],\n",
       "       [9.36431525e-02, 9.06356847e-01],\n",
       "       [9.97994133e-01, 2.00586670e-03],\n",
       "       [3.59398893e-01, 6.40601107e-01],\n",
       "       [3.80231222e-01, 6.19768778e-01],\n",
       "       [8.97335652e-02, 9.10266435e-01],\n",
       "       [7.22200490e-01, 2.77799510e-01],\n",
       "       [1.63447540e-02, 9.83655246e-01],\n",
       "       [2.67240981e-03, 9.97327590e-01],\n",
       "       [1.51722664e-01, 8.48277336e-01],\n",
       "       [9.45815534e-01, 5.41844663e-02],\n",
       "       [9.66479117e-01, 3.35208832e-02],\n",
       "       [9.93180522e-01, 6.81947820e-03],\n",
       "       [7.39303069e-02, 9.26069693e-01],\n",
       "       [9.97919485e-01, 2.08051509e-03],\n",
       "       [5.59869128e-02, 9.44013087e-01],\n",
       "       [4.09256485e-01, 5.90743515e-01],\n",
       "       [2.57886109e-02, 9.74211389e-01],\n",
       "       [1.80706619e-01, 8.19293381e-01],\n",
       "       [6.30323394e-02, 9.36967661e-01],\n",
       "       [9.99909117e-01, 9.08827972e-05],\n",
       "       [9.99066547e-01, 9.33453396e-04],\n",
       "       [2.28348383e-02, 9.77165162e-01],\n",
       "       [2.52352689e-01, 7.47647311e-01],\n",
       "       [8.01272498e-03, 9.91987275e-01],\n",
       "       [1.27045862e-02, 9.87295414e-01],\n",
       "       [3.89318877e-02, 9.61068112e-01],\n",
       "       [9.93444602e-01, 6.55539798e-03],\n",
       "       [4.85121496e-03, 9.95148785e-01],\n",
       "       [4.41011744e-02, 9.55898826e-01],\n",
       "       [6.76400399e-01, 3.23599601e-01],\n",
       "       [9.82857180e-01, 1.71428200e-02],\n",
       "       [9.28682621e-04, 9.99071317e-01],\n",
       "       [3.44661903e-02, 9.65533810e-01],\n",
       "       [1.17344200e-02, 9.88265580e-01],\n",
       "       [9.99981048e-01, 1.89517921e-05],\n",
       "       [2.56620532e-03, 9.97433795e-01],\n",
       "       [4.30593428e-01, 5.69406572e-01],\n",
       "       [9.99892972e-01, 1.07027810e-04],\n",
       "       [7.40843001e-02, 9.25915700e-01],\n",
       "       [9.99169928e-01, 8.30071811e-04],\n",
       "       [3.44362912e-02, 9.65563709e-01],\n",
       "       [8.77209840e-01, 1.22790160e-01],\n",
       "       [2.94646574e-01, 7.05353426e-01],\n",
       "       [6.34794303e-04, 9.99365206e-01],\n",
       "       [5.51148322e-03, 9.94488517e-01],\n",
       "       [3.76268976e-03, 9.96237310e-01],\n",
       "       [7.13235218e-01, 2.86764782e-01],\n",
       "       [5.39910467e-02, 9.46008953e-01],\n",
       "       [8.70499951e-03, 9.91295000e-01],\n",
       "       [2.86543118e-01, 7.13456882e-01],\n",
       "       [9.84216775e-01, 1.57832245e-02],\n",
       "       [9.96812565e-01, 3.18743484e-03],\n",
       "       [2.76951670e-01, 7.23048330e-01],\n",
       "       [6.83516200e-02, 9.31648380e-01],\n",
       "       [9.85444373e-01, 1.45556272e-02],\n",
       "       [1.50608115e-02, 9.84939188e-01],\n",
       "       [1.38640107e-02, 9.86135989e-01],\n",
       "       [2.44426913e-01, 7.55573087e-01],\n",
       "       [9.99905176e-01, 9.48240701e-05],\n",
       "       [4.93265771e-01, 5.06734229e-01],\n",
       "       [9.72407644e-04, 9.99027592e-01],\n",
       "       [4.51078247e-01, 5.48921753e-01],\n",
       "       [3.59228978e-02, 9.64077102e-01],\n",
       "       [9.99872421e-01, 1.27579095e-04],\n",
       "       [1.92777030e-02, 9.80722297e-01],\n",
       "       [2.69149168e-01, 7.30850832e-01],\n",
       "       [1.85401913e-02, 9.81459809e-01],\n",
       "       [4.76387719e-02, 9.52361228e-01],\n",
       "       [9.85521527e-01, 1.44784734e-02],\n",
       "       [4.58669888e-02, 9.54133011e-01],\n",
       "       [3.16804514e-02, 9.68319549e-01],\n",
       "       [1.46002273e-01, 8.53997727e-01],\n",
       "       [1.15270886e-03, 9.98847291e-01],\n",
       "       [3.04566404e-02, 9.69543360e-01],\n",
       "       [1.01021328e-01, 8.98978672e-01],\n",
       "       [9.16194733e-01, 8.38052671e-02],\n",
       "       [9.09588248e-01, 9.04117520e-02],\n",
       "       [3.18827450e-03, 9.96811725e-01],\n",
       "       [1.69814348e-02, 9.83018565e-01],\n",
       "       [5.04699197e-03, 9.94953008e-01],\n",
       "       [7.98118309e-01, 2.01881691e-01],\n",
       "       [9.72917555e-01, 2.70824454e-02],\n",
       "       [9.81333351e-01, 1.86666491e-02],\n",
       "       [5.59674275e-04, 9.99440326e-01],\n",
       "       [4.39309768e-02, 9.56069023e-01],\n",
       "       [9.33598454e-01, 6.64015458e-02],\n",
       "       [7.09866431e-02, 9.29013357e-01],\n",
       "       [9.30917525e-01, 6.90824753e-02],\n",
       "       [9.99926499e-01, 7.35014895e-05],\n",
       "       [1.63881639e-02, 9.83611836e-01],\n",
       "       [1.17292094e-02, 9.88270791e-01],\n",
       "       [8.86565146e-01, 1.13434854e-01],\n",
       "       [3.51115679e-01, 6.48884321e-01],\n",
       "       [6.84948525e-02, 9.31505148e-01],\n",
       "       [2.29563660e-01, 7.70436340e-01],\n",
       "       [3.58141058e-02, 9.64185894e-01],\n",
       "       [2.28147909e-02, 9.77185209e-01],\n",
       "       [9.19597149e-01, 8.04028505e-02],\n",
       "       [5.59869128e-02, 9.44013087e-01],\n",
       "       [1.17336376e-01, 8.82663624e-01],\n",
       "       [4.58080211e-02, 9.54191979e-01],\n",
       "       [9.97727385e-01, 2.27261534e-03],\n",
       "       [1.40950887e-01, 8.59049113e-01],\n",
       "       [3.83204593e-04, 9.99616795e-01],\n",
       "       [9.99580705e-01, 4.19294977e-04],\n",
       "       [9.99748268e-01, 2.51732142e-04],\n",
       "       [2.92531403e-02, 9.70746860e-01],\n",
       "       [9.99872936e-01, 1.27064177e-04],\n",
       "       [9.99211872e-01, 7.88127556e-04],\n",
       "       [5.26207233e-01, 4.73792767e-01],\n",
       "       [9.94904455e-01, 5.09554462e-03],\n",
       "       [2.86175751e-01, 7.13824249e-01],\n",
       "       [1.40679021e-01, 8.59320979e-01],\n",
       "       [3.31716512e-03, 9.96682835e-01],\n",
       "       [3.58451568e-02, 9.64154843e-01],\n",
       "       [7.39610820e-02, 9.26038918e-01],\n",
       "       [1.15270886e-03, 9.98847291e-01],\n",
       "       [9.98299283e-01, 1.70071741e-03],\n",
       "       [6.76990336e-01, 3.23009664e-01],\n",
       "       [1.68672621e-03, 9.98313274e-01],\n",
       "       [9.95152229e-01, 4.84777089e-03],\n",
       "       [2.84892191e-01, 7.15107809e-01],\n",
       "       [5.72863082e-03, 9.94271369e-01],\n",
       "       [3.75763918e-03, 9.96242361e-01],\n",
       "       [3.04964782e-02, 9.69503522e-01],\n",
       "       [1.87009450e-01, 8.12990550e-01],\n",
       "       [9.99888029e-01, 1.11970647e-04],\n",
       "       [3.93051449e-03, 9.96069486e-01],\n",
       "       [9.96947392e-01, 3.05260827e-03],\n",
       "       [3.04566404e-02, 9.69543360e-01],\n",
       "       [8.90852748e-01, 1.09147252e-01],\n",
       "       [7.04286393e-01, 2.95713607e-01],\n",
       "       [4.27735590e-03, 9.95722644e-01],\n",
       "       [1.57037512e-02, 9.84296249e-01],\n",
       "       [2.44343923e-01, 7.55656077e-01],\n",
       "       [9.97820670e-01, 2.17933050e-03],\n",
       "       [9.97908258e-01, 2.09174209e-03],\n",
       "       [7.70966860e-03, 9.92290331e-01],\n",
       "       [1.85565540e-02, 9.81443446e-01],\n",
       "       [9.99023474e-01, 9.76525550e-04],\n",
       "       [3.91997162e-03, 9.96080028e-01],\n",
       "       [2.47974405e-02, 9.75202560e-01],\n",
       "       [4.72066236e-01, 5.27933764e-01],\n",
       "       [3.58762338e-02, 9.64123766e-01],\n",
       "       [9.08720341e-03, 9.90912797e-01],\n",
       "       [1.27497622e-02, 9.87250238e-01],\n",
       "       [1.27328027e-02, 9.87267197e-01],\n",
       "       [9.80513777e-01, 1.94862227e-02],\n",
       "       [6.51044391e-03, 9.93489556e-01],\n",
       "       [7.20574604e-01, 2.79425396e-01],\n",
       "       [1.30877036e-01, 8.69122964e-01],\n",
       "       [1.17344200e-02, 9.88265580e-01],\n",
       "       [1.93543222e-02, 9.80645678e-01],\n",
       "       [1.12785106e-01, 8.87214894e-01],\n",
       "       [6.77272553e-03, 9.93227274e-01],\n",
       "       [4.08928814e-03, 9.95910712e-01],\n",
       "       [9.70498098e-01, 2.95019021e-02],\n",
       "       [7.53896333e-04, 9.99246104e-01],\n",
       "       [9.55720163e-01, 4.42798369e-02],\n",
       "       [1.17522686e-01, 8.82477314e-01],\n",
       "       [8.76726912e-03, 9.91232731e-01],\n",
       "       [7.20845989e-01, 2.79154011e-01],\n",
       "       [8.47848116e-01, 1.52151884e-01],\n",
       "       [1.93628539e-02, 9.80637146e-01],\n",
       "       [9.99788719e-01, 2.11280597e-04],\n",
       "       [2.68770188e-02, 9.73122981e-01],\n",
       "       [2.10149702e-02, 9.78985030e-01],\n",
       "       [9.98515084e-01, 1.48491558e-03],\n",
       "       [1.81239526e-01, 8.18760474e-01],\n",
       "       [9.38879189e-01, 6.11208108e-02],\n",
       "       [7.76425926e-01, 2.23574074e-01],\n",
       "       [5.16426030e-02, 9.48357397e-01],\n",
       "       [1.83593337e-03, 9.98164067e-01],\n",
       "       [7.38826658e-03, 9.92611733e-01],\n",
       "       [4.40065427e-02, 9.55993457e-01],\n",
       "       [1.86804552e-01, 8.13195448e-01],\n",
       "       [9.80608008e-01, 1.93919921e-02],\n",
       "       [9.94715433e-01, 5.28456663e-03],\n",
       "       [9.31493331e-01, 6.85066687e-02]])"
      ]
     },
     "execution_count": 114,
     "metadata": {},
     "output_type": "execute_result"
    }
   ],
   "source": [
    "y_pred_proba = pipe_model.predict_proba(X_test)\n",
    "y_pred_proba\n",
    "\n",
    "# predict_proba test datasındaki gözlemlerin hangi olasılıkla hangi sınıfa atandığını gösterir. İlk değer 0 sınıfına ait olma\n",
    "# olasılığı iken ikinci değer 1 sınıfına ait olma olasılığını gösterir. Hangi değer büyükse o sınıfa atanır. "
   ]
  },
  {
   "cell_type": "markdown",
   "metadata": {
    "id": "mfqsS59_br7r"
   },
   "source": [
    "## X_test + y_yest + y_pred + y_pred_proba"
   ]
  },
  {
   "cell_type": "code",
   "execution_count": 115,
   "metadata": {
    "id": "90TUx7k_br7s",
    "outputId": "88b08f0c-8a71-4c35-b24b-d98777796e61"
   },
   "outputs": [
    {
     "data": {
      "text/html": [
       "<div>\n",
       "<style scoped>\n",
       "    .dataframe tbody tr th:only-of-type {\n",
       "        vertical-align: middle;\n",
       "    }\n",
       "\n",
       "    .dataframe tbody tr th {\n",
       "        vertical-align: top;\n",
       "    }\n",
       "\n",
       "    .dataframe thead th {\n",
       "        text-align: right;\n",
       "    }\n",
       "</style>\n",
       "<table border=\"1\" class=\"dataframe\">\n",
       "  <thead>\n",
       "    <tr style=\"text-align: right;\">\n",
       "      <th></th>\n",
       "      <th>age</th>\n",
       "      <th>physical_score</th>\n",
       "      <th>test_result</th>\n",
       "    </tr>\n",
       "  </thead>\n",
       "  <tbody>\n",
       "    <tr>\n",
       "      <th>1718</th>\n",
       "      <td>39.0</td>\n",
       "      <td>37.8</td>\n",
       "      <td>1</td>\n",
       "    </tr>\n",
       "    <tr>\n",
       "      <th>2511</th>\n",
       "      <td>45.0</td>\n",
       "      <td>38.7</td>\n",
       "      <td>1</td>\n",
       "    </tr>\n",
       "    <tr>\n",
       "      <th>345</th>\n",
       "      <td>56.0</td>\n",
       "      <td>21.8</td>\n",
       "      <td>0</td>\n",
       "    </tr>\n",
       "    <tr>\n",
       "      <th>2521</th>\n",
       "      <td>40.0</td>\n",
       "      <td>44.0</td>\n",
       "      <td>1</td>\n",
       "    </tr>\n",
       "    <tr>\n",
       "      <th>54</th>\n",
       "      <td>64.0</td>\n",
       "      <td>25.4</td>\n",
       "      <td>0</td>\n",
       "    </tr>\n",
       "    <tr>\n",
       "      <th>...</th>\n",
       "      <td>...</td>\n",
       "      <td>...</td>\n",
       "      <td>...</td>\n",
       "    </tr>\n",
       "    <tr>\n",
       "      <th>4770</th>\n",
       "      <td>46.0</td>\n",
       "      <td>37.7</td>\n",
       "      <td>1</td>\n",
       "    </tr>\n",
       "    <tr>\n",
       "      <th>188</th>\n",
       "      <td>59.0</td>\n",
       "      <td>36.5</td>\n",
       "      <td>1</td>\n",
       "    </tr>\n",
       "    <tr>\n",
       "      <th>3335</th>\n",
       "      <td>54.0</td>\n",
       "      <td>22.8</td>\n",
       "      <td>0</td>\n",
       "    </tr>\n",
       "    <tr>\n",
       "      <th>4583</th>\n",
       "      <td>58.0</td>\n",
       "      <td>20.5</td>\n",
       "      <td>0</td>\n",
       "    </tr>\n",
       "    <tr>\n",
       "      <th>3208</th>\n",
       "      <td>48.0</td>\n",
       "      <td>24.7</td>\n",
       "      <td>0</td>\n",
       "    </tr>\n",
       "  </tbody>\n",
       "</table>\n",
       "<p>500 rows × 3 columns</p>\n",
       "</div>"
      ],
      "text/plain": [
       "       age  physical_score  test_result\n",
       "1718  39.0            37.8            1\n",
       "2511  45.0            38.7            1\n",
       "345   56.0            21.8            0\n",
       "2521  40.0            44.0            1\n",
       "54    64.0            25.4            0\n",
       "...    ...             ...          ...\n",
       "4770  46.0            37.7            1\n",
       "188   59.0            36.5            1\n",
       "3335  54.0            22.8            0\n",
       "4583  58.0            20.5            0\n",
       "3208  48.0            24.7            0\n",
       "\n",
       "[500 rows x 3 columns]"
      ]
     },
     "execution_count": 115,
     "metadata": {},
     "output_type": "execute_result"
    }
   ],
   "source": [
    "test_data = pd.concat([X_test, y_test], axis=1)\n",
    "test_data\n",
    "\n",
    "# Öncelikle X_test ve y_test concate ederek test_data df'ini elde ediyoruz."
   ]
  },
  {
   "cell_type": "code",
   "execution_count": 116,
   "metadata": {
    "id": "vx17HY0_br7s",
    "outputId": "05b5b345-f554-4bc6-b000-fab59f5ecbd2"
   },
   "outputs": [
    {
     "data": {
      "text/html": [
       "<div>\n",
       "<style scoped>\n",
       "    .dataframe tbody tr th:only-of-type {\n",
       "        vertical-align: middle;\n",
       "    }\n",
       "\n",
       "    .dataframe tbody tr th {\n",
       "        vertical-align: top;\n",
       "    }\n",
       "\n",
       "    .dataframe thead th {\n",
       "        text-align: right;\n",
       "    }\n",
       "</style>\n",
       "<table border=\"1\" class=\"dataframe\">\n",
       "  <thead>\n",
       "    <tr style=\"text-align: right;\">\n",
       "      <th></th>\n",
       "      <th>age</th>\n",
       "      <th>physical_score</th>\n",
       "      <th>test_result</th>\n",
       "      <th>pred_proba</th>\n",
       "    </tr>\n",
       "  </thead>\n",
       "  <tbody>\n",
       "    <tr>\n",
       "      <th>1718</th>\n",
       "      <td>39.0</td>\n",
       "      <td>37.8</td>\n",
       "      <td>1</td>\n",
       "      <td>0.976157</td>\n",
       "    </tr>\n",
       "    <tr>\n",
       "      <th>2511</th>\n",
       "      <td>45.0</td>\n",
       "      <td>38.7</td>\n",
       "      <td>1</td>\n",
       "      <td>0.973076</td>\n",
       "    </tr>\n",
       "    <tr>\n",
       "      <th>345</th>\n",
       "      <td>56.0</td>\n",
       "      <td>21.8</td>\n",
       "      <td>0</td>\n",
       "      <td>0.010806</td>\n",
       "    </tr>\n",
       "    <tr>\n",
       "      <th>2521</th>\n",
       "      <td>40.0</td>\n",
       "      <td>44.0</td>\n",
       "      <td>1</td>\n",
       "      <td>0.998092</td>\n",
       "    </tr>\n",
       "    <tr>\n",
       "      <th>54</th>\n",
       "      <td>64.0</td>\n",
       "      <td>25.4</td>\n",
       "      <td>0</td>\n",
       "      <td>0.024987</td>\n",
       "    </tr>\n",
       "    <tr>\n",
       "      <th>...</th>\n",
       "      <td>...</td>\n",
       "      <td>...</td>\n",
       "      <td>...</td>\n",
       "      <td>...</td>\n",
       "    </tr>\n",
       "    <tr>\n",
       "      <th>4770</th>\n",
       "      <td>46.0</td>\n",
       "      <td>37.7</td>\n",
       "      <td>1</td>\n",
       "      <td>0.955993</td>\n",
       "    </tr>\n",
       "    <tr>\n",
       "      <th>188</th>\n",
       "      <td>59.0</td>\n",
       "      <td>36.5</td>\n",
       "      <td>1</td>\n",
       "      <td>0.813195</td>\n",
       "    </tr>\n",
       "    <tr>\n",
       "      <th>3335</th>\n",
       "      <td>54.0</td>\n",
       "      <td>22.8</td>\n",
       "      <td>0</td>\n",
       "      <td>0.019392</td>\n",
       "    </tr>\n",
       "    <tr>\n",
       "      <th>4583</th>\n",
       "      <td>58.0</td>\n",
       "      <td>20.5</td>\n",
       "      <td>0</td>\n",
       "      <td>0.005285</td>\n",
       "    </tr>\n",
       "    <tr>\n",
       "      <th>3208</th>\n",
       "      <td>48.0</td>\n",
       "      <td>24.7</td>\n",
       "      <td>0</td>\n",
       "      <td>0.068507</td>\n",
       "    </tr>\n",
       "  </tbody>\n",
       "</table>\n",
       "<p>500 rows × 4 columns</p>\n",
       "</div>"
      ],
      "text/plain": [
       "       age  physical_score  test_result  pred_proba\n",
       "1718  39.0            37.8            1    0.976157\n",
       "2511  45.0            38.7            1    0.973076\n",
       "345   56.0            21.8            0    0.010806\n",
       "2521  40.0            44.0            1    0.998092\n",
       "54    64.0            25.4            0    0.024987\n",
       "...    ...             ...          ...         ...\n",
       "4770  46.0            37.7            1    0.955993\n",
       "188   59.0            36.5            1    0.813195\n",
       "3335  54.0            22.8            0    0.019392\n",
       "4583  58.0            20.5            0    0.005285\n",
       "3208  48.0            24.7            0    0.068507\n",
       "\n",
       "[500 rows x 4 columns]"
      ]
     },
     "execution_count": 116,
     "metadata": {},
     "output_type": "execute_result"
    }
   ],
   "source": [
    "test_data[\"pred_proba\"] = y_pred_proba[:,1]\n",
    "test_data\n",
    "\n",
    "# Ve test_data df'ine 1 sınıfına ait olma olasılıklarını gösteren pred_proba sütununu/featurenı ilave ediyoruz."
   ]
  },
  {
   "cell_type": "code",
   "execution_count": 117,
   "metadata": {
    "id": "yZPfdhcvbr7t",
    "outputId": "d3714d87-c6dc-41eb-8052-eac210b3f8c6"
   },
   "outputs": [
    {
     "data": {
      "text/html": [
       "<div>\n",
       "<style scoped>\n",
       "    .dataframe tbody tr th:only-of-type {\n",
       "        vertical-align: middle;\n",
       "    }\n",
       "\n",
       "    .dataframe tbody tr th {\n",
       "        vertical-align: top;\n",
       "    }\n",
       "\n",
       "    .dataframe thead th {\n",
       "        text-align: right;\n",
       "    }\n",
       "</style>\n",
       "<table border=\"1\" class=\"dataframe\">\n",
       "  <thead>\n",
       "    <tr style=\"text-align: right;\">\n",
       "      <th></th>\n",
       "      <th>age</th>\n",
       "      <th>physical_score</th>\n",
       "      <th>test_result</th>\n",
       "      <th>pred_proba</th>\n",
       "      <th>pred</th>\n",
       "    </tr>\n",
       "  </thead>\n",
       "  <tbody>\n",
       "    <tr>\n",
       "      <th>1718</th>\n",
       "      <td>39.0</td>\n",
       "      <td>37.8</td>\n",
       "      <td>1</td>\n",
       "      <td>0.976157</td>\n",
       "      <td>1</td>\n",
       "    </tr>\n",
       "    <tr>\n",
       "      <th>2511</th>\n",
       "      <td>45.0</td>\n",
       "      <td>38.7</td>\n",
       "      <td>1</td>\n",
       "      <td>0.973076</td>\n",
       "      <td>1</td>\n",
       "    </tr>\n",
       "    <tr>\n",
       "      <th>345</th>\n",
       "      <td>56.0</td>\n",
       "      <td>21.8</td>\n",
       "      <td>0</td>\n",
       "      <td>0.010806</td>\n",
       "      <td>0</td>\n",
       "    </tr>\n",
       "    <tr>\n",
       "      <th>2521</th>\n",
       "      <td>40.0</td>\n",
       "      <td>44.0</td>\n",
       "      <td>1</td>\n",
       "      <td>0.998092</td>\n",
       "      <td>1</td>\n",
       "    </tr>\n",
       "    <tr>\n",
       "      <th>54</th>\n",
       "      <td>64.0</td>\n",
       "      <td>25.4</td>\n",
       "      <td>0</td>\n",
       "      <td>0.024987</td>\n",
       "      <td>0</td>\n",
       "    </tr>\n",
       "    <tr>\n",
       "      <th>...</th>\n",
       "      <td>...</td>\n",
       "      <td>...</td>\n",
       "      <td>...</td>\n",
       "      <td>...</td>\n",
       "      <td>...</td>\n",
       "    </tr>\n",
       "    <tr>\n",
       "      <th>4770</th>\n",
       "      <td>46.0</td>\n",
       "      <td>37.7</td>\n",
       "      <td>1</td>\n",
       "      <td>0.955993</td>\n",
       "      <td>1</td>\n",
       "    </tr>\n",
       "    <tr>\n",
       "      <th>188</th>\n",
       "      <td>59.0</td>\n",
       "      <td>36.5</td>\n",
       "      <td>1</td>\n",
       "      <td>0.813195</td>\n",
       "      <td>1</td>\n",
       "    </tr>\n",
       "    <tr>\n",
       "      <th>3335</th>\n",
       "      <td>54.0</td>\n",
       "      <td>22.8</td>\n",
       "      <td>0</td>\n",
       "      <td>0.019392</td>\n",
       "      <td>0</td>\n",
       "    </tr>\n",
       "    <tr>\n",
       "      <th>4583</th>\n",
       "      <td>58.0</td>\n",
       "      <td>20.5</td>\n",
       "      <td>0</td>\n",
       "      <td>0.005285</td>\n",
       "      <td>0</td>\n",
       "    </tr>\n",
       "    <tr>\n",
       "      <th>3208</th>\n",
       "      <td>48.0</td>\n",
       "      <td>24.7</td>\n",
       "      <td>0</td>\n",
       "      <td>0.068507</td>\n",
       "      <td>0</td>\n",
       "    </tr>\n",
       "  </tbody>\n",
       "</table>\n",
       "<p>500 rows × 5 columns</p>\n",
       "</div>"
      ],
      "text/plain": [
       "       age  physical_score  test_result  pred_proba  pred\n",
       "1718  39.0            37.8            1    0.976157     1\n",
       "2511  45.0            38.7            1    0.973076     1\n",
       "345   56.0            21.8            0    0.010806     0\n",
       "2521  40.0            44.0            1    0.998092     1\n",
       "54    64.0            25.4            0    0.024987     0\n",
       "...    ...             ...          ...         ...   ...\n",
       "4770  46.0            37.7            1    0.955993     1\n",
       "188   59.0            36.5            1    0.813195     1\n",
       "3335  54.0            22.8            0    0.019392     0\n",
       "4583  58.0            20.5            0    0.005285     0\n",
       "3208  48.0            24.7            0    0.068507     0\n",
       "\n",
       "[500 rows x 5 columns]"
      ]
     },
     "execution_count": 117,
     "metadata": {},
     "output_type": "execute_result"
    }
   ],
   "source": [
    "test_data[\"pred\"] = y_pred\n",
    "test_data\n",
    "\n",
    "#Model predict işlemini yaparken arka planda 0.5 ve 0.5'den büyük olan olasılıkları 1 classına, 0.5'den küçük olan olasılıkları \n",
    "#ise 0 classına atıyor. Modelin yaptığı predictionları pred feature olarak test_data df'ine ilave ediyoruz."
   ]
  },
  {
   "cell_type": "markdown",
   "metadata": {
    "id": "ewwnjizrbr7t"
   },
   "source": [
    "## Model Performance on Classification Tasks"
   ]
  },
  {
   "cell_type": "code",
   "execution_count": 118,
   "metadata": {
    "id": "5Da__JXIbr76"
   },
   "outputs": [],
   "source": [
    "from sklearn.metrics import precision_score, recall_score, accuracy_score, f1_score\n",
    "\n",
    "# skleran. metrics familyasından precision_score, recall_score, accuracy_score, f1_score metriclerimizi import ediyoruz"
   ]
  },
  {
   "cell_type": "code",
   "execution_count": 119,
   "metadata": {
    "id": "rH2vhCsLbr77",
    "outputId": "525c7f28-e13e-4394-b2ae-7482fc7d95d6"
   },
   "outputs": [
    {
     "data": {
      "text/plain": [
       "0.93"
      ]
     },
     "execution_count": 119,
     "metadata": {},
     "output_type": "execute_result"
    }
   ],
   "source": [
    "accuracy_score(y_test,y_pred)\n",
    "\n",
    "# Bu metric datamda gerçek değerlerin ne kadarını doğru bildiğimi gösteriyor"
   ]
  },
  {
   "cell_type": "code",
   "execution_count": 120,
   "metadata": {
    "id": "m1MEImIHbr77",
    "outputId": "6fe2dc4f-0413-49e9-e61b-b09911999a45"
   },
   "outputs": [
    {
     "data": {
      "text/plain": [
       "0.93"
      ]
     },
     "execution_count": 120,
     "metadata": {},
     "output_type": "execute_result"
    }
   ],
   "source": [
    "pipe_model.score(X_test, y_test)\n",
    "\n",
    "# score fonksiyonu içine X_test, y_test verdiğimizde accuracy scoru döndürür."
   ]
  },
  {
   "cell_type": "code",
   "execution_count": 121,
   "metadata": {
    "id": "1UVYao7zbr77",
    "outputId": "a150f70c-4a3f-4d2a-d7d7-77eab1e4f20f"
   },
   "outputs": [
    {
     "data": {
      "text/plain": [
       "0.9331210191082803"
      ]
     },
     "execution_count": 121,
     "metadata": {},
     "output_type": "execute_result"
    }
   ],
   "source": [
    "precision_score(y_test, y_pred, pos_label=1)\n",
    "\n",
    "# default olarak 1 clasının precision_scorunu döndürür. 1 clasını doğru tahmin etmek için yapılan tahminlerden ne kadarının\n",
    "# isabetli olduğunu gösterir. precision 0.1 demek model yaptığı tahminlerin %10'ununu tutturdu anlamına gelir.\n",
    "\n",
    "# 0 clasına ait score için pos_label=0 olarak düzenlenmelidir."
   ]
  },
  {
   "cell_type": "code",
   "execution_count": 122,
   "metadata": {
    "id": "V5PitcY8br78",
    "outputId": "c4155ed7-4e65-461b-a230-939a7755249b"
   },
   "outputs": [
    {
     "data": {
      "text/plain": [
       "0.9543973941368078"
      ]
     },
     "execution_count": 122,
     "metadata": {},
     "output_type": "execute_result"
    }
   ],
   "source": [
    "recall_score(y_test, y_pred,  pos_label=1)\n",
    "\n",
    "# default olarak 1 clasının recall_scorunu döndürür. Modelin 1 classından ne kadarını doğru tespit edebildiğini gösterir.\n",
    "# recall 0.1 demek model 1 clasının sadece %10'nunu tespit edebilmiş anlamına geliyor.\n",
    "\n",
    "# 0 clasına ait score için pos_label=0 olarak düzenlenmelidir."
   ]
  },
  {
   "cell_type": "code",
   "execution_count": 123,
   "metadata": {
    "id": "dzLGaf0fbr78",
    "outputId": "eefecea0-a79f-408d-8b9f-59dc0aad70de"
   },
   "outputs": [
    {
     "data": {
      "text/plain": [
       "0.9436392914653785"
      ]
     },
     "execution_count": 123,
     "metadata": {},
     "output_type": "execute_result"
    }
   ],
   "source": [
    "f1_score(y_test,y_pred)\n",
    "\n",
    "# precision ve recall scorlarının harmonic ortalamasını döndürür. Precision ve recall scorları arasında her zaman bir trade-off\n",
    "# vardır. precision artarsa/azalırsa recall azalır/artar."
   ]
  },
  {
   "cell_type": "code",
   "execution_count": 124,
   "metadata": {
    "id": "kV6PBn94br79"
   },
   "outputs": [],
   "source": [
    "from sklearn.metrics import confusion_matrix, classification_report,ConfusionMatrixDisplay #plot_confusion_matrix\n"
   ]
  },
  {
   "cell_type": "code",
   "execution_count": 125,
   "metadata": {
    "id": "M441_2kkbr79",
    "outputId": "621cf809-ba7e-4307-f9f8-79bbc5a2e398"
   },
   "outputs": [
    {
     "data": {
      "text/plain": [
       "array([[172,  21],\n",
       "       [ 14, 293]], dtype=int64)"
      ]
     },
     "execution_count": 125,
     "metadata": {},
     "output_type": "execute_result"
    }
   ],
   "source": [
    "confusion_matrix(y_test,y_pred)\n",
    "\n",
    "# confition_matrix sade gösterimidir. True label ve predicted label eksenleri gösterilmediğinden kafa karışıklığına \n",
    "# neden olabilir."
   ]
  },
  {
   "cell_type": "code",
   "execution_count": 126,
   "metadata": {
    "id": "Rei33hzYbr79",
    "outputId": "29c93bc8-b5f5-4868-9320-1ad899adef8d"
   },
   "outputs": [
    {
     "data": {
      "text/plain": [
       "<sklearn.metrics._plot.confusion_matrix.ConfusionMatrixDisplay at 0x1f658730fa0>"
      ]
     },
     "execution_count": 126,
     "metadata": {},
     "output_type": "execute_result"
    },
    {
     "data": {
      "image/png": "[encoded data removed]",
      "text/plain": [
       "<Figure size 1000x600 with 2 Axes>"
      ]
     },
     "metadata": {},
     "output_type": "display_data"
    }
   ],
   "source": [
    "#manuel prediction yapmadan bu fonksiyonun çalıştığından bahset\n",
    "ConfusionMatrixDisplay.from_estimator(pipe_model,X_test, y_test,normalize='all')\n",
    "#plot_confusion_matrix(pipe_model, X_test, y_test, normalize='all');\n",
    "\n",
    "# True label ve predicted label eksenleri gösterildiğinden yorumlanması daha kolaydır.\n",
    "# TP, FP, TN, FN confition matrix üzerinden çıkarılır.\n",
    "\n",
    "# normalize=\"true\" true labela göre orantılar.\n",
    "# normalize=\"pred\" predicted labela göre orantılar.\n",
    "# normalize=\"all\" tüm dataya göre orantılar."
   ]
  },
  {
   "cell_type": "code",
   "execution_count": 127,
   "metadata": {
    "id": "KlZ19f5Ebr7-"
   },
   "outputs": [],
   "source": [
    "def eval_metric(model, X_train, y_train, X_test, y_test):\n",
    "    y_train_pred = model.predict(X_train)\n",
    "    y_pred = model.predict(X_test)\n",
    "    \n",
    "    print(\"Test_Set\")\n",
    "    print(confusion_matrix(y_test, y_pred))\n",
    "    print(classification_report(y_test, y_pred))\n",
    "    print()\n",
    "    print(\"Train_Set\")\n",
    "    print(confusion_matrix(y_train, y_train_pred))\n",
    "    print(classification_report(y_train, y_train_pred))\n",
    "    \n",
    "# hem train hem de test seti scorlarını gözlemleyebilmek için eval_metrc fornksiyonumuzu tanımlıyoruz."
   ]
  },
  {
   "cell_type": "code",
   "execution_count": 128,
   "metadata": {
    "id": "VzDRSHu6br7-",
    "outputId": "981ca19c-9bcf-4ff5-b5a0-d2efddc0eb02"
   },
   "outputs": [
    {
     "name": "stdout",
     "output_type": "stream",
     "text": [
      "Test_Set\n",
      "[[172  21]\n",
      " [ 14 293]]\n",
      "              precision    recall  f1-score   support\n",
      "\n",
      "           0       0.92      0.89      0.91       193\n",
      "           1       0.93      0.95      0.94       307\n",
      "\n",
      "    accuracy                           0.93       500\n",
      "   macro avg       0.93      0.92      0.93       500\n",
      "weighted avg       0.93      0.93      0.93       500\n",
      "\n",
      "\n",
      "Train_Set\n",
      "[[1567  240]\n",
      " [ 147 2546]]\n",
      "              precision    recall  f1-score   support\n",
      "\n",
      "           0       0.91      0.87      0.89      1807\n",
      "           1       0.91      0.95      0.93      2693\n",
      "\n",
      "    accuracy                           0.91      4500\n",
      "   macro avg       0.91      0.91      0.91      4500\n",
      "weighted avg       0.91      0.91      0.91      4500\n",
      "\n"
     ]
    }
   ],
   "source": [
    "eval_metric(pipe_model, X_train, y_train, X_test, y_test)\n",
    "\n",
    "# 1 label'ı için konuşacak olursak. \n",
    "# precision 0.93 demek yaptığım tahminlerin %93'ü isabetli anlamına geliyor.\n",
    "# recall 0.95 demek gerçekte 1 olan classların %95'ini doğru tespit ettim anlamına geliyor.\n",
    "# f1 score precision ve recall scorlarının harmonic ortalmasını verdiğinden hedef metricinize (recall, precision)  göre \n",
    "# yorumlanması gerekir. Tek başına yorumlanması yanlış yorumlanmaya sebep verir.\n",
    "\n",
    "# Datada overfiting olup olmadığı hedef classın test ve train scorları karşılaştırılarak karar verilir. Train setinin\n",
    "# scorları test datasından çok daha iyi ise arada uçurum var ise overfiting var demektir.\n",
    "\n",
    "# Ancak datanın genelindeki train ve test datasına bakarak overfiting/underfiting kararı vermiyoruz. Kesin overfiting / \n",
    "# underfiting kararını cross_validation sonrası vereceğiz."
   ]
  },
  {
   "cell_type": "markdown",
   "metadata": {
    "id": "njyk9pypbr7_"
   },
   "source": [
    "## Cross Validate"
   ]
  },
  {
   "cell_type": "code",
   "execution_count": 129,
   "metadata": {
    "id": "ks3D3mBebr7_"
   },
   "outputs": [],
   "source": [
    "from sklearn.model_selection import cross_validate"
   ]
  },
  {
   "cell_type": "code",
   "execution_count": 130,
   "metadata": {
    "id": "94DIouyhbr7_",
    "outputId": "3468380f-2102-4f00-c95f-ee2b2f5f6b1d"
   },
   "outputs": [
    {
     "data": {
      "text/plain": [
       "dict_keys(['explained_variance', 'r2', 'max_error', 'matthews_corrcoef', 'neg_median_absolute_error', 'neg_mean_absolute_error', 'neg_mean_absolute_percentage_error', 'neg_mean_squared_error', 'neg_mean_squared_log_error', 'neg_root_mean_squared_error', 'neg_mean_poisson_deviance', 'neg_mean_gamma_deviance', 'accuracy', 'top_k_accuracy', 'roc_auc', 'roc_auc_ovr', 'roc_auc_ovo', 'roc_auc_ovr_weighted', 'roc_auc_ovo_weighted', 'balanced_accuracy', 'average_precision', 'neg_log_loss', 'neg_brier_score', 'positive_likelihood_ratio', 'neg_negative_likelihood_ratio', 'adjusted_rand_score', 'rand_score', 'homogeneity_score', 'completeness_score', 'v_measure_score', 'mutual_info_score', 'adjusted_mutual_info_score', 'normalized_mutual_info_score', 'fowlkes_mallows_score', 'precision', 'precision_macro', 'precision_micro', 'precision_samples', 'precision_weighted', 'recall', 'recall_macro', 'recall_micro', 'recall_samples', 'recall_weighted', 'f1', 'f1_macro', 'f1_micro', 'f1_samples', 'f1_weighted', 'jaccard', 'jaccard_macro', 'jaccard_micro', 'jaccard_samples', 'jaccard_weighted'])"
      ]
     },
     "execution_count": 130,
     "metadata": {},
     "output_type": "execute_result"
    }
   ],
   "source": [
    "import sklearn\n",
    "sklearn.metrics.SCORERS.keys()\n",
    "\n",
    "# classification modelleri için yapacağımız cross_validation ve gridsearchcv için kullanacağımız metriclerin\n",
    "# listesi. Bu listeden kullanacağım 'accuracy', 'precision','recall','f1' metriclerini alıyorum sadece."
   ]
  },
  {
   "cell_type": "code",
   "execution_count": 131,
   "metadata": {
    "id": "nMGHfrfFbr7_"
   },
   "outputs": [],
   "source": [
    "model = Pipeline(steps=operations)\n",
    "\n",
    "scores = cross_validate(model, X_train, y_train, scoring = ['accuracy', 'precision','recall','f1'], cv = 10,\n",
    "                        return_train_score=True)\n",
    "df_scores = pd.DataFrame(scores, index = range(1, 11))\n",
    "\n",
    "\n",
    "# cross_validation üzerinden kesin overfiting/underfiting kararını verebilmek için her iterasyonda hem train hem de validation\n",
    "# seti scorlarını karşılaştırabilmek için return_train_score=True olarak düzenliyoruz.\n",
    "\n",
    "# Eğer datamıza scaling işlemi uyguladıysak Data leakegeyi engellemek için CV ve gridsearch işlemlerinde mutlaka pipeline\n",
    "# kullanmamız gerektiğini unutmuyoruz.\n",
    "\n",
    "# Aşağıda döndürülen scorlar her zaman 1 clasına ait scorlardır. 0 clasına ait metriclerin CV scorları için ilave\n",
    "# başka işlemler yapmamız gerekiyor. Sonraki derste örneği gösterilecektir."
   ]
  },
  {
   "cell_type": "code",
   "execution_count": 132,
   "metadata": {
    "id": "nYDKhjXhbr8A",
    "outputId": "385b09d8-463d-457b-ca50-6a44b33458d2"
   },
   "outputs": [
    {
     "data": {
      "text/plain": [
       "test_accuracy      0.914667\n",
       "train_accuracy     0.914000\n",
       "test_precision     0.914709\n",
       "train_precision    0.913790\n",
       "test_recall        0.946138\n",
       "train_recall       0.945496\n",
       "test_f1            0.929875\n",
       "train_f1           0.929373\n",
       "dtype: float64"
      ]
     },
     "execution_count": 132,
     "metadata": {},
     "output_type": "execute_result"
    }
   ],
   "source": [
    "df_scores.mean()[2:]\n",
    "\n",
    "# 1 labelına ait olan train ve validation scorları bu aşamada karşılaştırılıp kesin overfiting/undefiting kararı veriliyor.\n",
    "# Aşağıdaki scorlara göre overfiting olmadığını söyleyebiliriz."
   ]
  },
  {
   "cell_type": "code",
   "execution_count": 133,
   "metadata": {
    "id": "eOOg0jcLbr8A",
    "outputId": "ae39fb68-833a-488c-b236-a9e241d6b5de"
   },
   "outputs": [
    {
     "name": "stdout",
     "output_type": "stream",
     "text": [
      "Test_Set\n",
      "[[172  21]\n",
      " [ 14 293]]\n",
      "              precision    recall  f1-score   support\n",
      "\n",
      "           0       0.92      0.89      0.91       193\n",
      "           1       0.93      0.95      0.94       307\n",
      "\n",
      "    accuracy                           0.93       500\n",
      "   macro avg       0.93      0.92      0.93       500\n",
      "weighted avg       0.93      0.93      0.93       500\n",
      "\n",
      "\n",
      "Train_Set\n",
      "[[1567  240]\n",
      " [ 147 2546]]\n",
      "              precision    recall  f1-score   support\n",
      "\n",
      "           0       0.91      0.87      0.89      1807\n",
      "           1       0.91      0.95      0.93      2693\n",
      "\n",
      "    accuracy                           0.91      4500\n",
      "   macro avg       0.91      0.91      0.91      4500\n",
      "weighted avg       0.91      0.91      0.91      4500\n",
      "\n"
     ]
    }
   ],
   "source": [
    "eval_metric(pipe_model, X_train, y_train, X_test, y_test)\n",
    "\n",
    "# Burdan aldığımız scorlar modelin kesin ve nihai scorlarıdır. Bu scorlar modelin genel performansı olarak müşteriye verilecek \n",
    "# olan scorlardır. Bu scorların gerçekten tutarlı scorlar olup olmadığına CV'dan aldığımız validation seti scorları ile \n",
    "# karşılaştırarak karar veriyoruz. Eğer scorlar birbiren yakınsa test datasının scorları tutarlıdır diyebiliriz."
   ]
  },
  {
   "cell_type": "markdown",
   "metadata": {
    "id": "kfgXWFDybr8B"
   },
   "source": [
    "## ROC (Receiver Operating Curve) and AUC (Area Under Curve)"
   ]
  },
  {
   "cell_type": "markdown",
   "metadata": {
    "id": "9e2sxBulbr8B"
   },
   "source": [
    "Purpose of ROC Curve:\n",
    "\n",
    "    1. Analysing the strength/predictive power of a classifier.\n",
    "    \n",
    "    2. Determining optimal threshold.\n",
    "    \n",
    "    3. Comparing two models (using Area Under the Curve)."
   ]
  },
  {
   "cell_type": "markdown",
   "metadata": {
    "id": "VdZoLsw-br8B"
   },
   "source": [
    "AUC represents a degree or measure of separability. It tells us how much the model is capable of distinguishing between classes."
   ]
  },
  {
   "cell_type": "markdown",
   "metadata": {
    "id": "GvKOtT2Pbr8B"
   },
   "source": [
    "The ROC Curve was first used during World War II for the analysis of radar signals. After the attack on Pearl Harbor, the US army began new research to improve the rate of detection of Japanese aircraft from their radar signals. Needless to say, they did not want to miss any of them. Neither did they wish to waste their resources on false alarms. They measured the ability of a radar receiver operator to make these predictions called the Receiver Operating Characteristic. That is the origin of the name. The purpose of the curve was similar to how we use it to improve our machine learning models now. The aim was to analyse the predictive power of the predictor in ensuring the detection of as many true positives as possible while minimizing false positives.\n",
    "\n",
    "https://towardsdatascience.com/demystifying-roc-curves-df809474529a"
   ]
  },
  {
   "cell_type": "markdown",
   "metadata": {
    "id": "sjQm1iWqbr8C"
   },
   "source": [
    "## ROC AUC Curve\n",
    "\n",
    "![ROC.gif](attachment:ROC.gif)"
   ]
  },
  {
   "cell_type": "markdown",
   "metadata": {
    "id": "ZOnuUMaSbr8C"
   },
   "source": [
    "## ROC AUC and Precision Recall Curve\n",
    "\n",
    "![PR.gif](attachment:PR.gif)"
   ]
  },
  {
   "cell_type": "markdown",
   "metadata": {
    "id": "AnvXtwh4br8C"
   },
   "source": [
    "## For Imbalanced Data ROC AUC and Precsion-Recall Curve\n",
    "\n",
    "![imbalance.gif](attachment:imbalance.gif)"
   ]
  },
  {
   "cell_type": "code",
   "execution_count": 134,
   "metadata": {
    "id": "O2LWlNbGbr8C"
   },
   "outputs": [],
   "source": [
    "from sklearn.metrics import roc_auc_score, auc, roc_curve, RocCurveDisplay, PrecisionRecallDisplay\n",
    "#plot_roc_curve, plot_precision_recall_curve\n",
    "\n",
    "# classification problemlerinde model performansı için baktığımız metriclerden bir tanesi de dengeli data setleri için\n",
    "# ROC-AUC scoru, dengesiz data setleri için average precision scoruna bakılır.\n",
    "\n",
    "# dengesiz data setleri için AUC score çok daha iyimser scorlar (yanlış scorlar) döndürdüğünden kullanılmaz.\n",
    "\n",
    "# bu scorlar modelin genel performansı olarak isimlendirilir ve modelin hedef classımızı diğer class/classlardan ayrıştırma da\n",
    "# ne kadar başarılı olduğunu gösterir."
   ]
  },
  {
   "cell_type": "code",
   "execution_count": 135,
   "metadata": {
    "id": "hvCVVzDHbr8C",
    "outputId": "4b4f4a8e-d491-4ad1-bbe4-44dfb2defd1b"
   },
   "outputs": [
    {
     "data": {
      "text/plain": [
       "<sklearn.metrics._plot.roc_curve.RocCurveDisplay at 0x1f658fcabf0>"
      ]
     },
     "execution_count": 135,
     "metadata": {},
     "output_type": "execute_result"
    },
    {
     "data": {
      "image/png": "[encoded data removed]",
      "text/plain": [
       "<Figure size 1000x600 with 1 Axes>"
      ]
     },
     "metadata": {},
     "output_type": "display_data"
    }
   ],
   "source": [
    "#plot_roc_curve(pipe_model, X_test, y_test);\n",
    "RocCurveDisplay.from_estimator(pipe_model, X_test, y_test)\n",
    "# datam dengeli olduğundan AUC scoruna bakıyoruz. AUC =0.96 modelim 1 labelını 0 labelından ayrıştırmada ortalama %96 oranında\n",
    "# başarılı demek."
   ]
  },
  {
   "cell_type": "code",
   "execution_count": 136,
   "metadata": {
    "id": "0Rxq05xVbr8D",
    "outputId": "0f56eaa0-8e3e-457b-8fe3-0771a83c3999"
   },
   "outputs": [
    {
     "data": {
      "text/plain": [
       "0.9630132824762451"
      ]
     },
     "execution_count": 136,
     "metadata": {},
     "output_type": "execute_result"
    }
   ],
   "source": [
    "roc_auc_score(y_test, y_pred_proba[:,1])\n",
    "\n",
    "# AUC scru için y_test ile 1 sınıfına ait olam olasılıkları roc_auc_score fonksiyonu içine birlikte verilir."
   ]
  },
  {
   "cell_type": "code",
   "execution_count": 137,
   "metadata": {
    "id": "WTzv-zsEbr8D",
    "outputId": "ba516ec2-c9d3-46c9-e879-4d599fd37847"
   },
   "outputs": [
    {
     "data": {
      "text/plain": [
       "0.9227945519906837"
      ]
     },
     "execution_count": 137,
     "metadata": {},
     "output_type": "execute_result"
    }
   ],
   "source": [
    "roc_auc_score(y_test, y_pred)\n",
    "\n",
    "# y_pred verilmez aksi takdirde aldığınız score yanlış olur."
   ]
  },
  {
   "cell_type": "code",
   "execution_count": 138,
   "metadata": {
    "id": "m8BsbLUvbr8D",
    "outputId": "054de5d0-f0eb-4f1c-def8-e3df1df9338f"
   },
   "outputs": [
    {
     "data": {
      "text/plain": [
       "<sklearn.metrics._plot.precision_recall_curve.PrecisionRecallDisplay at 0x1f659ef3e50>"
      ]
     },
     "execution_count": 138,
     "metadata": {},
     "output_type": "execute_result"
    },
    {
     "data": {
      "image/png": "[encoded data removed]",
      "text/plain": [
       "<Figure size 1000x600 with 1 Axes>"
      ]
     },
     "metadata": {},
     "output_type": "display_data"
    }
   ],
   "source": [
    "#plot_precision_recall_curve(pipe_model, X_test, y_test);\n",
    "PrecisionRecallDisplay.from_estimator(pipe_model, X_test, y_test)\n",
    "\n",
    "# dengeli data setlerinde hem AUC score hem de Average precision score birbirlerine yakın değerler döndürse de\n",
    "# dengeli data setleri için AUC, dengesiz veri setleri için average precision scorlarını kullanmayı alışkanlık haline getirelim."
   ]
  },
  {
   "cell_type": "markdown",
   "metadata": {
    "id": "qJH3QRP6br8D"
   },
   "source": [
    "## Final Model and Model Deployment without Pipeline"
   ]
  },
  {
   "cell_type": "code",
   "execution_count": 139,
   "metadata": {
    "id": "M-sYn8Bkbr8E"
   },
   "outputs": [],
   "source": [
    "scaler = StandardScaler().fit(X)"
   ]
  },
  {
   "cell_type": "code",
   "execution_count": 140,
   "metadata": {
    "id": "uxSnsnZobr8E"
   },
   "outputs": [],
   "source": [
    "import pickle\n",
    "pickle.dump(scaler, open(\"scaler_hearing\", 'wb'))"
   ]
  },
  {
   "cell_type": "code",
   "execution_count": 141,
   "metadata": {
    "id": "FYWApYg2br8E"
   },
   "outputs": [],
   "source": [
    "X_scaled = scaler.transform(X)"
   ]
  },
  {
   "cell_type": "code",
   "execution_count": 142,
   "metadata": {
    "id": "nfxncDkZbr8E"
   },
   "outputs": [],
   "source": [
    "final_model = LogisticRegression().fit(X_scaled, y)"
   ]
  },
  {
   "cell_type": "code",
   "execution_count": 143,
   "metadata": {
    "id": "_TSG0Afsbr8E"
   },
   "outputs": [],
   "source": [
    "pickle.dump(final_model, open(\"final_model_hearing\", 'wb'))"
   ]
  },
  {
   "cell_type": "code",
   "execution_count": 144,
   "metadata": {
    "id": "zZQqh_Eebr8E"
   },
   "outputs": [],
   "source": [
    "my_dict = {\"age\": [20, 30, 40, 50, 60],\n",
    "           \"physical_score\": [50, 30, 20, 10, 5]}"
   ]
  },
  {
   "cell_type": "code",
   "execution_count": 145,
   "metadata": {
    "id": "4EJRYO9fbr8E",
    "outputId": "9bf48851-57e2-4b63-ecd1-b80a79e33ad7"
   },
   "outputs": [
    {
     "data": {
      "text/html": [
       "<div>\n",
       "<style scoped>\n",
       "    .dataframe tbody tr th:only-of-type {\n",
       "        vertical-align: middle;\n",
       "    }\n",
       "\n",
       "    .dataframe tbody tr th {\n",
       "        vertical-align: top;\n",
       "    }\n",
       "\n",
       "    .dataframe thead th {\n",
       "        text-align: right;\n",
       "    }\n",
       "</style>\n",
       "<table border=\"1\" class=\"dataframe\">\n",
       "  <thead>\n",
       "    <tr style=\"text-align: right;\">\n",
       "      <th></th>\n",
       "      <th>age</th>\n",
       "      <th>physical_score</th>\n",
       "    </tr>\n",
       "  </thead>\n",
       "  <tbody>\n",
       "    <tr>\n",
       "      <th>0</th>\n",
       "      <td>20</td>\n",
       "      <td>50</td>\n",
       "    </tr>\n",
       "    <tr>\n",
       "      <th>1</th>\n",
       "      <td>30</td>\n",
       "      <td>30</td>\n",
       "    </tr>\n",
       "    <tr>\n",
       "      <th>2</th>\n",
       "      <td>40</td>\n",
       "      <td>20</td>\n",
       "    </tr>\n",
       "    <tr>\n",
       "      <th>3</th>\n",
       "      <td>50</td>\n",
       "      <td>10</td>\n",
       "    </tr>\n",
       "    <tr>\n",
       "      <th>4</th>\n",
       "      <td>60</td>\n",
       "      <td>5</td>\n",
       "    </tr>\n",
       "  </tbody>\n",
       "</table>\n",
       "</div>"
      ],
      "text/plain": [
       "   age  physical_score\n",
       "0   20              50\n",
       "1   30              30\n",
       "2   40              20\n",
       "3   50              10\n",
       "4   60               5"
      ]
     },
     "execution_count": 145,
     "metadata": {},
     "output_type": "execute_result"
    }
   ],
   "source": [
    "sample = pd.DataFrame(my_dict)\n",
    "sample"
   ]
  },
  {
   "cell_type": "code",
   "execution_count": 146,
   "metadata": {
    "id": "nahEBRyybr8F"
   },
   "outputs": [],
   "source": [
    "scaler_hearing = pickle.load(open(\"scaler_hearing\", \"rb\"))"
   ]
  },
  {
   "cell_type": "code",
   "execution_count": 147,
   "metadata": {
    "id": "xJiVn46mbr8F",
    "outputId": "fcde6047-b2d7-4450-874f-5e0be482d3fd"
   },
   "outputs": [
    {
     "data": {
      "text/plain": [
       "array([[-2.80075819,  2.11038956],\n",
       "       [-1.91469467, -0.33789511],\n",
       "       [-1.02863115, -1.56203745],\n",
       "       [-0.14256762, -2.78617979],\n",
       "       [ 0.7434959 , -3.39825096]])"
      ]
     },
     "execution_count": 147,
     "metadata": {},
     "output_type": "execute_result"
    }
   ],
   "source": [
    "sample_scaled = scaler_hearing.transform(sample)\n",
    "sample_scaled"
   ]
  },
  {
   "cell_type": "code",
   "execution_count": 148,
   "metadata": {
    "id": "v4c3tQmibr8F"
   },
   "outputs": [],
   "source": [
    "final_model = pickle.load(open(\"final_model_hearing\", \"rb\"))"
   ]
  },
  {
   "cell_type": "code",
   "execution_count": 149,
   "metadata": {
    "id": "sNR7locubr8F"
   },
   "outputs": [],
   "source": [
    "predictions = final_model.predict(sample_scaled)\n",
    "predictions_proba = final_model.predict_proba(sample_scaled)"
   ]
  },
  {
   "cell_type": "code",
   "execution_count": 150,
   "metadata": {
    "id": "ooNMDOLKbr8G",
    "outputId": "97c98c84-032f-4052-dee7-bf34c9611c9b"
   },
   "outputs": [
    {
     "data": {
      "text/plain": [
       "array([1, 1, 0, 0, 0], dtype=int64)"
      ]
     },
     "execution_count": 150,
     "metadata": {},
     "output_type": "execute_result"
    }
   ],
   "source": [
    "predictions"
   ]
  },
  {
   "cell_type": "code",
   "execution_count": 151,
   "metadata": {
    "id": "72OaWWGYbr8H",
    "outputId": "a1505d4e-16d4-4153-dc36-ac121868d36a"
   },
   "outputs": [
    {
     "data": {
      "text/plain": [
       "array([9.99970203e-01, 7.30358070e-01, 1.61805230e-02, 9.98533190e-05,\n",
       "       5.25930939e-06])"
      ]
     },
     "execution_count": 151,
     "metadata": {},
     "output_type": "execute_result"
    }
   ],
   "source": [
    "predictions_proba[:,1]"
   ]
  },
  {
   "cell_type": "markdown",
   "metadata": {
    "id": "xYqhEmDpbr8H"
   },
   "source": [
    "## Final Model and Model Deployment with Pipeline"
   ]
  },
  {
   "cell_type": "code",
   "execution_count": 152,
   "metadata": {
    "id": "CZknjqfBbr8H",
    "outputId": "5f6eb36b-4169-4d1e-8dfa-cfe44b40a1cd"
   },
   "outputs": [
    {
     "data": {
      "text/html": [
       "<style>#sk-container-id-6 {color: black;background-color: white;}#sk-container-id-6 pre{padding: 0;}#sk-container-id-6 div.sk-toggleable {background-color: white;}#sk-container-id-6 label.sk-toggleable__label {cursor: pointer;display: block;width: 100%;margin-bottom: 0;padding: 0.3em;box-sizing: border-box;text-align: center;}#sk-container-id-6 label.sk-toggleable__label-arrow:before {content: \"▸\";float: left;margin-right: 0.25em;color: #696969;}#sk-container-id-6 label.sk-toggleable__label-arrow:hover:before {color: black;}#sk-container-id-6 div.sk-estimator:hover label.sk-toggleable__label-arrow:before {color: black;}#sk-container-id-6 div.sk-toggleable__content {max-height: 0;max-width: 0;overflow: hidden;text-align: left;background-color: #f0f8ff;}#sk-container-id-6 div.sk-toggleable__content pre {margin: 0.2em;color: black;border-radius: 0.25em;background-color: #f0f8ff;}#sk-container-id-6 input.sk-toggleable__control:checked~div.sk-toggleable__content {max-height: 200px;max-width: 100%;overflow: auto;}#sk-container-id-6 input.sk-toggleable__control:checked~label.sk-toggleable__label-arrow:before {content: \"▾\";}#sk-container-id-6 div.sk-estimator input.sk-toggleable__control:checked~label.sk-toggleable__label {background-color: #d4ebff;}#sk-container-id-6 div.sk-label input.sk-toggleable__control:checked~label.sk-toggleable__label {background-color: #d4ebff;}#sk-container-id-6 input.sk-hidden--visually {border: 0;clip: rect(1px 1px 1px 1px);clip: rect(1px, 1px, 1px, 1px);height: 1px;margin: -1px;overflow: hidden;padding: 0;position: absolute;width: 1px;}#sk-container-id-6 div.sk-estimator {font-family: monospace;background-color: #f0f8ff;border: 1px dotted black;border-radius: 0.25em;box-sizing: border-box;margin-bottom: 0.5em;}#sk-container-id-6 div.sk-estimator:hover {background-color: #d4ebff;}#sk-container-id-6 div.sk-parallel-item::after {content: \"\";width: 100%;border-bottom: 1px solid gray;flex-grow: 1;}#sk-container-id-6 div.sk-label:hover label.sk-toggleable__label {background-color: #d4ebff;}#sk-container-id-6 div.sk-serial::before {content: \"\";position: absolute;border-left: 1px solid gray;box-sizing: border-box;top: 0;bottom: 0;left: 50%;z-index: 0;}#sk-container-id-6 div.sk-serial {display: flex;flex-direction: column;align-items: center;background-color: white;padding-right: 0.2em;padding-left: 0.2em;position: relative;}#sk-container-id-6 div.sk-item {position: relative;z-index: 1;}#sk-container-id-6 div.sk-parallel {display: flex;align-items: stretch;justify-content: center;background-color: white;position: relative;}#sk-container-id-6 div.sk-item::before, #sk-container-id-6 div.sk-parallel-item::before {content: \"\";position: absolute;border-left: 1px solid gray;box-sizing: border-box;top: 0;bottom: 0;left: 50%;z-index: -1;}#sk-container-id-6 div.sk-parallel-item {display: flex;flex-direction: column;z-index: 1;position: relative;background-color: white;}#sk-container-id-6 div.sk-parallel-item:first-child::after {align-self: flex-end;width: 50%;}#sk-container-id-6 div.sk-parallel-item:last-child::after {align-self: flex-start;width: 50%;}#sk-container-id-6 div.sk-parallel-item:only-child::after {width: 0;}#sk-container-id-6 div.sk-dashed-wrapped {border: 1px dashed gray;margin: 0 0.4em 0.5em 0.4em;box-sizing: border-box;padding-bottom: 0.4em;background-color: white;}#sk-container-id-6 div.sk-label label {font-family: monospace;font-weight: bold;display: inline-block;line-height: 1.2em;}#sk-container-id-6 div.sk-label-container {text-align: center;}#sk-container-id-6 div.sk-container {/* jupyter's `normalize.less` sets `[hidden] { display: none; }` but bootstrap.min.css set `[hidden] { display: none !important; }` so we also need the `!important` here to be able to override the default hidden behavior on the sphinx rendered scikit-learn.org. See: https://github.com/scikit-learn/scikit-learn/issues/21755 */display: inline-block !important;position: relative;}#sk-container-id-6 div.sk-text-repr-fallback {display: none;}</style><div id=\"sk-container-id-6\" class=\"sk-top-container\"><div class=\"sk-text-repr-fallback\"><pre>Pipeline(steps=[(&#x27;scaler&#x27;, StandardScaler()),\n",
       "                (&#x27;logistic&#x27;, LogisticRegression())])</pre><b>In a Jupyter environment, please rerun this cell to show the HTML representation or trust the notebook. <br />On GitHub, the HTML representation is unable to render, please try loading this page with nbviewer.org.</b></div><div class=\"sk-container\" hidden><div class=\"sk-item sk-dashed-wrapped\"><div class=\"sk-label-container\"><div class=\"sk-label sk-toggleable\"><input class=\"sk-toggleable__control sk-hidden--visually\" id=\"sk-estimator-id-12\" type=\"checkbox\" ><label for=\"sk-estimator-id-12\" class=\"sk-toggleable__label sk-toggleable__label-arrow\">Pipeline</label><div class=\"sk-toggleable__content\"><pre>Pipeline(steps=[(&#x27;scaler&#x27;, StandardScaler()),\n",
       "                (&#x27;logistic&#x27;, LogisticRegression())])</pre></div></div></div><div class=\"sk-serial\"><div class=\"sk-item\"><div class=\"sk-estimator sk-toggleable\"><input class=\"sk-toggleable__control sk-hidden--visually\" id=\"sk-estimator-id-13\" type=\"checkbox\" ><label for=\"sk-estimator-id-13\" class=\"sk-toggleable__label sk-toggleable__label-arrow\">StandardScaler</label><div class=\"sk-toggleable__content\"><pre>StandardScaler()</pre></div></div></div><div class=\"sk-item\"><div class=\"sk-estimator sk-toggleable\"><input class=\"sk-toggleable__control sk-hidden--visually\" id=\"sk-estimator-id-14\" type=\"checkbox\" ><label for=\"sk-estimator-id-14\" class=\"sk-toggleable__label sk-toggleable__label-arrow\">LogisticRegression</label><div class=\"sk-toggleable__content\"><pre>LogisticRegression()</pre></div></div></div></div></div></div></div>"
      ],
      "text/plain": [
       "Pipeline(steps=[('scaler', StandardScaler()),\n",
       "                ('logistic', LogisticRegression())])"
      ]
     },
     "execution_count": 152,
     "metadata": {},
     "output_type": "execute_result"
    }
   ],
   "source": [
    "operations = [(\"scaler\", StandardScaler()), (\"logistic\", LogisticRegression())]\n",
    "\n",
    "final_model = Pipeline(steps=operations)\n",
    "\n",
    "final_model.fit(X, y)"
   ]
  },
  {
   "cell_type": "code",
   "execution_count": 153,
   "metadata": {
    "id": "fcB4uzhEbr8I"
   },
   "outputs": [],
   "source": [
    "import pickle\n",
    "pickle.dump(final_model, open(\"final_pipe_model\", 'wb'))"
   ]
  },
  {
   "cell_type": "code",
   "execution_count": 154,
   "metadata": {
    "id": "_3VWrou5br8J"
   },
   "outputs": [],
   "source": [
    "new_model = pickle.load(open(\"final_pipe_model\", \"rb\"))"
   ]
  },
  {
   "cell_type": "code",
   "execution_count": 155,
   "metadata": {
    "id": "3QlajilVbr8J",
    "outputId": "bdf1a5ce-83d8-4935-c9eb-f09e8052dd31"
   },
   "outputs": [
    {
     "data": {
      "text/plain": [
       "array([1, 1, 0, 0, 0], dtype=int64)"
      ]
     },
     "execution_count": 155,
     "metadata": {},
     "output_type": "execute_result"
    }
   ],
   "source": [
    "new_model.predict(sample)"
   ]
  },
  {
   "cell_type": "code",
   "execution_count": 156,
   "metadata": {
    "id": "XBVpFb_3br8J",
    "outputId": "f3092142-9097-46c0-f5c2-f7b9d211f82d"
   },
   "outputs": [
    {
     "data": {
      "text/plain": [
       "array([9.99970203e-01, 7.30358070e-01, 1.61805230e-02, 9.98533190e-05,\n",
       "       5.25930939e-06])"
      ]
     },
     "execution_count": 156,
     "metadata": {},
     "output_type": "execute_result"
    }
   ],
   "source": [
    "new_model.predict_proba(sample)[:,1]"
   ]
  },
  {
   "cell_type": "code",
   "execution_count": 157,
   "metadata": {
    "id": "qSCKio4Bbr8J",
    "outputId": "c18687d7-5f06-4442-e12d-1d61cd1dcc15"
   },
   "outputs": [
    {
     "data": {
      "text/html": [
       "<div>\n",
       "<style scoped>\n",
       "    .dataframe tbody tr th:only-of-type {\n",
       "        vertical-align: middle;\n",
       "    }\n",
       "\n",
       "    .dataframe tbody tr th {\n",
       "        vertical-align: top;\n",
       "    }\n",
       "\n",
       "    .dataframe thead th {\n",
       "        text-align: right;\n",
       "    }\n",
       "</style>\n",
       "<table border=\"1\" class=\"dataframe\">\n",
       "  <thead>\n",
       "    <tr style=\"text-align: right;\">\n",
       "      <th></th>\n",
       "      <th>age</th>\n",
       "      <th>physical_score</th>\n",
       "      <th>pred</th>\n",
       "      <th>pred_proba</th>\n",
       "    </tr>\n",
       "  </thead>\n",
       "  <tbody>\n",
       "    <tr>\n",
       "      <th>0</th>\n",
       "      <td>20</td>\n",
       "      <td>50</td>\n",
       "      <td>1</td>\n",
       "      <td>0.999970</td>\n",
       "    </tr>\n",
       "    <tr>\n",
       "      <th>1</th>\n",
       "      <td>30</td>\n",
       "      <td>30</td>\n",
       "      <td>1</td>\n",
       "      <td>0.730358</td>\n",
       "    </tr>\n",
       "    <tr>\n",
       "      <th>2</th>\n",
       "      <td>40</td>\n",
       "      <td>20</td>\n",
       "      <td>0</td>\n",
       "      <td>0.016181</td>\n",
       "    </tr>\n",
       "    <tr>\n",
       "      <th>3</th>\n",
       "      <td>50</td>\n",
       "      <td>10</td>\n",
       "      <td>0</td>\n",
       "      <td>0.000100</td>\n",
       "    </tr>\n",
       "    <tr>\n",
       "      <th>4</th>\n",
       "      <td>60</td>\n",
       "      <td>5</td>\n",
       "      <td>0</td>\n",
       "      <td>0.000005</td>\n",
       "    </tr>\n",
       "  </tbody>\n",
       "</table>\n",
       "</div>"
      ],
      "text/plain": [
       "   age  physical_score  pred  pred_proba\n",
       "0   20              50     1    0.999970\n",
       "1   30              30     1    0.730358\n",
       "2   40              20     0    0.016181\n",
       "3   50              10     0    0.000100\n",
       "4   60               5     0    0.000005"
      ]
     },
     "execution_count": 157,
     "metadata": {},
     "output_type": "execute_result"
    }
   ],
   "source": [
    "sample[\"pred\"] = predictions\n",
    "sample[\"pred_proba\"] = predictions_proba[:,1]\n",
    "sample"
   ]
  },
  {
   "cell_type": "code",
   "execution_count": null,
   "metadata": {
    "id": "dIOela5Mbr8J"
   },
   "outputs": [],
   "source": []
  }
 ],
 "metadata": {
  "colab": {
   "provenance": []
  },
  "kernelspec": {
   "display_name": "Python 3 (ipykernel)",
   "language": "python",
   "name": "python3"
  },
  "language_info": {
   "codemirror_mode": {
    "name": "ipython",
    "version": 3
   },
   "file_extension": ".py",
   "mimetype": "text/x-python",
   "name": "python",
   "nbconvert_exporter": "python",
   "pygments_lexer": "ipython3",
   "version": "3.9.12"
  }
 },
 "nbformat": 4,
 "nbformat_minor": 1
}
